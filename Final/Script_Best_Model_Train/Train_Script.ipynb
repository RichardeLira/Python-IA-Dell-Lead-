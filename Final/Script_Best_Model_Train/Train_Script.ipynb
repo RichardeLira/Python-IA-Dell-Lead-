{
 "cells": [
  {
   "cell_type": "code",
   "execution_count": 2,
   "metadata": {},
   "outputs": [
    {
     "name": "stderr",
     "output_type": "stream",
     "text": [
      "c:\\Users\\Rícharde\\AppData\\Local\\Programs\\Python\\Python310\\lib\\site-packages\\tqdm\\auto.py:22: TqdmWarning: IProgress not found. Please update jupyter and ipywidgets. See https://ipywidgets.readthedocs.io/en/stable/user_install.html\n",
      "  from .autonotebook import tqdm as notebook_tqdm\n"
     ]
    }
   ],
   "source": [
    "import pandas as pd \n",
    "import numpy as np\n",
    "from sklearn.model_selection import StratifiedKFold\n",
    "from sklearn.model_selection import GridSearchCV\n",
    "from sklearn.naive_bayes  import GaussianNB\n",
    "from sklearn.naive_bayes import MultinomialNB\n",
    "from sklearn.feature_extraction.text import CountVectorizer\n",
    "from sklearn.feature_extraction.text import TfidfVectorizer\n",
    "from sklearn.model_selection import RandomizedSearchCV\n",
    "from sklearn import preprocessing\n",
    "from sklearn.pipeline import Pipeline\n",
    "from pre_processing import *\n",
    "import joblib\n"
   ]
  },
  {
   "cell_type": "code",
   "execution_count": 3,
   "metadata": {},
   "outputs": [],
   "source": [
    "train_df = pd.read_csv(r'C:\\Users\\Rícharde\\Desktop\\Python IA\\Python-IA-Dell-Lead-\\Final\\train_binary_small.csv')\n",
    "test_df = pd.read_csv(r'C:\\Users\\Rícharde\\Desktop\\Python IA\\Python-IA-Dell-Lead-\\Final\\test_binary_small.csv')"
   ]
  },
  {
   "cell_type": "code",
   "execution_count": 4,
   "metadata": {},
   "outputs": [],
   "source": [
    "label_enconder = preprocessing.LabelEncoder()\n",
    "train_df['Toxic'] = label_enconder.fit_transform(train_df['Toxic'])\n",
    "test_df['Toxic'] = label_enconder.fit_transform(test_df['Toxic'])"
   ]
  },
  {
   "cell_type": "markdown",
   "metadata": {},
   "source": [
    "# Preparing DataSet of train and Test:"
   ]
  },
  {
   "cell_type": "code",
   "execution_count": 5,
   "metadata": {},
   "outputs": [],
   "source": [
    "def pre_processing(df,local_data):\n",
    "    # Basic Clear Data \n",
    "    pre_proces = Pre_Processing()\n",
    "    df[local_data] = df[local_data].apply(lambda local_data: pre_proces.expand_contractions(local_data))\n",
    "    df[local_data] = df[local_data].apply(lambda local_data: pre_proces.lower_case(local_data))\n",
    "    df[local_data] = df[local_data].apply(lambda local_data: pre_proces.clean_text(local_data))\n",
    "    df[local_data] = df[local_data].apply(lambda local_data: pre_proces.remove_extra_spaces(local_data))\n",
    "    return df "
   ]
  },
  {
   "cell_type": "code",
   "execution_count": 6,
   "metadata": {},
   "outputs": [],
   "source": [
    "train_df = pre_processing(train_df,'comment_text')\n",
    "test_df  = pre_processing(test_df,'comment_text')"
   ]
  },
  {
   "cell_type": "code",
   "execution_count": 7,
   "metadata": {},
   "outputs": [],
   "source": [
    "stemming_pre = Pre_Processing()\n",
    "train_df['comment_text'] = train_df['comment_text'].apply(lambda x: stemming_pre.stemming(x))\n",
    "test_df['comment_text'] = test_df['comment_text'].apply(lambda x: stemming_pre.stemming(x))"
   ]
  },
  {
   "cell_type": "code",
   "execution_count": 8,
   "metadata": {},
   "outputs": [],
   "source": [
    "df_train_copy = train_df.copy()\n",
    "df_test_copy  = test_df.copy()"
   ]
  },
  {
   "cell_type": "markdown",
   "metadata": {},
   "source": [
    "# Training model "
   ]
  },
  {
   "cell_type": "code",
   "execution_count": 9,
   "metadata": {},
   "outputs": [],
   "source": [
    "list_preprocessing =[\n",
    "    'comment_text',\n",
    "    ]"
   ]
  },
  {
   "cell_type": "code",
   "execution_count": 10,
   "metadata": {},
   "outputs": [
    {
     "name": "stdout",
     "output_type": "stream",
     "text": [
      "[INFO] pre_processed_stemming__Bayes__TFIDF\n",
      "0.7505019990049929\n"
     ]
    }
   ],
   "source": [
    "from model_best import *\n",
    "import model_best\n",
    "import importlib\n",
    "importlib.reload(model_best)\n",
    "\n",
    "cv = 6\n",
    "all_scores = {}\n",
    "model_params = {}\n",
    "vectorizer_name = 'TFIDF'\n",
    "\n",
    "vectorizer = TfidfVectorizer()\n",
    "model = MultinomialNB()\n",
    "param = np.logspace(10,0.0001, num=50)\n",
    "\n",
    "pipeline = Pipeline([(\"vect\", vectorizer), (\"clf\", model)])\n",
    "\n",
    "for param_name, parameters in VECTORIZERS_PARAMS.items():\n",
    "        new_name = 'vect__'+param_name\n",
    "        model_params[new_name] = parameters\n",
    "        new_name = 'clf__'+ 'alpha'\n",
    "        model_params[new_name] = param\n",
    "\n",
    "for step in list_preprocessing:\n",
    "    X_train = df_train_copy[step].values.astype('U')\n",
    "    y_train = df_train_copy['Toxic'].to_list()\n",
    "\n",
    "    X_test = df_test_copy[step].values.astype('U')\n",
    "    y_test = df_test_copy['Toxic'].to_list()\n",
    "\n",
    "    approach_name = (\"pre_processed_stemming__Bayes__TFIDF\")\n",
    "    \n",
    "    inner_cv = StratifiedKFold(n_splits=cv, shuffle=True, random_state=1)\n",
    "    \n",
    "    rs = GridSearchCV(pipeline, model_params, cv=inner_cv, n_jobs=-1,)\n",
    "    \n",
    "    rs.fit(X_train, y_train)\n",
    "    \n",
    "    print(f'[INFO] {approach_name}')\n",
    "    print(rs.best_score_)\n",
    "\n",
    "    dst_file = f'C:/Users/Rícharde/Desktop/Python IA/Python-IA-Dell-Lead-/Final/Best_model/{approach_name}.pkl'\n",
    "    joblib.dump(rs,dst_file)"
   ]
  }
 ],
 "metadata": {
  "kernelspec": {
   "display_name": "Python 3.10.4 64-bit (system)",
   "language": "python",
   "name": "python3"
  },
  "language_info": {
   "codemirror_mode": {
    "name": "ipython",
    "version": 3
   },
   "file_extension": ".py",
   "mimetype": "text/x-python",
   "name": "python",
   "nbconvert_exporter": "python",
   "pygments_lexer": "ipython3",
   "version": "3.10.4"
  },
  "orig_nbformat": 4,
  "vscode": {
   "interpreter": {
    "hash": "43241d3e6bb1972c551f4c6aa4b3e6bb2f4e84c18abfcaae8493a58a132971b8"
   }
  }
 },
 "nbformat": 4,
 "nbformat_minor": 2
}
