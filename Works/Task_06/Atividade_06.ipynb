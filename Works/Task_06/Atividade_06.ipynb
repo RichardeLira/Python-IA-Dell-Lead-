{
 "cells": [
  {
   "cell_type": "markdown",
   "metadata": {},
   "source": [
    "Library imports"
   ]
  },
  {
   "cell_type": "code",
   "execution_count": 75,
   "metadata": {},
   "outputs": [
    {
     "name": "stderr",
     "output_type": "stream",
     "text": [
      "WARNING:root:ignore\n",
      "[nltk_data] Downloading package punkt to\n",
      "[nltk_data]     C:\\Users\\Rícharde\\AppData\\Roaming\\nltk_data...\n",
      "[nltk_data]   Package punkt is already up-to-date!\n",
      "[nltk_data] Downloading package stopwords to\n",
      "[nltk_data]     C:\\Users\\Rícharde\\AppData\\Roaming\\nltk_data...\n",
      "[nltk_data]   Package stopwords is already up-to-date!\n"
     ]
    },
    {
     "data": {
      "text/plain": [
       "True"
      ]
     },
     "execution_count": 75,
     "metadata": {},
     "output_type": "execute_result"
    }
   ],
   "source": [
    "from logging import warning\n",
    "import pandas as pd \n",
    "import numpy as np\n",
    "import re\n",
    "import nltk\n",
    "import heapq\n",
    "import string\n",
    "# NLP tools\n",
    "import contractions\n",
    "from nltk.tokenize import word_tokenize\n",
    "from sklearn.feature_extraction.text import CountVectorizer\n",
    "from sklearn.feature_extraction.text import TfidfTransformer\n",
    "from sklearn.feature_extraction.text import TfidfVectorizer\n",
    "from sklearn.preprocessing import LabelBinarizer\n",
    "from nltk.stem import WordNetLemmatizer\n",
    "from nltk.corpus import stopwords\n",
    "# Machine Learning Models\n",
    "from sklearn.neighbors import KNeighborsClassifier\n",
    "from sklearn.ensemble import RandomForestClassifier\n",
    "from sklearn.naive_bayes  import GaussianNB\n",
    "from sklearn.neural_network import MLPClassifier\n",
    "from sklearn.svm import SVC \n",
    "from sklearn.tree import DecisionTreeClassifier\n",
    "# Hold out / Grid / Pipeline\n",
    "from sklearn.model_selection import train_test_split\n",
    "from sklearn.model_selection import GridSearchCV\n",
    "from sklearn.model_selection import KFold\n",
    "from sklearn.pipeline import Pipeline\n",
    "# Metrics \n",
    "from sklearn.metrics import accuracy_score\n",
    "from sklearn.metrics import f1_score\n",
    "# .Config \n",
    "warning(\"ignore\")\n",
    "nltk.download('punkt')\n",
    "nltk.download('stopwords')\n"
   ]
  },
  {
   "cell_type": "markdown",
   "metadata": {},
   "source": [
    "# Utilize o arquivo moviesreviews.tsv (sep = ‘\\t’)."
   ]
  },
  {
   "cell_type": "code",
   "execution_count": 3,
   "metadata": {},
   "outputs": [],
   "source": [
    "reviews_df = pd.read_csv(r\"C:\\Users\\Rícharde\\Documents\\Dell lead\\Atividade 06\\moviereviews.tsv\", sep='\\t')"
   ]
  },
  {
   "cell_type": "code",
   "execution_count": 4,
   "metadata": {},
   "outputs": [
    {
     "data": {
      "text/html": [
       "<div>\n",
       "<style scoped>\n",
       "    .dataframe tbody tr th:only-of-type {\n",
       "        vertical-align: middle;\n",
       "    }\n",
       "\n",
       "    .dataframe tbody tr th {\n",
       "        vertical-align: top;\n",
       "    }\n",
       "\n",
       "    .dataframe thead th {\n",
       "        text-align: right;\n",
       "    }\n",
       "</style>\n",
       "<table border=\"1\" class=\"dataframe\">\n",
       "  <thead>\n",
       "    <tr style=\"text-align: right;\">\n",
       "      <th></th>\n",
       "      <th>label</th>\n",
       "      <th>review</th>\n",
       "    </tr>\n",
       "  </thead>\n",
       "  <tbody>\n",
       "    <tr>\n",
       "      <th>0</th>\n",
       "      <td>neg</td>\n",
       "      <td>how do films like mouse hunt get into theatres...</td>\n",
       "    </tr>\n",
       "    <tr>\n",
       "      <th>1</th>\n",
       "      <td>neg</td>\n",
       "      <td>some talented actresses are blessed with a dem...</td>\n",
       "    </tr>\n",
       "    <tr>\n",
       "      <th>2</th>\n",
       "      <td>pos</td>\n",
       "      <td>this has been an extraordinary year for austra...</td>\n",
       "    </tr>\n",
       "    <tr>\n",
       "      <th>3</th>\n",
       "      <td>pos</td>\n",
       "      <td>according to hollywood movies made in last few...</td>\n",
       "    </tr>\n",
       "    <tr>\n",
       "      <th>4</th>\n",
       "      <td>neg</td>\n",
       "      <td>my first press screening of 1998 and already i...</td>\n",
       "    </tr>\n",
       "    <tr>\n",
       "      <th>5</th>\n",
       "      <td>neg</td>\n",
       "      <td>to put it bluntly , ed wood would have been pr...</td>\n",
       "    </tr>\n",
       "    <tr>\n",
       "      <th>6</th>\n",
       "      <td>neg</td>\n",
       "      <td>synopsis : melissa , a mentally-disturbed woma...</td>\n",
       "    </tr>\n",
       "    <tr>\n",
       "      <th>7</th>\n",
       "      <td>neg</td>\n",
       "      <td>tim robbins and martin lawernce team up in thi...</td>\n",
       "    </tr>\n",
       "    <tr>\n",
       "      <th>8</th>\n",
       "      <td>neg</td>\n",
       "      <td>in \" gia \" , angelina jolie plays the titular ...</td>\n",
       "    </tr>\n",
       "    <tr>\n",
       "      <th>9</th>\n",
       "      <td>neg</td>\n",
       "      <td>in 1990 , the surprise success an unheralded l...</td>\n",
       "    </tr>\n",
       "  </tbody>\n",
       "</table>\n",
       "</div>"
      ],
      "text/plain": [
       "  label                                             review\n",
       "0   neg  how do films like mouse hunt get into theatres...\n",
       "1   neg  some talented actresses are blessed with a dem...\n",
       "2   pos  this has been an extraordinary year for austra...\n",
       "3   pos  according to hollywood movies made in last few...\n",
       "4   neg  my first press screening of 1998 and already i...\n",
       "5   neg  to put it bluntly , ed wood would have been pr...\n",
       "6   neg  synopsis : melissa , a mentally-disturbed woma...\n",
       "7   neg  tim robbins and martin lawernce team up in thi...\n",
       "8   neg  in \" gia \" , angelina jolie plays the titular ...\n",
       "9   neg  in 1990 , the surprise success an unheralded l..."
      ]
     },
     "execution_count": 4,
     "metadata": {},
     "output_type": "execute_result"
    }
   ],
   "source": [
    "reviews_df.head(10)"
   ]
  },
  {
   "cell_type": "markdown",
   "metadata": {},
   "source": [
    "# Faça pré-processamento dos dados.\n"
   ]
  },
  {
   "cell_type": "markdown",
   "metadata": {},
   "source": [
    "DataSet analysys "
   ]
  },
  {
   "cell_type": "code",
   "execution_count": 5,
   "metadata": {},
   "outputs": [
    {
     "name": "stdout",
     "output_type": "stream",
     "text": [
      "<class 'pandas.core.frame.DataFrame'>\n",
      "RangeIndex: 2000 entries, 0 to 1999\n",
      "Data columns (total 2 columns):\n",
      " #   Column  Non-Null Count  Dtype \n",
      "---  ------  --------------  ----- \n",
      " 0   label   2000 non-null   object\n",
      " 1   review  1965 non-null   object\n",
      "dtypes: object(2)\n",
      "memory usage: 31.4+ KB\n"
     ]
    }
   ],
   "source": [
    "reviews_df.info()"
   ]
  },
  {
   "cell_type": "code",
   "execution_count": 6,
   "metadata": {},
   "outputs": [
    {
     "data": {
      "text/plain": [
       "label      0\n",
       "review    35\n",
       "dtype: int64"
      ]
     },
     "execution_count": 6,
     "metadata": {},
     "output_type": "execute_result"
    }
   ],
   "source": [
    "reviews_df.isnull().sum()"
   ]
  },
  {
   "cell_type": "code",
   "execution_count": 7,
   "metadata": {},
   "outputs": [
    {
     "data": {
      "text/plain": [
       "neg    1000\n",
       "pos    1000\n",
       "Name: label, dtype: int64"
      ]
     },
     "execution_count": 7,
     "metadata": {},
     "output_type": "execute_result"
    }
   ],
   "source": [
    "reviews_df['label'].value_counts()"
   ]
  },
  {
   "cell_type": "code",
   "execution_count": 8,
   "metadata": {},
   "outputs": [
    {
     "data": {
      "text/html": [
       "<div>\n",
       "<style scoped>\n",
       "    .dataframe tbody tr th:only-of-type {\n",
       "        vertical-align: middle;\n",
       "    }\n",
       "\n",
       "    .dataframe tbody tr th {\n",
       "        vertical-align: top;\n",
       "    }\n",
       "\n",
       "    .dataframe thead th {\n",
       "        text-align: right;\n",
       "    }\n",
       "</style>\n",
       "<table border=\"1\" class=\"dataframe\">\n",
       "  <thead>\n",
       "    <tr style=\"text-align: right;\">\n",
       "      <th></th>\n",
       "      <th>label</th>\n",
       "      <th>review</th>\n",
       "    </tr>\n",
       "  </thead>\n",
       "  <tbody>\n",
       "    <tr>\n",
       "      <th>140</th>\n",
       "      <td>pos</td>\n",
       "      <td>NaN</td>\n",
       "    </tr>\n",
       "    <tr>\n",
       "      <th>208</th>\n",
       "      <td>pos</td>\n",
       "      <td>NaN</td>\n",
       "    </tr>\n",
       "    <tr>\n",
       "      <th>270</th>\n",
       "      <td>neg</td>\n",
       "      <td>NaN</td>\n",
       "    </tr>\n",
       "    <tr>\n",
       "      <th>334</th>\n",
       "      <td>neg</td>\n",
       "      <td>NaN</td>\n",
       "    </tr>\n",
       "    <tr>\n",
       "      <th>448</th>\n",
       "      <td>neg</td>\n",
       "      <td>NaN</td>\n",
       "    </tr>\n",
       "    <tr>\n",
       "      <th>522</th>\n",
       "      <td>neg</td>\n",
       "      <td>NaN</td>\n",
       "    </tr>\n",
       "    <tr>\n",
       "      <th>606</th>\n",
       "      <td>pos</td>\n",
       "      <td>NaN</td>\n",
       "    </tr>\n",
       "    <tr>\n",
       "      <th>696</th>\n",
       "      <td>neg</td>\n",
       "      <td>NaN</td>\n",
       "    </tr>\n",
       "    <tr>\n",
       "      <th>728</th>\n",
       "      <td>pos</td>\n",
       "      <td>NaN</td>\n",
       "    </tr>\n",
       "    <tr>\n",
       "      <th>738</th>\n",
       "      <td>neg</td>\n",
       "      <td>NaN</td>\n",
       "    </tr>\n",
       "    <tr>\n",
       "      <th>744</th>\n",
       "      <td>pos</td>\n",
       "      <td>NaN</td>\n",
       "    </tr>\n",
       "    <tr>\n",
       "      <th>786</th>\n",
       "      <td>pos</td>\n",
       "      <td>NaN</td>\n",
       "    </tr>\n",
       "    <tr>\n",
       "      <th>820</th>\n",
       "      <td>pos</td>\n",
       "      <td>NaN</td>\n",
       "    </tr>\n",
       "    <tr>\n",
       "      <th>866</th>\n",
       "      <td>neg</td>\n",
       "      <td>NaN</td>\n",
       "    </tr>\n",
       "    <tr>\n",
       "      <th>986</th>\n",
       "      <td>neg</td>\n",
       "      <td>NaN</td>\n",
       "    </tr>\n",
       "    <tr>\n",
       "      <th>1072</th>\n",
       "      <td>neg</td>\n",
       "      <td>NaN</td>\n",
       "    </tr>\n",
       "    <tr>\n",
       "      <th>1156</th>\n",
       "      <td>pos</td>\n",
       "      <td>NaN</td>\n",
       "    </tr>\n",
       "    <tr>\n",
       "      <th>1204</th>\n",
       "      <td>pos</td>\n",
       "      <td>NaN</td>\n",
       "    </tr>\n",
       "    <tr>\n",
       "      <th>1260</th>\n",
       "      <td>neg</td>\n",
       "      <td>NaN</td>\n",
       "    </tr>\n",
       "    <tr>\n",
       "      <th>1272</th>\n",
       "      <td>neg</td>\n",
       "      <td>NaN</td>\n",
       "    </tr>\n",
       "    <tr>\n",
       "      <th>1294</th>\n",
       "      <td>neg</td>\n",
       "      <td>NaN</td>\n",
       "    </tr>\n",
       "    <tr>\n",
       "      <th>1314</th>\n",
       "      <td>pos</td>\n",
       "      <td>NaN</td>\n",
       "    </tr>\n",
       "    <tr>\n",
       "      <th>1330</th>\n",
       "      <td>neg</td>\n",
       "      <td>NaN</td>\n",
       "    </tr>\n",
       "    <tr>\n",
       "      <th>1332</th>\n",
       "      <td>neg</td>\n",
       "      <td>NaN</td>\n",
       "    </tr>\n",
       "    <tr>\n",
       "      <th>1426</th>\n",
       "      <td>pos</td>\n",
       "      <td>NaN</td>\n",
       "    </tr>\n",
       "    <tr>\n",
       "      <th>1456</th>\n",
       "      <td>pos</td>\n",
       "      <td>NaN</td>\n",
       "    </tr>\n",
       "    <tr>\n",
       "      <th>1486</th>\n",
       "      <td>pos</td>\n",
       "      <td>NaN</td>\n",
       "    </tr>\n",
       "    <tr>\n",
       "      <th>1538</th>\n",
       "      <td>neg</td>\n",
       "      <td>NaN</td>\n",
       "    </tr>\n",
       "    <tr>\n",
       "      <th>1568</th>\n",
       "      <td>neg</td>\n",
       "      <td>NaN</td>\n",
       "    </tr>\n",
       "    <tr>\n",
       "      <th>1584</th>\n",
       "      <td>pos</td>\n",
       "      <td>NaN</td>\n",
       "    </tr>\n",
       "    <tr>\n",
       "      <th>1588</th>\n",
       "      <td>pos</td>\n",
       "      <td>NaN</td>\n",
       "    </tr>\n",
       "    <tr>\n",
       "      <th>1600</th>\n",
       "      <td>pos</td>\n",
       "      <td>NaN</td>\n",
       "    </tr>\n",
       "    <tr>\n",
       "      <th>1662</th>\n",
       "      <td>pos</td>\n",
       "      <td>NaN</td>\n",
       "    </tr>\n",
       "    <tr>\n",
       "      <th>1904</th>\n",
       "      <td>pos</td>\n",
       "      <td>NaN</td>\n",
       "    </tr>\n",
       "    <tr>\n",
       "      <th>1908</th>\n",
       "      <td>neg</td>\n",
       "      <td>NaN</td>\n",
       "    </tr>\n",
       "  </tbody>\n",
       "</table>\n",
       "</div>"
      ],
      "text/plain": [
       "     label review\n",
       "140    pos    NaN\n",
       "208    pos    NaN\n",
       "270    neg    NaN\n",
       "334    neg    NaN\n",
       "448    neg    NaN\n",
       "522    neg    NaN\n",
       "606    pos    NaN\n",
       "696    neg    NaN\n",
       "728    pos    NaN\n",
       "738    neg    NaN\n",
       "744    pos    NaN\n",
       "786    pos    NaN\n",
       "820    pos    NaN\n",
       "866    neg    NaN\n",
       "986    neg    NaN\n",
       "1072   neg    NaN\n",
       "1156   pos    NaN\n",
       "1204   pos    NaN\n",
       "1260   neg    NaN\n",
       "1272   neg    NaN\n",
       "1294   neg    NaN\n",
       "1314   pos    NaN\n",
       "1330   neg    NaN\n",
       "1332   neg    NaN\n",
       "1426   pos    NaN\n",
       "1456   pos    NaN\n",
       "1486   pos    NaN\n",
       "1538   neg    NaN\n",
       "1568   neg    NaN\n",
       "1584   pos    NaN\n",
       "1588   pos    NaN\n",
       "1600   pos    NaN\n",
       "1662   pos    NaN\n",
       "1904   pos    NaN\n",
       "1908   neg    NaN"
      ]
     },
     "execution_count": 8,
     "metadata": {},
     "output_type": "execute_result"
    }
   ],
   "source": [
    "# Null values position\n",
    "# creating bool series True for NaN values \n",
    "bool_series = pd.isnull(reviews_df[\"review\"]) \n",
    "    \n",
    "# filtering data \n",
    "# displaying data only with Gender = NaN \n",
    "reviews_df[bool_series]"
   ]
  },
  {
   "cell_type": "code",
   "execution_count": 9,
   "metadata": {},
   "outputs": [
    {
     "name": "stdout",
     "output_type": "stream",
     "text": [
      "label     0\n",
      "review    0\n",
      "dtype: int64\n"
     ]
    }
   ],
   "source": [
    "reviews_df = reviews_df.dropna()\n",
    "print(reviews_df.isnull().sum())"
   ]
  },
  {
   "cell_type": "code",
   "execution_count": 10,
   "metadata": {},
   "outputs": [
    {
     "data": {
      "text/plain": [
       "neg    983\n",
       "pos    982\n",
       "Name: label, dtype: int64"
      ]
     },
     "execution_count": 10,
     "metadata": {},
     "output_type": "execute_result"
    }
   ],
   "source": [
    "reviews_df['label'].value_counts()"
   ]
  },
  {
   "cell_type": "markdown",
   "metadata": {},
   "source": [
    "Label transform "
   ]
  },
  {
   "cell_type": "code",
   "execution_count": 11,
   "metadata": {},
   "outputs": [],
   "source": [
    "# Label transform \n",
    "data = LabelBinarizer().fit_transform(reviews_df[\"label\"])\n",
    "reviews_df[\"label\"] = data"
   ]
  },
  {
   "cell_type": "markdown",
   "metadata": {},
   "source": [
    "Tokenizing sentences"
   ]
  },
  {
   "cell_type": "code",
   "execution_count": 12,
   "metadata": {},
   "outputs": [],
   "source": [
    "def Tokenizing_Sentences(Data,colun_term):\n",
    "    sentences = Data[colun_term]\n",
    "    Iloc = 0\n",
    "    for sentece in sentences:\n",
    "        tonken_text = word_tokenize(sentece,language=\"english\",preserve_line=False)\n",
    "        Data[colun_term].iloc[Iloc] = tonken_text\n",
    "        Iloc+=1\n",
    "    return Data"
   ]
  },
  {
   "cell_type": "code",
   "execution_count": 13,
   "metadata": {},
   "outputs": [
    {
     "name": "stderr",
     "output_type": "stream",
     "text": [
      "C:\\Users\\Rícharde\\AppData\\Local\\Temp\\ipykernel_1784\\812245980.py:6: SettingWithCopyWarning: \n",
      "A value is trying to be set on a copy of a slice from a DataFrame\n",
      "\n",
      "See the caveats in the documentation: https://pandas.pydata.org/pandas-docs/stable/user_guide/indexing.html#returning-a-view-versus-a-copy\n",
      "  Data[colun_term].iloc[Iloc] = tonken_text\n"
     ]
    }
   ],
   "source": [
    "reviews_df = Tokenizing_Sentences(reviews_df,'review')"
   ]
  },
  {
   "cell_type": "markdown",
   "metadata": {},
   "source": [
    "Removing Stop Words"
   ]
  },
  {
   "cell_type": "code",
   "execution_count": 14,
   "metadata": {},
   "outputs": [],
   "source": [
    "stop_Words = set(stopwords.words(\"english\"))"
   ]
  },
  {
   "cell_type": "code",
   "execution_count": 15,
   "metadata": {},
   "outputs": [],
   "source": [
    "def Verify_Stop_Words(sentence):\n",
    "    text = list(sentence)\n",
    "    for word in stop_Words:    \n",
    "        if text.__contains__(word):\n",
    "            text.remove(word)\n",
    "    return text"
   ]
  },
  {
   "cell_type": "code",
   "execution_count": 16,
   "metadata": {},
   "outputs": [
    {
     "name": "stderr",
     "output_type": "stream",
     "text": [
      "C:\\Users\\Rícharde\\AppData\\Local\\Temp\\ipykernel_1784\\80236415.py:5: SettingWithCopyWarning: \n",
      "A value is trying to be set on a copy of a slice from a DataFrame\n",
      "\n",
      "See the caveats in the documentation: https://pandas.pydata.org/pandas-docs/stable/user_guide/indexing.html#returning-a-view-versus-a-copy\n",
      "  reviews_df[\"review\"].iloc[Iloc] = text\n"
     ]
    }
   ],
   "source": [
    "sentences = reviews_df[\"review\"]\n",
    "Iloc = 0\n",
    "for sentence in sentences:\n",
    "    text = Verify_Stop_Words(sentence)\n",
    "    reviews_df[\"review\"].iloc[Iloc] = text\n",
    "    Iloc +=1"
   ]
  },
  {
   "cell_type": "markdown",
   "metadata": {},
   "source": [
    "Removing Punctuation and special caracter"
   ]
  },
  {
   "cell_type": "code",
   "execution_count": 17,
   "metadata": {},
   "outputs": [
    {
     "name": "stderr",
     "output_type": "stream",
     "text": [
      "C:\\Users\\Rícharde\\AppData\\Local\\Temp\\ipykernel_1784\\1056579119.py:5: SettingWithCopyWarning: \n",
      "A value is trying to be set on a copy of a slice from a DataFrame\n",
      "\n",
      "See the caveats in the documentation: https://pandas.pydata.org/pandas-docs/stable/user_guide/indexing.html#returning-a-view-versus-a-copy\n",
      "  reviews_df[\"review\"].iloc[Iloc] = text\n"
     ]
    }
   ],
   "source": [
    "sentences = reviews_df[\"review\"]\n",
    "Iloc = 0                                                                                                                \n",
    "for sentence in sentences:\n",
    "    text = re.sub(r'[^\\w\\s]', '',str(sentence))\n",
    "    reviews_df[\"review\"].iloc[Iloc] = text\n",
    "    Iloc +=1"
   ]
  },
  {
   "cell_type": "code",
   "execution_count": 18,
   "metadata": {},
   "outputs": [
    {
     "data": {
      "text/html": [
       "<div>\n",
       "<style scoped>\n",
       "    .dataframe tbody tr th:only-of-type {\n",
       "        vertical-align: middle;\n",
       "    }\n",
       "\n",
       "    .dataframe tbody tr th {\n",
       "        vertical-align: top;\n",
       "    }\n",
       "\n",
       "    .dataframe thead th {\n",
       "        text-align: right;\n",
       "    }\n",
       "</style>\n",
       "<table border=\"1\" class=\"dataframe\">\n",
       "  <thead>\n",
       "    <tr style=\"text-align: right;\">\n",
       "      <th></th>\n",
       "      <th>label</th>\n",
       "      <th>review</th>\n",
       "    </tr>\n",
       "  </thead>\n",
       "  <tbody>\n",
       "    <tr>\n",
       "      <th>0</th>\n",
       "      <td>0</td>\n",
       "      <td>films like mouse hunt get theatres  nt law som...</td>\n",
       "    </tr>\n",
       "    <tr>\n",
       "      <th>1</th>\n",
       "      <td>0</td>\n",
       "      <td>talented actresses blessed demonstrated wide a...</td>\n",
       "    </tr>\n",
       "    <tr>\n",
       "      <th>2</th>\n",
       "      <td>1</td>\n",
       "      <td>extraordinary year australian films   shine  h...</td>\n",
       "    </tr>\n",
       "    <tr>\n",
       "      <th>3</th>\n",
       "      <td>1</td>\n",
       "      <td>according hollywood movies made last decades  ...</td>\n",
       "    </tr>\n",
       "    <tr>\n",
       "      <th>4</th>\n",
       "      <td>0</td>\n",
       "      <td>first press screening 1998 already ve gotten p...</td>\n",
       "    </tr>\n",
       "    <tr>\n",
       "      <th>...</th>\n",
       "      <td>...</td>\n",
       "      <td>...</td>\n",
       "    </tr>\n",
       "    <tr>\n",
       "      <th>1995</th>\n",
       "      <td>1</td>\n",
       "      <td>like movies albert brooks  i really like movie...</td>\n",
       "    </tr>\n",
       "    <tr>\n",
       "      <th>1996</th>\n",
       "      <td>1</td>\n",
       "      <td>might surprise know joel ethan coen  brought u...</td>\n",
       "    </tr>\n",
       "    <tr>\n",
       "      <th>1997</th>\n",
       "      <td>1</td>\n",
       "      <td>verdict  spinechilling drama horror maestro st...</td>\n",
       "    </tr>\n",
       "    <tr>\n",
       "      <th>1998</th>\n",
       "      <td>1</td>\n",
       "      <td>want correct i wrote former retrospective davi...</td>\n",
       "    </tr>\n",
       "    <tr>\n",
       "      <th>1999</th>\n",
       "      <td>1</td>\n",
       "      <td>couple months ago  first downloaded faceoff tr...</td>\n",
       "    </tr>\n",
       "  </tbody>\n",
       "</table>\n",
       "<p>1965 rows × 2 columns</p>\n",
       "</div>"
      ],
      "text/plain": [
       "      label                                             review\n",
       "0         0  films like mouse hunt get theatres  nt law som...\n",
       "1         0  talented actresses blessed demonstrated wide a...\n",
       "2         1  extraordinary year australian films   shine  h...\n",
       "3         1  according hollywood movies made last decades  ...\n",
       "4         0  first press screening 1998 already ve gotten p...\n",
       "...     ...                                                ...\n",
       "1995      1  like movies albert brooks  i really like movie...\n",
       "1996      1  might surprise know joel ethan coen  brought u...\n",
       "1997      1  verdict  spinechilling drama horror maestro st...\n",
       "1998      1  want correct i wrote former retrospective davi...\n",
       "1999      1  couple months ago  first downloaded faceoff tr...\n",
       "\n",
       "[1965 rows x 2 columns]"
      ]
     },
     "execution_count": 18,
     "metadata": {},
     "output_type": "execute_result"
    }
   ],
   "source": [
    "reviews_df"
   ]
  },
  {
   "cell_type": "markdown",
   "metadata": {},
   "source": [
    "# Separe os dados em treino e teste."
   ]
  },
  {
   "cell_type": "code",
   "execution_count": 19,
   "metadata": {},
   "outputs": [],
   "source": [
    "# Data separation\n",
    "X = reviews_df[\"review\"]\n",
    "y = reviews_df[\"label\"]"
   ]
  },
  {
   "cell_type": "markdown",
   "metadata": {},
   "source": [
    "# extração de características do texto utilizando BOW e TF-IDF"
   ]
  },
  {
   "cell_type": "markdown",
   "metadata": {},
   "source": [
    "Word Count "
   ]
  },
  {
   "cell_type": "code",
   "execution_count": 20,
   "metadata": {},
   "outputs": [],
   "source": [
    "count_vec = CountVectorizer(ngram_range=(1,1))\n",
    "X_count   = count_vec.fit_transform(X)"
   ]
  },
  {
   "cell_type": "markdown",
   "metadata": {},
   "source": [
    "TF-IDF"
   ]
  },
  {
   "cell_type": "code",
   "execution_count": 21,
   "metadata": {},
   "outputs": [],
   "source": [
    "tf = TfidfTransformer(norm=\"l1\")\n",
    "X_freq_count = tf.fit_transform(X_count)"
   ]
  },
  {
   "cell_type": "markdown",
   "metadata": {},
   "source": [
    "# classificação dos dados"
   ]
  },
  {
   "cell_type": "code",
   "execution_count": 22,
   "metadata": {},
   "outputs": [],
   "source": [
    "models = {}\n",
    "models['kNN'] = KNeighborsClassifier(n_neighbors=3,n_jobs=-1)\n",
    "models['Random Forest'] = RandomForestClassifier(n_estimators=250,random_state=42)\n",
    "models['Naive Bayes'] = GaussianNB()\n",
    "models['MLP_1'] = MLPClassifier(hidden_layer_sizes=(30,),activation='relu')\n",
    "models['MLP_2'] = MLPClassifier(hidden_layer_sizes=(30,30),activation='relu')\n",
    "models['SVM'] = SVC()\n",
    "models['DT'] = DecisionTreeClassifier(random_state=42,min_samples_split=10)"
   ]
  },
  {
   "cell_type": "code",
   "execution_count": 23,
   "metadata": {},
   "outputs": [],
   "source": [
    "X_train, X_test, y_train, y_test = train_test_split(X_freq_count,y,test_size=0.8,random_state=42,shuffle=True)"
   ]
  },
  {
   "cell_type": "code",
   "execution_count": 24,
   "metadata": {},
   "outputs": [
    {
     "name": "stderr",
     "output_type": "stream",
     "text": [
      "c:\\Users\\Rícharde\\AppData\\Local\\Programs\\Python\\Python310\\lib\\site-packages\\sklearn\\neural_network\\_multilayer_perceptron.py:702: ConvergenceWarning: Stochastic Optimizer: Maximum iterations (200) reached and the optimization hasn't converged yet.\n",
      "  warnings.warn(\n",
      "c:\\Users\\Rícharde\\AppData\\Local\\Programs\\Python\\Python310\\lib\\site-packages\\sklearn\\neural_network\\_multilayer_perceptron.py:702: ConvergenceWarning: Stochastic Optimizer: Maximum iterations (200) reached and the optimization hasn't converged yet.\n",
      "  warnings.warn(\n"
     ]
    }
   ],
   "source": [
    "model_name   = []\n",
    "result_acc   = []\n",
    "result_f1    = []\n",
    "\n",
    "for actual_model in models.keys(): \n",
    "    __some_model__ = models[actual_model].fit(X_train.toarray(),y_train)\n",
    "    y_predict      = models[actual_model].predict(X_test.toarray())\n",
    "    # score test \n",
    "    acc_scr    = accuracy_score(y_test,y_predict)\n",
    "    f1_scr     = f1_score(y_test,y_predict,average='weighted')\n",
    "    # savaing information \n",
    "    model_name.append(str(actual_model))\n",
    "    result_acc.append(acc_scr)\n",
    "    result_f1.append(f1_scr)"
   ]
  },
  {
   "cell_type": "markdown",
   "metadata": {},
   "source": [
    "Results "
   ]
  },
  {
   "cell_type": "code",
   "execution_count": 25,
   "metadata": {},
   "outputs": [
    {
     "data": {
      "text/html": [
       "<div>\n",
       "<style scoped>\n",
       "    .dataframe tbody tr th:only-of-type {\n",
       "        vertical-align: middle;\n",
       "    }\n",
       "\n",
       "    .dataframe tbody tr th {\n",
       "        vertical-align: top;\n",
       "    }\n",
       "\n",
       "    .dataframe thead th {\n",
       "        text-align: right;\n",
       "    }\n",
       "</style>\n",
       "<table border=\"1\" class=\"dataframe\">\n",
       "  <thead>\n",
       "    <tr style=\"text-align: right;\">\n",
       "      <th></th>\n",
       "      <th>Model name</th>\n",
       "      <th>Accuracy</th>\n",
       "      <th>F1-Score</th>\n",
       "    </tr>\n",
       "  </thead>\n",
       "  <tbody>\n",
       "    <tr>\n",
       "      <th>0</th>\n",
       "      <td>kNN</td>\n",
       "      <td>0.506361</td>\n",
       "      <td>0.355240</td>\n",
       "    </tr>\n",
       "    <tr>\n",
       "      <th>1</th>\n",
       "      <td>Random Forest</td>\n",
       "      <td>0.725827</td>\n",
       "      <td>0.725583</td>\n",
       "    </tr>\n",
       "    <tr>\n",
       "      <th>2</th>\n",
       "      <td>Naive Bayes</td>\n",
       "      <td>0.611323</td>\n",
       "      <td>0.608609</td>\n",
       "    </tr>\n",
       "    <tr>\n",
       "      <th>3</th>\n",
       "      <td>MLP_1</td>\n",
       "      <td>0.773537</td>\n",
       "      <td>0.772827</td>\n",
       "    </tr>\n",
       "    <tr>\n",
       "      <th>4</th>\n",
       "      <td>MLP_2</td>\n",
       "      <td>0.775445</td>\n",
       "      <td>0.774658</td>\n",
       "    </tr>\n",
       "    <tr>\n",
       "      <th>5</th>\n",
       "      <td>SVM</td>\n",
       "      <td>0.697201</td>\n",
       "      <td>0.695872</td>\n",
       "    </tr>\n",
       "    <tr>\n",
       "      <th>6</th>\n",
       "      <td>DT</td>\n",
       "      <td>0.591603</td>\n",
       "      <td>0.591192</td>\n",
       "    </tr>\n",
       "  </tbody>\n",
       "</table>\n",
       "</div>"
      ],
      "text/plain": [
       "      Model name  Accuracy  F1-Score\n",
       "0            kNN  0.506361  0.355240\n",
       "1  Random Forest  0.725827  0.725583\n",
       "2    Naive Bayes  0.611323  0.608609\n",
       "3          MLP_1  0.773537  0.772827\n",
       "4          MLP_2  0.775445  0.774658\n",
       "5            SVM  0.697201  0.695872\n",
       "6             DT  0.591603  0.591192"
      ]
     },
     "execution_count": 25,
     "metadata": {},
     "output_type": "execute_result"
    }
   ],
   "source": [
    "result = pd.DataFrame({'Model name': model_name, 'Accuracy':result_acc, 'F1-Score':result_f1})\n",
    "result"
   ]
  },
  {
   "cell_type": "markdown",
   "metadata": {},
   "source": [
    "# Otimize o Classificador"
   ]
  },
  {
   "cell_type": "markdown",
   "metadata": {},
   "source": [
    "Loading hyperparameters"
   ]
  },
  {
   "cell_type": "code",
   "execution_count": 332,
   "metadata": {},
   "outputs": [],
   "source": [
    "# Knn model\n",
    "hyper_1 = {}\n",
    "hyper_1 ['classifier__n_neighbors'] = [3,9,18,25]\n",
    "hyper_1 ['classifier__leaf_size'] = [5,12,20]\n",
    "hyper_1 ['classifier__algorithm'] = ['ball_tree','kd_tree']\n",
    "hyper_1['classifier'] = [models['kNN']]\n",
    "# Random Forest model\n",
    "hyper_2 = {}\n",
    "hyper_2 ['classifier__n_estimators'] = [10,20,30,50,100,150,200]\n",
    "hyper_2 ['classifier__criterion'] = ['gini', 'entropy']\n",
    "hyper_2 ['classifier__max_depth'] = [5,20,50,80,100]\n",
    "hyper_2['classifier'] = [models['Random Forest']]\n",
    "# Naive Bayes modedl\n",
    "hyper_3 = {}\n",
    "hyper_3 ['classifier__var_smoothing'] = [0.00001,0.001,0.1]\n",
    "hyper_3['classifier'] = [models['Naive Bayes']]\n",
    "# MLP 1\n",
    "hyper_4 = {}\n",
    "hyper_4 ['classifier__hidden_layer_sizes'] = [(15,),(30,),(60,)]\n",
    "hyper_4 ['classifier__activation'] = ['logistic','tanh','relu']\n",
    "hyper_4 ['classifier__alpha'] = [0000.1, 00.1, 1, 10]\n",
    "hyper_4['classifier'] = [models['MLP_1']]\n",
    "# MLP 2\n",
    "hyper_5 = {}\n",
    "hyper_5 ['classifier__hidden_layer_sizes'] = [(15,15),(30,30),(60,60)]\n",
    "hyper_5 ['classifier__activation'] = ['logistic','tanh','relu']\n",
    "hyper_5 ['classifier__learning_rate'] = ['constant','invscaling','adaptive']\n",
    "hyper_5['classifier'] = [models['MLP_2']]\n",
    "# SVM model \n",
    "hyper_6 = {}\n",
    "hyper_6['classifier__C'] = [10**-2, 10**-1, 10**0, 10**1, 10**2]\n",
    "hyper_6['classifier__kernel'] = ['linear', 'poly', 'rbf', 'sigmoid']\n",
    "hyper_6['classifier__shrinking'] = [True,False]\n",
    "hyper_6['classifier'] = [models['SVM']]\n",
    "# Decision Tree Model\n",
    "hyper_7 = {}\n",
    "hyper_7['classifier__criterion'] = ['gini','entropy','log_loss']\n",
    "hyper_7['classifier__splitter'] = ['best', 'random']\n",
    "hyper_7['classifier__max_depth'] = [10,20,50,100]\n",
    "hyper_7['classifier__min_samples_split'] = [2,5,10,15,25]\n",
    "hyper_7['classifier'] = [models['DT']]\n"
   ]
  },
  {
   "cell_type": "code",
   "execution_count": 44,
   "metadata": {},
   "outputs": [],
   "source": [
    "pipe = Pipeline([('classifier', models['kNN'])])\n",
    "params = [hyper_1,hyper_2,hyper_3,hyper_4,hyper_5,hyper_6,hyper_7]"
   ]
  },
  {
   "cell_type": "code",
   "execution_count": 45,
   "metadata": {},
   "outputs": [],
   "source": [
    "k_fold  = KFold(n_splits=3,random_state=42,shuffle=True)"
   ]
  },
  {
   "cell_type": "code",
   "execution_count": 46,
   "metadata": {},
   "outputs": [],
   "source": [
    "gridCV  = GridSearchCV(estimator=pipe,param_grid=params,cv=k_fold,n_jobs=-1,scoring='accuracy',return_train_score=True)"
   ]
  },
  {
   "cell_type": "code",
   "execution_count": 47,
   "metadata": {},
   "outputs": [
    {
     "name": "stderr",
     "output_type": "stream",
     "text": [
      "c:\\Users\\Rícharde\\AppData\\Local\\Programs\\Python\\Python310\\lib\\site-packages\\sklearn\\model_selection\\_validation.py:378: FitFailedWarning: \n",
      "9 fits failed out of a total of 900.\n",
      "The score on these train-test partitions for these parameters will be set to nan.\n",
      "If these failures are not expected, you can try to debug them by setting error_score='raise'.\n",
      "\n",
      "Below are more details about the failures:\n",
      "--------------------------------------------------------------------------------\n",
      "9 fits failed with the following error:\n",
      "Traceback (most recent call last):\n",
      "  File \"c:\\Users\\Rícharde\\AppData\\Local\\Programs\\Python\\Python310\\lib\\site-packages\\sklearn\\model_selection\\_validation.py\", line 686, in _fit_and_score\n",
      "    estimator.fit(X_train, y_train, **fit_params)\n",
      "  File \"c:\\Users\\Rícharde\\AppData\\Local\\Programs\\Python\\Python310\\lib\\site-packages\\sklearn\\pipeline.py\", line 382, in fit\n",
      "    self._final_estimator.fit(Xt, y, **fit_params_last_step)\n",
      "  File \"c:\\Users\\Rícharde\\AppData\\Local\\Programs\\Python\\Python310\\lib\\site-packages\\sklearn\\naive_bayes.py\", line 243, in fit\n",
      "    return self._partial_fit(\n",
      "  File \"c:\\Users\\Rícharde\\AppData\\Local\\Programs\\Python\\Python310\\lib\\site-packages\\sklearn\\naive_bayes.py\", line 400, in _partial_fit\n",
      "    X, y = self._validate_data(X, y, reset=first_call)\n",
      "  File \"c:\\Users\\Rícharde\\AppData\\Local\\Programs\\Python\\Python310\\lib\\site-packages\\sklearn\\base.py\", line 596, in _validate_data\n",
      "    X, y = check_X_y(X, y, **check_params)\n",
      "  File \"c:\\Users\\Rícharde\\AppData\\Local\\Programs\\Python\\Python310\\lib\\site-packages\\sklearn\\utils\\validation.py\", line 1074, in check_X_y\n",
      "    X = check_array(\n",
      "  File \"c:\\Users\\Rícharde\\AppData\\Local\\Programs\\Python\\Python310\\lib\\site-packages\\sklearn\\utils\\validation.py\", line 822, in check_array\n",
      "    array = _ensure_sparse_format(\n",
      "  File \"c:\\Users\\Rícharde\\AppData\\Local\\Programs\\Python\\Python310\\lib\\site-packages\\sklearn\\utils\\validation.py\", line 512, in _ensure_sparse_format\n",
      "    raise TypeError(\n",
      "TypeError: A sparse matrix was passed, but dense data is required. Use X.toarray() to convert to a dense numpy array.\n",
      "\n",
      "  warnings.warn(some_fits_failed_message, FitFailedWarning)\n",
      "c:\\Users\\Rícharde\\AppData\\Local\\Programs\\Python\\Python310\\lib\\site-packages\\sklearn\\model_selection\\_search.py:953: UserWarning: One or more of the test scores are non-finite: [0.52417303 0.50127226 0.51653944 0.51145038 0.52417303 0.50127226\n",
      " 0.51653944 0.51145038 0.52417303 0.50127226 0.51653944 0.51145038\n",
      " 0.52417303 0.50127226 0.51653944 0.51145038 0.52417303 0.50127226\n",
      " 0.51653944 0.51145038 0.52417303 0.50127226 0.51653944 0.51145038\n",
      " 0.58778626 0.58015267 0.64122137 0.66412214 0.68956743 0.5826972\n",
      " 0.58015267 0.63867684 0.67430025 0.69211196 0.58524173 0.62086514\n",
      " 0.6692112  0.69720102 0.72010178 0.58524173 0.62086514 0.6692112\n",
      " 0.69720102 0.72010178 0.58524173 0.62086514 0.6692112  0.69720102\n",
      " 0.72010178 0.57506361 0.59033079 0.61577608 0.63104326 0.67938931\n",
      " 0.5826972  0.60305344 0.64885496 0.69720102 0.7302799  0.57506361\n",
      " 0.60050891 0.6437659  0.67684478 0.70229008 0.57506361 0.60050891\n",
      " 0.6437659  0.67684478 0.70229008 0.57506361 0.60050891 0.6437659\n",
      " 0.67684478 0.70229008        nan        nan        nan 0.49109415\n",
      " 0.49109415 0.50890585 0.50890585 0.50890585 0.49109415 0.49109415\n",
      " 0.50890585 0.50890585 0.47328244 0.47328244 0.49109415 0.49363868\n",
      " 0.54452926 0.56234097 0.50890585 0.61323155 0.56234097 0.49109415\n",
      " 0.50890585 0.50890585 0.47328244 0.52671756 0.50890585 0.50127226\n",
      " 0.5216285  0.48600509 0.47328244 0.50127226 0.50127226 0.49109415\n",
      " 0.47328244 0.47328244 0.49109415 0.52671756 0.49109415 0.50890585\n",
      " 0.50890585 0.49109415 0.49109415 0.50890585 0.47328244 0.49109415\n",
      " 0.50890585 0.47328244 0.65903308 0.67175573 0.67684478 0.6870229\n",
      " 0.68193384 0.68193384 0.67430025 0.67684478 0.68956743 0.53689567\n",
      " 0.58778626 0.53689567 0.58015267 0.61832061 0.66157761 0.71246819\n",
      " 0.62340967 0.67938931 0.62849873 0.62849873 0.49109415 0.49109415\n",
      " 0.55470738 0.55470738 0.63613232 0.63613232 0.62849873 0.62849873\n",
      " 0.47328244 0.47328244 0.55470738 0.55470738 0.63613232 0.63613232\n",
      " 0.62849873 0.62849873 0.56234097 0.56234097 0.6259542  0.6259542\n",
      " 0.68193384 0.68193384 0.62849873 0.62849873 0.54707379 0.54707379\n",
      " 0.68193384 0.68193384 0.72264631 0.72264631 0.6437659  0.6437659\n",
      " 0.54707379 0.54707379 0.68193384 0.68193384 0.69720102 0.69720102\n",
      " 0.57760814 0.58524173 0.59796438 0.5648855  0.60050891 0.59287532\n",
      " 0.59541985 0.61068702 0.59033079 0.59796438 0.58015267 0.58015267\n",
      " 0.60050891 0.57251908 0.59796438 0.55979644 0.59033079 0.55979644\n",
      " 0.5826972  0.55470738 0.58015267 0.58015267 0.60050891 0.57251908\n",
      " 0.59796438 0.55979644 0.59033079 0.55979644 0.5826972  0.55470738\n",
      " 0.58015267 0.58015267 0.60050891 0.57251908 0.59796438 0.55979644\n",
      " 0.59033079 0.55979644 0.5826972  0.55470738 0.59033079 0.5826972\n",
      " 0.59033079 0.57506361 0.59796438 0.57760814 0.59033079 0.57251908\n",
      " 0.60814249 0.57760814 0.59796438 0.57251908 0.59796438 0.56234097\n",
      " 0.59796438 0.5648855  0.59033079 0.55216285 0.60814249 0.5648855\n",
      " 0.59796438 0.56997455 0.59796438 0.56997455 0.59796438 0.57251908\n",
      " 0.59033079 0.55216285 0.60814249 0.5648855  0.59796438 0.56997455\n",
      " 0.59796438 0.56997455 0.59796438 0.57251908 0.59033079 0.55216285\n",
      " 0.60814249 0.5648855  0.59033079 0.5826972  0.59033079 0.57506361\n",
      " 0.59796438 0.57760814 0.59033079 0.57251908 0.60814249 0.57760814\n",
      " 0.59796438 0.57251908 0.59796438 0.56234097 0.59796438 0.5648855\n",
      " 0.59033079 0.55216285 0.60814249 0.5648855  0.59796438 0.56997455\n",
      " 0.59796438 0.56997455 0.59796438 0.57251908 0.59033079 0.55216285\n",
      " 0.60814249 0.5648855  0.59796438 0.56997455 0.59796438 0.56997455\n",
      " 0.59796438 0.57251908 0.59033079 0.55216285 0.60814249 0.5648855 ]\n",
      "  warnings.warn(\n",
      "c:\\Users\\Rícharde\\AppData\\Local\\Programs\\Python\\Python310\\lib\\site-packages\\sklearn\\model_selection\\_search.py:953: UserWarning: One or more of the train scores are non-finite: [0.8129771  0.59541985 0.52798982 0.52290076 0.8129771  0.59541985\n",
      " 0.52798982 0.52290076 0.8129771  0.59541985 0.52798982 0.52290076\n",
      " 0.8129771  0.59541985 0.52798982 0.52290076 0.8129771  0.59541985\n",
      " 0.52798982 0.52290076 0.8129771  0.59541985 0.52798982 0.52290076\n",
      " 0.85114504 0.91603053 0.9389313  0.96183206 0.9783715  0.98091603\n",
      " 0.99618321 0.99618321 0.99745547 0.99745547 0.98600509 0.99618321\n",
      " 0.99745547 0.99745547 0.99745547 0.98600509 0.99618321 0.99745547\n",
      " 0.99745547 0.99745547 0.98600509 0.99618321 0.99745547 0.99745547\n",
      " 0.99745547 0.8346056  0.90330789 0.92875318 0.9605598  0.97328244\n",
      " 0.97455471 0.99363868 0.99745547 0.99745547 0.99745547 0.98982188\n",
      " 0.99618321 0.99745547 0.99745547 0.99745547 0.98982188 0.99618321\n",
      " 0.99745547 0.99745547 0.99745547 0.98982188 0.99618321 0.99745547\n",
      " 0.99745547 0.99745547        nan        nan        nan 0.50890585\n",
      " 0.50890585 0.50890585 0.50890585 0.50890585 0.50890585 0.50890585\n",
      " 0.50890585 0.50890585 0.50890585 0.50890585 0.50890585 0.60178117\n",
      " 0.75318066 0.83842239 0.54834606 0.82951654 0.82697201 0.50890585\n",
      " 0.50890585 0.50890585 0.50890585 0.49109415 0.50890585 0.65139949\n",
      " 0.68320611 0.70101781 0.50890585 0.65394402 0.7086514  0.49109415\n",
      " 0.50890585 0.50890585 0.50890585 0.49109415 0.50890585 0.50890585\n",
      " 0.50890585 0.50890585 0.50890585 0.51017812 0.50890585 0.50890585\n",
      " 0.50890585 0.50890585 0.99745547 0.99618321 0.99618321 0.99745547\n",
      " 0.99745547 0.99745547 0.99745547 0.99745547 0.99745547 0.83842239\n",
      " 0.99745547 0.8307888  0.83206107 0.99745547 0.99618321 0.99618321\n",
      " 0.99745547 0.99618321 0.82697201 0.82697201 0.5216285  0.5216285\n",
      " 0.81170483 0.81170483 0.81424936 0.81424936 0.82697201 0.82697201\n",
      " 0.65648855 0.65648855 0.81170483 0.81170483 0.81424936 0.81424936\n",
      " 0.82697201 0.82697201 0.98091603 0.98091603 0.99618321 0.99618321\n",
      " 0.97455471 0.97455471 0.82697201 0.82697201 0.99618321 0.99618321\n",
      " 0.99745547 0.99745547 0.99745547 0.99745547 0.97709924 0.97709924\n",
      " 0.99745547 0.99745547 0.99745547 0.99745547 0.99745547 0.99745547\n",
      " 0.99363868 0.98982188 0.98982188 0.9783715  0.97328244 0.96310433\n",
      " 0.95547074 0.956743   0.9173028  0.92366412 0.99745547 0.99745547\n",
      " 0.99236641 0.98473282 0.97709924 0.97328244 0.95928753 0.96946565\n",
      " 0.92111959 0.95801527 0.99745547 0.99745547 0.99236641 0.98473282\n",
      " 0.97709924 0.97328244 0.95928753 0.96946565 0.92111959 0.95801527\n",
      " 0.99745547 0.99745547 0.99236641 0.98473282 0.97709924 0.97328244\n",
      " 0.95928753 0.96946565 0.92111959 0.95801527 0.99363868 0.90458015\n",
      " 0.99236641 0.89694656 0.97709924 0.88422392 0.95928753 0.8778626\n",
      " 0.9173028  0.86895674 0.99745547 0.99491094 0.99491094 0.98346056\n",
      " 0.97709924 0.97328244 0.95928753 0.95801527 0.9173028  0.94529262\n",
      " 0.99745547 0.99745547 0.99491094 0.98982188 0.97709924 0.97964377\n",
      " 0.95928753 0.95801527 0.9173028  0.94529262 0.99745547 0.99745547\n",
      " 0.99491094 0.98982188 0.97709924 0.97964377 0.95928753 0.95801527\n",
      " 0.9173028  0.94529262 0.99363868 0.90458015 0.99236641 0.89694656\n",
      " 0.97709924 0.88422392 0.95928753 0.8778626  0.9173028  0.86895674\n",
      " 0.99745547 0.99491094 0.99491094 0.98346056 0.97709924 0.97328244\n",
      " 0.95928753 0.95801527 0.9173028  0.94529262 0.99745547 0.99745547\n",
      " 0.99491094 0.98982188 0.97709924 0.97964377 0.95928753 0.95801527\n",
      " 0.9173028  0.94529262 0.99745547 0.99745547 0.99491094 0.98982188\n",
      " 0.97709924 0.97964377 0.95928753 0.95801527 0.9173028  0.94529262]\n",
      "  warnings.warn(\n"
     ]
    },
    {
     "name": "stdout",
     "output_type": "stream",
     "text": [
      "CPU times: total: 20.5 s\n",
      "Wall time: 11min 50s\n"
     ]
    },
    {
     "data": {
      "text/html": [
       "<style>#sk-container-id-2 {color: black;background-color: white;}#sk-container-id-2 pre{padding: 0;}#sk-container-id-2 div.sk-toggleable {background-color: white;}#sk-container-id-2 label.sk-toggleable__label {cursor: pointer;display: block;width: 100%;margin-bottom: 0;padding: 0.3em;box-sizing: border-box;text-align: center;}#sk-container-id-2 label.sk-toggleable__label-arrow:before {content: \"▸\";float: left;margin-right: 0.25em;color: #696969;}#sk-container-id-2 label.sk-toggleable__label-arrow:hover:before {color: black;}#sk-container-id-2 div.sk-estimator:hover label.sk-toggleable__label-arrow:before {color: black;}#sk-container-id-2 div.sk-toggleable__content {max-height: 0;max-width: 0;overflow: hidden;text-align: left;background-color: #f0f8ff;}#sk-container-id-2 div.sk-toggleable__content pre {margin: 0.2em;color: black;border-radius: 0.25em;background-color: #f0f8ff;}#sk-container-id-2 input.sk-toggleable__control:checked~div.sk-toggleable__content {max-height: 200px;max-width: 100%;overflow: auto;}#sk-container-id-2 input.sk-toggleable__control:checked~label.sk-toggleable__label-arrow:before {content: \"▾\";}#sk-container-id-2 div.sk-estimator input.sk-toggleable__control:checked~label.sk-toggleable__label {background-color: #d4ebff;}#sk-container-id-2 div.sk-label input.sk-toggleable__control:checked~label.sk-toggleable__label {background-color: #d4ebff;}#sk-container-id-2 input.sk-hidden--visually {border: 0;clip: rect(1px 1px 1px 1px);clip: rect(1px, 1px, 1px, 1px);height: 1px;margin: -1px;overflow: hidden;padding: 0;position: absolute;width: 1px;}#sk-container-id-2 div.sk-estimator {font-family: monospace;background-color: #f0f8ff;border: 1px dotted black;border-radius: 0.25em;box-sizing: border-box;margin-bottom: 0.5em;}#sk-container-id-2 div.sk-estimator:hover {background-color: #d4ebff;}#sk-container-id-2 div.sk-parallel-item::after {content: \"\";width: 100%;border-bottom: 1px solid gray;flex-grow: 1;}#sk-container-id-2 div.sk-label:hover label.sk-toggleable__label {background-color: #d4ebff;}#sk-container-id-2 div.sk-serial::before {content: \"\";position: absolute;border-left: 1px solid gray;box-sizing: border-box;top: 0;bottom: 0;left: 50%;z-index: 0;}#sk-container-id-2 div.sk-serial {display: flex;flex-direction: column;align-items: center;background-color: white;padding-right: 0.2em;padding-left: 0.2em;position: relative;}#sk-container-id-2 div.sk-item {position: relative;z-index: 1;}#sk-container-id-2 div.sk-parallel {display: flex;align-items: stretch;justify-content: center;background-color: white;position: relative;}#sk-container-id-2 div.sk-item::before, #sk-container-id-2 div.sk-parallel-item::before {content: \"\";position: absolute;border-left: 1px solid gray;box-sizing: border-box;top: 0;bottom: 0;left: 50%;z-index: -1;}#sk-container-id-2 div.sk-parallel-item {display: flex;flex-direction: column;z-index: 1;position: relative;background-color: white;}#sk-container-id-2 div.sk-parallel-item:first-child::after {align-self: flex-end;width: 50%;}#sk-container-id-2 div.sk-parallel-item:last-child::after {align-self: flex-start;width: 50%;}#sk-container-id-2 div.sk-parallel-item:only-child::after {width: 0;}#sk-container-id-2 div.sk-dashed-wrapped {border: 1px dashed gray;margin: 0 0.4em 0.5em 0.4em;box-sizing: border-box;padding-bottom: 0.4em;background-color: white;}#sk-container-id-2 div.sk-label label {font-family: monospace;font-weight: bold;display: inline-block;line-height: 1.2em;}#sk-container-id-2 div.sk-label-container {text-align: center;}#sk-container-id-2 div.sk-container {/* jupyter's `normalize.less` sets `[hidden] { display: none; }` but bootstrap.min.css set `[hidden] { display: none !important; }` so we also need the `!important` here to be able to override the default hidden behavior on the sphinx rendered scikit-learn.org. See: https://github.com/scikit-learn/scikit-learn/issues/21755 */display: inline-block !important;position: relative;}#sk-container-id-2 div.sk-text-repr-fallback {display: none;}</style><div id=\"sk-container-id-2\" class=\"sk-top-container\"><div class=\"sk-text-repr-fallback\"><pre>GridSearchCV(cv=KFold(n_splits=3, random_state=42, shuffle=True),\n",
       "             estimator=Pipeline(steps=[(&#x27;classifier&#x27;,\n",
       "                                        KNeighborsClassifier(n_jobs=-1,\n",
       "                                                             n_neighbors=3))]),\n",
       "             n_jobs=-1,\n",
       "             param_grid=[{&#x27;classifier&#x27;: [KNeighborsClassifier(n_jobs=-1,\n",
       "                                                              n_neighbors=3)],\n",
       "                          &#x27;classifier__algorithm&#x27;: [&#x27;ball_tree&#x27;, &#x27;kd_tree&#x27;],\n",
       "                          &#x27;classifier__leaf_size&#x27;: [5, 12, 20],\n",
       "                          &#x27;classifier__n_neighbors&#x27;: [3, 9, 1...\n",
       "                                                 &#x27;sigmoid&#x27;],\n",
       "                          &#x27;classifier__shrinking&#x27;: [True, False]},\n",
       "                         {&#x27;classifier&#x27;: [DecisionTreeClassifier(min_samples_split=10,\n",
       "                                                                random_state=42)],\n",
       "                          &#x27;classifier__criterion&#x27;: [&#x27;gini&#x27;, &#x27;entropy&#x27;,\n",
       "                                                    &#x27;log_loss&#x27;],\n",
       "                          &#x27;classifier__max_depth&#x27;: [10, 20, 50, 100],\n",
       "                          &#x27;classifier__min_samples_split&#x27;: [2, 5, 10, 15, 25],\n",
       "                          &#x27;classifier__splitter&#x27;: [&#x27;best&#x27;, &#x27;random&#x27;]}],\n",
       "             return_train_score=True, scoring=&#x27;accuracy&#x27;)</pre><b>In a Jupyter environment, please rerun this cell to show the HTML representation or trust the notebook. <br />On GitHub, the HTML representation is unable to render, please try loading this page with nbviewer.org.</b></div><div class=\"sk-container\" hidden><div class=\"sk-item sk-dashed-wrapped\"><div class=\"sk-label-container\"><div class=\"sk-label sk-toggleable\"><input class=\"sk-toggleable__control sk-hidden--visually\" id=\"sk-estimator-id-4\" type=\"checkbox\" ><label for=\"sk-estimator-id-4\" class=\"sk-toggleable__label sk-toggleable__label-arrow\">GridSearchCV</label><div class=\"sk-toggleable__content\"><pre>GridSearchCV(cv=KFold(n_splits=3, random_state=42, shuffle=True),\n",
       "             estimator=Pipeline(steps=[(&#x27;classifier&#x27;,\n",
       "                                        KNeighborsClassifier(n_jobs=-1,\n",
       "                                                             n_neighbors=3))]),\n",
       "             n_jobs=-1,\n",
       "             param_grid=[{&#x27;classifier&#x27;: [KNeighborsClassifier(n_jobs=-1,\n",
       "                                                              n_neighbors=3)],\n",
       "                          &#x27;classifier__algorithm&#x27;: [&#x27;ball_tree&#x27;, &#x27;kd_tree&#x27;],\n",
       "                          &#x27;classifier__leaf_size&#x27;: [5, 12, 20],\n",
       "                          &#x27;classifier__n_neighbors&#x27;: [3, 9, 1...\n",
       "                                                 &#x27;sigmoid&#x27;],\n",
       "                          &#x27;classifier__shrinking&#x27;: [True, False]},\n",
       "                         {&#x27;classifier&#x27;: [DecisionTreeClassifier(min_samples_split=10,\n",
       "                                                                random_state=42)],\n",
       "                          &#x27;classifier__criterion&#x27;: [&#x27;gini&#x27;, &#x27;entropy&#x27;,\n",
       "                                                    &#x27;log_loss&#x27;],\n",
       "                          &#x27;classifier__max_depth&#x27;: [10, 20, 50, 100],\n",
       "                          &#x27;classifier__min_samples_split&#x27;: [2, 5, 10, 15, 25],\n",
       "                          &#x27;classifier__splitter&#x27;: [&#x27;best&#x27;, &#x27;random&#x27;]}],\n",
       "             return_train_score=True, scoring=&#x27;accuracy&#x27;)</pre></div></div></div><div class=\"sk-parallel\"><div class=\"sk-parallel-item\"><div class=\"sk-item\"><div class=\"sk-label-container\"><div class=\"sk-label sk-toggleable\"><input class=\"sk-toggleable__control sk-hidden--visually\" id=\"sk-estimator-id-5\" type=\"checkbox\" ><label for=\"sk-estimator-id-5\" class=\"sk-toggleable__label sk-toggleable__label-arrow\">estimator: Pipeline</label><div class=\"sk-toggleable__content\"><pre>Pipeline(steps=[(&#x27;classifier&#x27;, KNeighborsClassifier(n_jobs=-1, n_neighbors=3))])</pre></div></div></div><div class=\"sk-serial\"><div class=\"sk-item\"><div class=\"sk-serial\"><div class=\"sk-item\"><div class=\"sk-estimator sk-toggleable\"><input class=\"sk-toggleable__control sk-hidden--visually\" id=\"sk-estimator-id-6\" type=\"checkbox\" ><label for=\"sk-estimator-id-6\" class=\"sk-toggleable__label sk-toggleable__label-arrow\">KNeighborsClassifier</label><div class=\"sk-toggleable__content\"><pre>KNeighborsClassifier(n_jobs=-1, n_neighbors=3)</pre></div></div></div></div></div></div></div></div></div></div></div></div>"
      ],
      "text/plain": [
       "GridSearchCV(cv=KFold(n_splits=3, random_state=42, shuffle=True),\n",
       "             estimator=Pipeline(steps=[('classifier',\n",
       "                                        KNeighborsClassifier(n_jobs=-1,\n",
       "                                                             n_neighbors=3))]),\n",
       "             n_jobs=-1,\n",
       "             param_grid=[{'classifier': [KNeighborsClassifier(n_jobs=-1,\n",
       "                                                              n_neighbors=3)],\n",
       "                          'classifier__algorithm': ['ball_tree', 'kd_tree'],\n",
       "                          'classifier__leaf_size': [5, 12, 20],\n",
       "                          'classifier__n_neighbors': [3, 9, 1...\n",
       "                                                 'sigmoid'],\n",
       "                          'classifier__shrinking': [True, False]},\n",
       "                         {'classifier': [DecisionTreeClassifier(min_samples_split=10,\n",
       "                                                                random_state=42)],\n",
       "                          'classifier__criterion': ['gini', 'entropy',\n",
       "                                                    'log_loss'],\n",
       "                          'classifier__max_depth': [10, 20, 50, 100],\n",
       "                          'classifier__min_samples_split': [2, 5, 10, 15, 25],\n",
       "                          'classifier__splitter': ['best', 'random']}],\n",
       "             return_train_score=True, scoring='accuracy')"
      ]
     },
     "execution_count": 47,
     "metadata": {},
     "output_type": "execute_result"
    }
   ],
   "source": [
    "%%time\n",
    "gridCV.fit(X_train,y_train)"
   ]
  },
  {
   "cell_type": "code",
   "execution_count": 48,
   "metadata": {},
   "outputs": [
    {
     "data": {
      "text/html": [
       "<style>#sk-container-id-3 {color: black;background-color: white;}#sk-container-id-3 pre{padding: 0;}#sk-container-id-3 div.sk-toggleable {background-color: white;}#sk-container-id-3 label.sk-toggleable__label {cursor: pointer;display: block;width: 100%;margin-bottom: 0;padding: 0.3em;box-sizing: border-box;text-align: center;}#sk-container-id-3 label.sk-toggleable__label-arrow:before {content: \"▸\";float: left;margin-right: 0.25em;color: #696969;}#sk-container-id-3 label.sk-toggleable__label-arrow:hover:before {color: black;}#sk-container-id-3 div.sk-estimator:hover label.sk-toggleable__label-arrow:before {color: black;}#sk-container-id-3 div.sk-toggleable__content {max-height: 0;max-width: 0;overflow: hidden;text-align: left;background-color: #f0f8ff;}#sk-container-id-3 div.sk-toggleable__content pre {margin: 0.2em;color: black;border-radius: 0.25em;background-color: #f0f8ff;}#sk-container-id-3 input.sk-toggleable__control:checked~div.sk-toggleable__content {max-height: 200px;max-width: 100%;overflow: auto;}#sk-container-id-3 input.sk-toggleable__control:checked~label.sk-toggleable__label-arrow:before {content: \"▾\";}#sk-container-id-3 div.sk-estimator input.sk-toggleable__control:checked~label.sk-toggleable__label {background-color: #d4ebff;}#sk-container-id-3 div.sk-label input.sk-toggleable__control:checked~label.sk-toggleable__label {background-color: #d4ebff;}#sk-container-id-3 input.sk-hidden--visually {border: 0;clip: rect(1px 1px 1px 1px);clip: rect(1px, 1px, 1px, 1px);height: 1px;margin: -1px;overflow: hidden;padding: 0;position: absolute;width: 1px;}#sk-container-id-3 div.sk-estimator {font-family: monospace;background-color: #f0f8ff;border: 1px dotted black;border-radius: 0.25em;box-sizing: border-box;margin-bottom: 0.5em;}#sk-container-id-3 div.sk-estimator:hover {background-color: #d4ebff;}#sk-container-id-3 div.sk-parallel-item::after {content: \"\";width: 100%;border-bottom: 1px solid gray;flex-grow: 1;}#sk-container-id-3 div.sk-label:hover label.sk-toggleable__label {background-color: #d4ebff;}#sk-container-id-3 div.sk-serial::before {content: \"\";position: absolute;border-left: 1px solid gray;box-sizing: border-box;top: 0;bottom: 0;left: 50%;z-index: 0;}#sk-container-id-3 div.sk-serial {display: flex;flex-direction: column;align-items: center;background-color: white;padding-right: 0.2em;padding-left: 0.2em;position: relative;}#sk-container-id-3 div.sk-item {position: relative;z-index: 1;}#sk-container-id-3 div.sk-parallel {display: flex;align-items: stretch;justify-content: center;background-color: white;position: relative;}#sk-container-id-3 div.sk-item::before, #sk-container-id-3 div.sk-parallel-item::before {content: \"\";position: absolute;border-left: 1px solid gray;box-sizing: border-box;top: 0;bottom: 0;left: 50%;z-index: -1;}#sk-container-id-3 div.sk-parallel-item {display: flex;flex-direction: column;z-index: 1;position: relative;background-color: white;}#sk-container-id-3 div.sk-parallel-item:first-child::after {align-self: flex-end;width: 50%;}#sk-container-id-3 div.sk-parallel-item:last-child::after {align-self: flex-start;width: 50%;}#sk-container-id-3 div.sk-parallel-item:only-child::after {width: 0;}#sk-container-id-3 div.sk-dashed-wrapped {border: 1px dashed gray;margin: 0 0.4em 0.5em 0.4em;box-sizing: border-box;padding-bottom: 0.4em;background-color: white;}#sk-container-id-3 div.sk-label label {font-family: monospace;font-weight: bold;display: inline-block;line-height: 1.2em;}#sk-container-id-3 div.sk-label-container {text-align: center;}#sk-container-id-3 div.sk-container {/* jupyter's `normalize.less` sets `[hidden] { display: none; }` but bootstrap.min.css set `[hidden] { display: none !important; }` so we also need the `!important` here to be able to override the default hidden behavior on the sphinx rendered scikit-learn.org. See: https://github.com/scikit-learn/scikit-learn/issues/21755 */display: inline-block !important;position: relative;}#sk-container-id-3 div.sk-text-repr-fallback {display: none;}</style><div id=\"sk-container-id-3\" class=\"sk-top-container\"><div class=\"sk-text-repr-fallback\"><pre>Pipeline(steps=[(&#x27;classifier&#x27;,\n",
       "                 RandomForestClassifier(criterion=&#x27;entropy&#x27;, max_depth=20,\n",
       "                                        random_state=42))])</pre><b>In a Jupyter environment, please rerun this cell to show the HTML representation or trust the notebook. <br />On GitHub, the HTML representation is unable to render, please try loading this page with nbviewer.org.</b></div><div class=\"sk-container\" hidden><div class=\"sk-item sk-dashed-wrapped\"><div class=\"sk-label-container\"><div class=\"sk-label sk-toggleable\"><input class=\"sk-toggleable__control sk-hidden--visually\" id=\"sk-estimator-id-7\" type=\"checkbox\" ><label for=\"sk-estimator-id-7\" class=\"sk-toggleable__label sk-toggleable__label-arrow\">Pipeline</label><div class=\"sk-toggleable__content\"><pre>Pipeline(steps=[(&#x27;classifier&#x27;,\n",
       "                 RandomForestClassifier(criterion=&#x27;entropy&#x27;, max_depth=20,\n",
       "                                        random_state=42))])</pre></div></div></div><div class=\"sk-serial\"><div class=\"sk-item\"><div class=\"sk-estimator sk-toggleable\"><input class=\"sk-toggleable__control sk-hidden--visually\" id=\"sk-estimator-id-8\" type=\"checkbox\" ><label for=\"sk-estimator-id-8\" class=\"sk-toggleable__label sk-toggleable__label-arrow\">RandomForestClassifier</label><div class=\"sk-toggleable__content\"><pre>RandomForestClassifier(criterion=&#x27;entropy&#x27;, max_depth=20, random_state=42)</pre></div></div></div></div></div></div></div>"
      ],
      "text/plain": [
       "Pipeline(steps=[('classifier',\n",
       "                 RandomForestClassifier(criterion='entropy', max_depth=20,\n",
       "                                        random_state=42))])"
      ]
     },
     "execution_count": 48,
     "metadata": {},
     "output_type": "execute_result"
    }
   ],
   "source": [
    "gridCV.best_estimator_"
   ]
  },
  {
   "cell_type": "code",
   "execution_count": 49,
   "metadata": {},
   "outputs": [
    {
     "data": {
      "text/plain": [
       "0.7302798982188295"
      ]
     },
     "execution_count": 49,
     "metadata": {},
     "output_type": "execute_result"
    }
   ],
   "source": [
    "gridCV.best_score_"
   ]
  },
  {
   "cell_type": "markdown",
   "metadata": {},
   "source": [
    "# Teste novos pré-processamentos e verifique se há melhora nos resultados."
   ]
  },
  {
   "cell_type": "code",
   "execution_count": 311,
   "metadata": {},
   "outputs": [],
   "source": [
    "reviews_df = pd.read_csv(r\"C:\\Users\\Rícharde\\Documents\\Dell lead\\Atividade 06\\moviereviews.tsv\", sep='\\t')"
   ]
  },
  {
   "cell_type": "markdown",
   "metadata": {},
   "source": [
    "Data Frame preprocessing "
   ]
  },
  {
   "cell_type": "code",
   "execution_count": 312,
   "metadata": {},
   "outputs": [],
   "source": [
    "reviews_df = reviews_df.drop_duplicates()\n",
    "reviews_df=reviews_df.dropna()"
   ]
  },
  {
   "cell_type": "code",
   "execution_count": 313,
   "metadata": {},
   "outputs": [],
   "source": [
    "# Label transform \n",
    "data = LabelBinarizer().fit_transform(reviews_df[\"label\"])\n",
    "reviews_df[\"label\"] = data"
   ]
  },
  {
   "cell_type": "code",
   "execution_count": 314,
   "metadata": {},
   "outputs": [
    {
     "name": "stdout",
     "output_type": "stream",
     "text": [
      "<class 'pandas.core.frame.DataFrame'>\n",
      "Int64Index: 1940 entries, 0 to 1999\n",
      "Data columns (total 2 columns):\n",
      " #   Column  Non-Null Count  Dtype \n",
      "---  ------  --------------  ----- \n",
      " 0   label   1940 non-null   int32 \n",
      " 1   review  1940 non-null   object\n",
      "dtypes: int32(1), object(1)\n",
      "memory usage: 37.9+ KB\n"
     ]
    }
   ],
   "source": [
    "reviews_df.info()"
   ]
  },
  {
   "cell_type": "markdown",
   "metadata": {},
   "source": [
    "Nlp preprocessing:"
   ]
  },
  {
   "cell_type": "markdown",
   "metadata": {},
   "source": [
    "Expand Contractions"
   ]
  },
  {
   "cell_type": "code",
   "execution_count": 315,
   "metadata": {},
   "outputs": [],
   "source": [
    "def expand_contractions(sentence):\n",
    "    expanded_words = []   \n",
    "    for word in sentence.split():\n",
    "        expanded_words.append(contractions.fix(word))  \n",
    "    return ' '.join(expanded_words)"
   ]
  },
  {
   "cell_type": "markdown",
   "metadata": {},
   "source": [
    "Lower Case"
   ]
  },
  {
   "cell_type": "code",
   "execution_count": 316,
   "metadata": {},
   "outputs": [],
   "source": [
    "def lower_case(sentence):\n",
    "    sentence = sentence.lower()\n",
    "    return sentence"
   ]
  },
  {
   "cell_type": "markdown",
   "metadata": {},
   "source": [
    "Clear data"
   ]
  },
  {
   "cell_type": "code",
   "execution_count": 317,
   "metadata": {},
   "outputs": [],
   "source": [
    "# remove links,dots,commas,numbers \n",
    "def clean_text(instance):\n",
    "    instance = instance.lower()\n",
    "    instance = re.sub('\\[.*?\\]', ' ', instance)\n",
    "    instance = re.sub('https?://\\S+|www\\.\\S+', ' ', instance)\n",
    "    instance = re.sub('<.*?>+', ' ', instance)\n",
    "    instance = re.sub('[%s]' % re.escape(string.punctuation), ' ', instance)\n",
    "    instance = re.sub('\\n', '', instance)\n",
    "    instance = re.sub('\\w*\\d\\w*', ' ', instance)\n",
    "    return instance"
   ]
  },
  {
   "cell_type": "markdown",
   "metadata": {},
   "source": [
    "Remove Stopwords"
   ]
  },
  {
   "cell_type": "code",
   "execution_count": 318,
   "metadata": {},
   "outputs": [],
   "source": [
    "def RemoveStopWords(instance):\n",
    "    stopwords = set(nltk.corpus.stopwords.words('english'))\n",
    "    palavras = [i for i in instance.split() if not i in stopwords]\n",
    "    return (\" \".join(palavras))"
   ]
  },
  {
   "cell_type": "markdown",
   "metadata": {},
   "source": [
    "Applying Lemmatization"
   ]
  },
  {
   "cell_type": "code",
   "execution_count": 319,
   "metadata": {},
   "outputs": [],
   "source": [
    "wordnet_lemmatizer = WordNetLemmatizer()\n",
    "\n",
    "def Lemmatization(instancia):\n",
    "  palavras = []\n",
    "  for w in instancia.split():\n",
    "    palavras.append(wordnet_lemmatizer.lemmatize(w))\n",
    "  return (\" \".join(palavras))"
   ]
  },
  {
   "cell_type": "markdown",
   "metadata": {},
   "source": [
    "Remove Extra Spaces"
   ]
  },
  {
   "cell_type": "code",
   "execution_count": 320,
   "metadata": {},
   "outputs": [],
   "source": [
    "def remove_extra_spaces(instance):\n",
    "    instance = re.sub(' +', ' ', instance)\n",
    "    return instance"
   ]
  },
  {
   "cell_type": "markdown",
   "metadata": {},
   "source": [
    "Running preprocessing "
   ]
  },
  {
   "cell_type": "code",
   "execution_count": 321,
   "metadata": {},
   "outputs": [],
   "source": [
    "def pre_processing(df,local_data):\n",
    "    df[local_data] = df[local_data].apply(lambda local_data: expand_contractions(local_data))\n",
    "    df[local_data] = df[local_data].apply(lambda local_data: lower_case(local_data))\n",
    "    df[local_data] = df[local_data].apply(lambda local_data: clean_text(local_data))\n",
    "    df[local_data] = df[local_data].apply(lambda local_data: RemoveStopWords(local_data))\n",
    "    df[local_data] = df[local_data].apply(lambda local_data: Lemmatization(local_data))\n",
    "    df[local_data] = df[local_data].apply(lambda local_data: remove_extra_spaces(local_data))\n",
    "    return df "
   ]
  },
  {
   "cell_type": "code",
   "execution_count": 322,
   "metadata": {},
   "outputs": [],
   "source": [
    "reviews_df = pre_processing(reviews_df,'review')"
   ]
  },
  {
   "cell_type": "markdown",
   "metadata": {},
   "source": [
    "Separando dados "
   ]
  },
  {
   "cell_type": "code",
   "execution_count": 323,
   "metadata": {},
   "outputs": [],
   "source": [
    "X = reviews_df.review\n",
    "y = reviews_df.label"
   ]
  },
  {
   "cell_type": "markdown",
   "metadata": {},
   "source": [
    "Vectorize"
   ]
  },
  {
   "cell_type": "markdown",
   "metadata": {},
   "source": [
    "BOW"
   ]
  },
  {
   "cell_type": "code",
   "execution_count": 324,
   "metadata": {},
   "outputs": [],
   "source": [
    "count_vec = CountVectorizer(ngram_range=(1,1))\n",
    "X_count   = count_vec.fit_transform(X)"
   ]
  },
  {
   "cell_type": "markdown",
   "metadata": {},
   "source": [
    "TF-IDF"
   ]
  },
  {
   "cell_type": "code",
   "execution_count": 325,
   "metadata": {},
   "outputs": [],
   "source": [
    "tf = TfidfTransformer()\n",
    "X_freq_count = tf.fit_transform(X_count)"
   ]
  },
  {
   "cell_type": "code",
   "execution_count": 326,
   "metadata": {},
   "outputs": [],
   "source": [
    "X_train, X_test, y_train, y_test = train_test_split(X_freq_count,y,test_size=0.8,random_state=42,shuffle=True)"
   ]
  },
  {
   "cell_type": "markdown",
   "metadata": {},
   "source": [
    "Best Classifier test "
   ]
  },
  {
   "cell_type": "code",
   "execution_count": 327,
   "metadata": {},
   "outputs": [],
   "source": [
    "clf = RandomForestClassifier(criterion='entropy', max_depth=20, random_state=42)"
   ]
  },
  {
   "cell_type": "code",
   "execution_count": 328,
   "metadata": {},
   "outputs": [
    {
     "data": {
      "text/html": [
       "<style>#sk-container-id-18 {color: black;background-color: white;}#sk-container-id-18 pre{padding: 0;}#sk-container-id-18 div.sk-toggleable {background-color: white;}#sk-container-id-18 label.sk-toggleable__label {cursor: pointer;display: block;width: 100%;margin-bottom: 0;padding: 0.3em;box-sizing: border-box;text-align: center;}#sk-container-id-18 label.sk-toggleable__label-arrow:before {content: \"▸\";float: left;margin-right: 0.25em;color: #696969;}#sk-container-id-18 label.sk-toggleable__label-arrow:hover:before {color: black;}#sk-container-id-18 div.sk-estimator:hover label.sk-toggleable__label-arrow:before {color: black;}#sk-container-id-18 div.sk-toggleable__content {max-height: 0;max-width: 0;overflow: hidden;text-align: left;background-color: #f0f8ff;}#sk-container-id-18 div.sk-toggleable__content pre {margin: 0.2em;color: black;border-radius: 0.25em;background-color: #f0f8ff;}#sk-container-id-18 input.sk-toggleable__control:checked~div.sk-toggleable__content {max-height: 200px;max-width: 100%;overflow: auto;}#sk-container-id-18 input.sk-toggleable__control:checked~label.sk-toggleable__label-arrow:before {content: \"▾\";}#sk-container-id-18 div.sk-estimator input.sk-toggleable__control:checked~label.sk-toggleable__label {background-color: #d4ebff;}#sk-container-id-18 div.sk-label input.sk-toggleable__control:checked~label.sk-toggleable__label {background-color: #d4ebff;}#sk-container-id-18 input.sk-hidden--visually {border: 0;clip: rect(1px 1px 1px 1px);clip: rect(1px, 1px, 1px, 1px);height: 1px;margin: -1px;overflow: hidden;padding: 0;position: absolute;width: 1px;}#sk-container-id-18 div.sk-estimator {font-family: monospace;background-color: #f0f8ff;border: 1px dotted black;border-radius: 0.25em;box-sizing: border-box;margin-bottom: 0.5em;}#sk-container-id-18 div.sk-estimator:hover {background-color: #d4ebff;}#sk-container-id-18 div.sk-parallel-item::after {content: \"\";width: 100%;border-bottom: 1px solid gray;flex-grow: 1;}#sk-container-id-18 div.sk-label:hover label.sk-toggleable__label {background-color: #d4ebff;}#sk-container-id-18 div.sk-serial::before {content: \"\";position: absolute;border-left: 1px solid gray;box-sizing: border-box;top: 0;bottom: 0;left: 50%;z-index: 0;}#sk-container-id-18 div.sk-serial {display: flex;flex-direction: column;align-items: center;background-color: white;padding-right: 0.2em;padding-left: 0.2em;position: relative;}#sk-container-id-18 div.sk-item {position: relative;z-index: 1;}#sk-container-id-18 div.sk-parallel {display: flex;align-items: stretch;justify-content: center;background-color: white;position: relative;}#sk-container-id-18 div.sk-item::before, #sk-container-id-18 div.sk-parallel-item::before {content: \"\";position: absolute;border-left: 1px solid gray;box-sizing: border-box;top: 0;bottom: 0;left: 50%;z-index: -1;}#sk-container-id-18 div.sk-parallel-item {display: flex;flex-direction: column;z-index: 1;position: relative;background-color: white;}#sk-container-id-18 div.sk-parallel-item:first-child::after {align-self: flex-end;width: 50%;}#sk-container-id-18 div.sk-parallel-item:last-child::after {align-self: flex-start;width: 50%;}#sk-container-id-18 div.sk-parallel-item:only-child::after {width: 0;}#sk-container-id-18 div.sk-dashed-wrapped {border: 1px dashed gray;margin: 0 0.4em 0.5em 0.4em;box-sizing: border-box;padding-bottom: 0.4em;background-color: white;}#sk-container-id-18 div.sk-label label {font-family: monospace;font-weight: bold;display: inline-block;line-height: 1.2em;}#sk-container-id-18 div.sk-label-container {text-align: center;}#sk-container-id-18 div.sk-container {/* jupyter's `normalize.less` sets `[hidden] { display: none; }` but bootstrap.min.css set `[hidden] { display: none !important; }` so we also need the `!important` here to be able to override the default hidden behavior on the sphinx rendered scikit-learn.org. See: https://github.com/scikit-learn/scikit-learn/issues/21755 */display: inline-block !important;position: relative;}#sk-container-id-18 div.sk-text-repr-fallback {display: none;}</style><div id=\"sk-container-id-18\" class=\"sk-top-container\"><div class=\"sk-text-repr-fallback\"><pre>RandomForestClassifier(criterion=&#x27;entropy&#x27;, max_depth=20, random_state=42)</pre><b>In a Jupyter environment, please rerun this cell to show the HTML representation or trust the notebook. <br />On GitHub, the HTML representation is unable to render, please try loading this page with nbviewer.org.</b></div><div class=\"sk-container\" hidden><div class=\"sk-item\"><div class=\"sk-estimator sk-toggleable\"><input class=\"sk-toggleable__control sk-hidden--visually\" id=\"sk-estimator-id-24\" type=\"checkbox\" checked><label for=\"sk-estimator-id-24\" class=\"sk-toggleable__label sk-toggleable__label-arrow\">RandomForestClassifier</label><div class=\"sk-toggleable__content\"><pre>RandomForestClassifier(criterion=&#x27;entropy&#x27;, max_depth=20, random_state=42)</pre></div></div></div></div></div>"
      ],
      "text/plain": [
       "RandomForestClassifier(criterion='entropy', max_depth=20, random_state=42)"
      ]
     },
     "execution_count": 328,
     "metadata": {},
     "output_type": "execute_result"
    }
   ],
   "source": [
    "clf.fit(X_train,y_train)"
   ]
  },
  {
   "cell_type": "code",
   "execution_count": 329,
   "metadata": {},
   "outputs": [],
   "source": [
    "y_pred = clf.predict(X_test)"
   ]
  },
  {
   "cell_type": "markdown",
   "metadata": {},
   "source": [
    "Results"
   ]
  },
  {
   "cell_type": "code",
   "execution_count": 331,
   "metadata": {},
   "outputs": [
    {
     "data": {
      "text/plain": [
       "0.7378881987577639"
      ]
     },
     "execution_count": 331,
     "metadata": {},
     "output_type": "execute_result"
    }
   ],
   "source": [
    "f1_score(y_test,y_pred)"
   ]
  },
  {
   "cell_type": "code",
   "execution_count": 330,
   "metadata": {},
   "outputs": [
    {
     "data": {
      "text/plain": [
       "0.7280927835051546"
      ]
     },
     "execution_count": 330,
     "metadata": {},
     "output_type": "execute_result"
    }
   ],
   "source": [
    "accuracy_score(y_test,y_pred)"
   ]
  },
  {
   "cell_type": "markdown",
   "metadata": {},
   "source": [
    "# Faça análise dos resultados.\n"
   ]
  }
 ],
 "metadata": {
  "kernelspec": {
   "display_name": "Python 3.10.4 64-bit (system)",
   "language": "python",
   "name": "python3"
  },
  "language_info": {
   "codemirror_mode": {
    "name": "ipython",
    "version": 3
   },
   "file_extension": ".py",
   "mimetype": "text/x-python",
   "name": "python",
   "nbconvert_exporter": "python",
   "pygments_lexer": "ipython3",
   "version": "3.10.4"
  },
  "orig_nbformat": 4,
  "vscode": {
   "interpreter": {
    "hash": "43241d3e6bb1972c551f4c6aa4b3e6bb2f4e84c18abfcaae8493a58a132971b8"
   }
  }
 },
 "nbformat": 4,
 "nbformat_minor": 2
}
