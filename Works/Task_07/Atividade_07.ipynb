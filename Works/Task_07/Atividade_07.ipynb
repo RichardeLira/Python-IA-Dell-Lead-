{
 "cells": [
  {
   "cell_type": "markdown",
   "metadata": {},
   "source": [
    "# Realizando leitura do arquivo iphone.txt"
   ]
  },
  {
   "cell_type": "code",
   "execution_count": 479,
   "metadata": {},
   "outputs": [],
   "source": [
    "with open(r\"C:\\Users\\Rícharde\\Documents\\Dell lead\\Atividade 07\\iphone.txt\",\"r\",encoding=\"utf-8\") as file:\n",
    "    document = file.read()"
   ]
  },
  {
   "cell_type": "code",
   "execution_count": 480,
   "metadata": {},
   "outputs": [
    {
     "data": {
      "text/plain": [
       "'\\ufeffA 412MHz ARM CPU and a 3.5-inch screen with a resolution of 480 320 to 163ppi. For the iPhone, this is where it all began. It wasn’t the first smartphone introduction in many respects, but it was undoubtedly the most significant.\\nThe iPhone 3G is identical to the first iPhone, except with a thinner metal outside border and a 3G connection. 3GS similar to the 3G, but with a 600 MHz ARM A8 CPU, twice the RAM (256 GB), and a fingerprint-resistant screen covering.\\nWith a 3.5-inch screen with 960 x 480 resolution and the debut of the Retina screen, here is where the design and power truly increased. The flat glass design has become iconic, and FaceTime included a front camera.\\nIt now has a faster processor and Siri as a personal assistant. Tim Cook, the CEO of Apple, unveiled the iPhone 4S on October 4, 2011, and Steve Jobs died the next day, on October 5.\\nAnother step forward for Apple, with a bigger 4-inch screen that runs at 1136 x 640 resolution and a new design for the iPhone. Lightning, a new connection, was also introduced.\\n5S had a plastic body.  The iPhone 5S ditched the home button in favour of Touch ID, which can unlock the phone and verify transactions made on the App Store.\\nThis model grew in size to a 4.7″ 1334 x 640 screen with 326 PPI with a shift to a metal body. Apple Pay was also introduced. 6 Plus is the same as the iPhone 6, except for a bigger 5.5-inch screen with a resolution of 1920 x 1080 at 401ppi and a larger battery of 2915mAh to keep it going.\\nIn 6S, the aluminium used to make it stronger has been upgraded, along with improvements in performance and battery life and sophisticated capabilities like 3D Touch and 4K video recording.\\nBy reverting to the classic appearance of the iPhone 5 models, the iPhone SE has made an unexpected shift. It did this to provide a smaller and less expensive choice while retaining the 6S’s strong internals, including the A9 CPU and the most recent camera, but with a 4-inch screen with 1136 x 640 pixels.\\nThe A10 processor powers the iPhone 7, which also adds waterproofing. The debut of the dual camera on the back demonstrated a significant difference in the feature set. The dual camera, which works in tandem with the new iPhone 7, is totally new, featuring portrait bokeh and 2x optical zoom for high-quality close-ups.\\nAlthough the screen size and resolution are identical to those of the iPhone 7, Apple has introduced True Tone technology, replaced the glass with metal, and increased the storage capacity. In addition, wireless charging is now possible, and the CPU has been updated to the A11 chip.\\nThe iPhone 8 Plus has True Tone technology, wireless charging, a new CPU, and double the storage. The final iPhone model uses Touch ID as a biometric option, with the iPhone X setting the bar for future iPhones with Face ID.\\nThe iPhone X  debuted with an OLED screen, minimal grooves, and face recognition using facial ID, doing away with one of the iPhone’s most recognisable interactions: the home button.\\nThe iPhone XR is the entry-level model for 2018, featuring an aluminium frame with stainless steel accents, a single camera with dual lenses, and an LCD with OLED.\\nThe iPhone XS has a better camera than the iPhone X, dual-SIM compatibility, a Bionic A12 processor, a 512 GB storage option, lengthy battery life, and a new gold finish. However, the design of the 10th-anniversary model has not changed.\\nThe iPhone 11 replaces the iPhone XR and, while being the same size, adds a second camera to the back and a new matte camera cover.\\nThe iPhone 11 Pro, which succeeds the iPhone XS Max, has an identical design to the iPhone 11 Pro but bigger. It’s a 6.5-inch stunner, especially in midnight green, and its photography skills are outstanding, with Night Mode improving low-light images significantly.\\nIn September 2020, Apple introduced the iPhone 12. A smartphone with a 6.1-inch XDR OLED Super Retina display, a ceramic frame, a new Bionic A14 processor, and upgraded cameras.\\nThe iPhone 12 puts a lot of emphasis on 5G, with each model having 5G capabilities but only using them when they’re available to preserve battery life. The iPhone 12 Pro Max is Apple’s biggest smartphone, and it has some of the same features as the iPhone 11 Pro Max 6.5″. Unfortunately, it’s also one of the priciest on the market.'"
      ]
     },
     "execution_count": 480,
     "metadata": {},
     "output_type": "execute_result"
    }
   ],
   "source": [
    "document"
   ]
  },
  {
   "cell_type": "markdown",
   "metadata": {},
   "source": [
    "# Encontre as versões do iPhone utilizando o Matcher do spacy.\n"
   ]
  },
  {
   "cell_type": "code",
   "execution_count": 481,
   "metadata": {},
   "outputs": [],
   "source": [
    "import spacy\n",
    "from spacy.matcher import Matcher\n"
   ]
  },
  {
   "cell_type": "code",
   "execution_count": 482,
   "metadata": {},
   "outputs": [],
   "source": [
    "nlp =  spacy.load(\"en_core_web_sm\")\n",
    "matcher = Matcher(nlp.vocab)"
   ]
  },
  {
   "cell_type": "code",
   "execution_count": 483,
   "metadata": {},
   "outputs": [],
   "source": [
    "patterns = [\n",
    "    [{'LOWER': 'iphone'},{\"IS_DIGIT\" : True}],\n",
    "    [{'LOWER': 'iphone'},{\"LENGTH\" : 2}],\n",
    "    [{'LOWER': 'iphone'},{\"IS_DIGIT\" : True},{\"LENGTH\" : 3}],\n",
    "    [{'LOWER': 'iphone'},{\"IS_DIGIT\" : True},{\"LENGTH\" : 3},{\"LENGTH\" : 3}] \n",
    "]\n"
   ]
  },
  {
   "cell_type": "code",
   "execution_count": 484,
   "metadata": {},
   "outputs": [],
   "source": [
    "matcher.add('iphone_models',patterns)\n",
    "doc = nlp(document)"
   ]
  },
  {
   "cell_type": "code",
   "execution_count": 485,
   "metadata": {},
   "outputs": [],
   "source": [
    "found = matcher(doc)"
   ]
  },
  {
   "cell_type": "code",
   "execution_count": 486,
   "metadata": {},
   "outputs": [
    {
     "name": "stdout",
     "output_type": "stream",
     "text": [
      "iPhone 3\n",
      "iPhone 4S\n",
      "iPhone 5S\n",
      "iPhone 6\n",
      "iPhone 5\n",
      "iPhone SE\n",
      "iPhone 7\n",
      "iPhone 7\n",
      "iPhone 7\n",
      "iPhone 8\n",
      "iPhone’s\n",
      "iPhone XR\n",
      "iPhone XS\n",
      "iPhone 11\n",
      "iPhone XR\n",
      "iPhone 11\n",
      "iPhone 11 Pro\n",
      "iPhone XS\n",
      "iPhone 11\n",
      "iPhone 11 Pro\n",
      "iPhone 11 Pro but\n",
      "iPhone 12\n",
      "iPhone 12\n",
      "iPhone 12\n",
      "iPhone 12 Pro\n",
      "iPhone 12 Pro Max\n",
      "iPhone 11\n",
      "iPhone 11 Pro\n",
      "iPhone 11 Pro Max\n"
     ]
    }
   ],
   "source": [
    "iphones_models = []\n",
    "for match_id, start, end in found:\n",
    "    string_id = nlp.vocab.strings[match_id]\n",
    "    span = doc[start:end]\n",
    "    iphones_models.append(span.text)\n",
    "    print(span.text)"
   ]
  },
  {
   "cell_type": "code",
   "execution_count": 487,
   "metadata": {},
   "outputs": [
    {
     "data": {
      "text/plain": [
       "{'iPhone 11',\n",
       " 'iPhone 11 Pro',\n",
       " 'iPhone 11 Pro Max',\n",
       " 'iPhone 12',\n",
       " 'iPhone 12 Pro',\n",
       " 'iPhone 12 Pro Max',\n",
       " 'iPhone 3',\n",
       " 'iPhone 4S',\n",
       " 'iPhone 5',\n",
       " 'iPhone 5S',\n",
       " 'iPhone 6',\n",
       " 'iPhone 7',\n",
       " 'iPhone 8',\n",
       " 'iPhone SE',\n",
       " 'iPhone XR',\n",
       " 'iPhone XS'}"
      ]
     },
     "execution_count": 487,
     "metadata": {},
     "output_type": "execute_result"
    }
   ],
   "source": [
    "iphones_models.remove('iPhone 11 Pro but')\n",
    "iphones_models.remove('iPhone’s')\n",
    "set(iphones_models)"
   ]
  }
 ],
 "metadata": {
  "kernelspec": {
   "display_name": "Python 3.10.4 64-bit (system)",
   "language": "python",
   "name": "python3"
  },
  "language_info": {
   "codemirror_mode": {
    "name": "ipython",
    "version": 3
   },
   "file_extension": ".py",
   "mimetype": "text/x-python",
   "name": "python",
   "nbconvert_exporter": "python",
   "pygments_lexer": "ipython3",
   "version": "3.10.4"
  },
  "orig_nbformat": 4,
  "vscode": {
   "interpreter": {
    "hash": "43241d3e6bb1972c551f4c6aa4b3e6bb2f4e84c18abfcaae8493a58a132971b8"
   }
  }
 },
 "nbformat": 4,
 "nbformat_minor": 2
}
