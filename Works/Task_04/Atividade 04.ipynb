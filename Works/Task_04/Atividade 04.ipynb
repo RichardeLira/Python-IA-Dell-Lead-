{
 "cells": [
  {
   "cell_type": "markdown",
   "metadata": {},
   "source": [
    "Library imports"
   ]
  },
  {
   "cell_type": "code",
   "execution_count": 1,
   "metadata": {},
   "outputs": [],
   "source": [
    "import pandas as pd \n",
    "import numpy as np \n",
    "# Models \n",
    "from sklearn.linear_model import LinearRegression\n",
    "from sklearn.preprocessing import PolynomialFeatures\n",
    "from sklearn.neighbors import LocalOutlierFactor\n",
    "from sklearn.manifold import TSNE\n",
    "from sklearn.linear_model import LinearRegression\n",
    "from sklearn.pipeline import Pipeline\n",
    "from sklearn.model_selection import train_test_split\n",
    "from sklearn.model_selection import KFold\n",
    "from sklearn.model_selection import GridSearchCV\n",
    "# Metrics \n",
    "from sklearn.metrics import mean_absolute_error\n",
    "from sklearn.metrics import mean_squared_error\n",
    "# StandardScaler and MixMaxScaler\n",
    "from sklearn.preprocessing import StandardScaler\n",
    "from sklearn.preprocessing import MinMaxScaler\n",
    "# Graphic \n",
    "import matplotlib.pyplot as plt \n",
    "import seaborn as sns\n",
    "\n",
    "\n"
   ]
  },
  {
   "cell_type": "code",
   "execution_count": 2,
   "metadata": {},
   "outputs": [],
   "source": [
    "aero_df = pd.read_csv(r'C:\\Users\\Rícharde\\Documents\\Dell lead\\Atividade 04\\aerogerador2.csv')"
   ]
  },
  {
   "cell_type": "code",
   "execution_count": 3,
   "metadata": {},
   "outputs": [
    {
     "data": {
      "text/html": [
       "<div>\n",
       "<style scoped>\n",
       "    .dataframe tbody tr th:only-of-type {\n",
       "        vertical-align: middle;\n",
       "    }\n",
       "\n",
       "    .dataframe tbody tr th {\n",
       "        vertical-align: top;\n",
       "    }\n",
       "\n",
       "    .dataframe thead th {\n",
       "        text-align: right;\n",
       "    }\n",
       "</style>\n",
       "<table border=\"1\" class=\"dataframe\">\n",
       "  <thead>\n",
       "    <tr style=\"text-align: right;\">\n",
       "      <th></th>\n",
       "      <th>Wind Speed (m/s)</th>\n",
       "      <th>TheoreticalPowerCurve</th>\n",
       "    </tr>\n",
       "  </thead>\n",
       "  <tbody>\n",
       "    <tr>\n",
       "      <th>0</th>\n",
       "      <td>2.9</td>\n",
       "      <td>16.0</td>\n",
       "    </tr>\n",
       "    <tr>\n",
       "      <th>1</th>\n",
       "      <td>2.9</td>\n",
       "      <td>16.0</td>\n",
       "    </tr>\n",
       "    <tr>\n",
       "      <th>2</th>\n",
       "      <td>2.9</td>\n",
       "      <td>16.0</td>\n",
       "    </tr>\n",
       "    <tr>\n",
       "      <th>3</th>\n",
       "      <td>3.0</td>\n",
       "      <td>18.0</td>\n",
       "    </tr>\n",
       "    <tr>\n",
       "      <th>4</th>\n",
       "      <td>3.0</td>\n",
       "      <td>18.0</td>\n",
       "    </tr>\n",
       "  </tbody>\n",
       "</table>\n",
       "</div>"
      ],
      "text/plain": [
       "   Wind Speed (m/s)  TheoreticalPowerCurve\n",
       "0               2.9                   16.0\n",
       "1               2.9                   16.0\n",
       "2               2.9                   16.0\n",
       "3               3.0                   18.0\n",
       "4               3.0                   18.0"
      ]
     },
     "execution_count": 3,
     "metadata": {},
     "output_type": "execute_result"
    }
   ],
   "source": [
    "aero_df.head()"
   ]
  },
  {
   "cell_type": "markdown",
   "metadata": {},
   "source": [
    "Separação dos dados"
   ]
  },
  {
   "cell_type": "code",
   "execution_count": 4,
   "metadata": {},
   "outputs": [],
   "source": [
    "X = aero_df['Wind Speed (m/s)'].values\n",
    "y = aero_df['TheoreticalPowerCurve'].values"
   ]
  },
  {
   "cell_type": "code",
   "execution_count": 5,
   "metadata": {},
   "outputs": [],
   "source": [
    "X = np.array(X)\n"
   ]
  },
  {
   "cell_type": "markdown",
   "metadata": {},
   "source": [
    "# Estime a curva de potência utilizando regressão linear e regressão polinomial. Calcule métricas adequadas para o problema e justifique suas escolhas."
   ]
  },
  {
   "cell_type": "code",
   "execution_count": 6,
   "metadata": {},
   "outputs": [],
   "source": [
    "X_train, X_test, y_train, y_test = train_test_split(X,y,test_size=0.8,random_state=42)"
   ]
  },
  {
   "cell_type": "code",
   "execution_count": 7,
   "metadata": {},
   "outputs": [
    {
     "data": {
      "text/html": [
       "<style>#sk-container-id-1 {color: black;background-color: white;}#sk-container-id-1 pre{padding: 0;}#sk-container-id-1 div.sk-toggleable {background-color: white;}#sk-container-id-1 label.sk-toggleable__label {cursor: pointer;display: block;width: 100%;margin-bottom: 0;padding: 0.3em;box-sizing: border-box;text-align: center;}#sk-container-id-1 label.sk-toggleable__label-arrow:before {content: \"▸\";float: left;margin-right: 0.25em;color: #696969;}#sk-container-id-1 label.sk-toggleable__label-arrow:hover:before {color: black;}#sk-container-id-1 div.sk-estimator:hover label.sk-toggleable__label-arrow:before {color: black;}#sk-container-id-1 div.sk-toggleable__content {max-height: 0;max-width: 0;overflow: hidden;text-align: left;background-color: #f0f8ff;}#sk-container-id-1 div.sk-toggleable__content pre {margin: 0.2em;color: black;border-radius: 0.25em;background-color: #f0f8ff;}#sk-container-id-1 input.sk-toggleable__control:checked~div.sk-toggleable__content {max-height: 200px;max-width: 100%;overflow: auto;}#sk-container-id-1 input.sk-toggleable__control:checked~label.sk-toggleable__label-arrow:before {content: \"▾\";}#sk-container-id-1 div.sk-estimator input.sk-toggleable__control:checked~label.sk-toggleable__label {background-color: #d4ebff;}#sk-container-id-1 div.sk-label input.sk-toggleable__control:checked~label.sk-toggleable__label {background-color: #d4ebff;}#sk-container-id-1 input.sk-hidden--visually {border: 0;clip: rect(1px 1px 1px 1px);clip: rect(1px, 1px, 1px, 1px);height: 1px;margin: -1px;overflow: hidden;padding: 0;position: absolute;width: 1px;}#sk-container-id-1 div.sk-estimator {font-family: monospace;background-color: #f0f8ff;border: 1px dotted black;border-radius: 0.25em;box-sizing: border-box;margin-bottom: 0.5em;}#sk-container-id-1 div.sk-estimator:hover {background-color: #d4ebff;}#sk-container-id-1 div.sk-parallel-item::after {content: \"\";width: 100%;border-bottom: 1px solid gray;flex-grow: 1;}#sk-container-id-1 div.sk-label:hover label.sk-toggleable__label {background-color: #d4ebff;}#sk-container-id-1 div.sk-serial::before {content: \"\";position: absolute;border-left: 1px solid gray;box-sizing: border-box;top: 0;bottom: 0;left: 50%;z-index: 0;}#sk-container-id-1 div.sk-serial {display: flex;flex-direction: column;align-items: center;background-color: white;padding-right: 0.2em;padding-left: 0.2em;position: relative;}#sk-container-id-1 div.sk-item {position: relative;z-index: 1;}#sk-container-id-1 div.sk-parallel {display: flex;align-items: stretch;justify-content: center;background-color: white;position: relative;}#sk-container-id-1 div.sk-item::before, #sk-container-id-1 div.sk-parallel-item::before {content: \"\";position: absolute;border-left: 1px solid gray;box-sizing: border-box;top: 0;bottom: 0;left: 50%;z-index: -1;}#sk-container-id-1 div.sk-parallel-item {display: flex;flex-direction: column;z-index: 1;position: relative;background-color: white;}#sk-container-id-1 div.sk-parallel-item:first-child::after {align-self: flex-end;width: 50%;}#sk-container-id-1 div.sk-parallel-item:last-child::after {align-self: flex-start;width: 50%;}#sk-container-id-1 div.sk-parallel-item:only-child::after {width: 0;}#sk-container-id-1 div.sk-dashed-wrapped {border: 1px dashed gray;margin: 0 0.4em 0.5em 0.4em;box-sizing: border-box;padding-bottom: 0.4em;background-color: white;}#sk-container-id-1 div.sk-label label {font-family: monospace;font-weight: bold;display: inline-block;line-height: 1.2em;}#sk-container-id-1 div.sk-label-container {text-align: center;}#sk-container-id-1 div.sk-container {/* jupyter's `normalize.less` sets `[hidden] { display: none; }` but bootstrap.min.css set `[hidden] { display: none !important; }` so we also need the `!important` here to be able to override the default hidden behavior on the sphinx rendered scikit-learn.org. See: https://github.com/scikit-learn/scikit-learn/issues/21755 */display: inline-block !important;position: relative;}#sk-container-id-1 div.sk-text-repr-fallback {display: none;}</style><div id=\"sk-container-id-1\" class=\"sk-top-container\"><div class=\"sk-text-repr-fallback\"><pre>LinearRegression(n_jobs=-1)</pre><b>In a Jupyter environment, please rerun this cell to show the HTML representation or trust the notebook. <br />On GitHub, the HTML representation is unable to render, please try loading this page with nbviewer.org.</b></div><div class=\"sk-container\" hidden><div class=\"sk-item\"><div class=\"sk-estimator sk-toggleable\"><input class=\"sk-toggleable__control sk-hidden--visually\" id=\"sk-estimator-id-1\" type=\"checkbox\" checked><label for=\"sk-estimator-id-1\" class=\"sk-toggleable__label sk-toggleable__label-arrow\">LinearRegression</label><div class=\"sk-toggleable__content\"><pre>LinearRegression(n_jobs=-1)</pre></div></div></div></div></div>"
      ],
      "text/plain": [
       "LinearRegression(n_jobs=-1)"
      ]
     },
     "execution_count": 7,
     "metadata": {},
     "output_type": "execute_result"
    }
   ],
   "source": [
    "lr = LinearRegression(fit_intercept=True, n_jobs=-1)\n",
    "lr.fit(X_train.reshape(-1,1),y_train)"
   ]
  },
  {
   "cell_type": "code",
   "execution_count": 8,
   "metadata": {},
   "outputs": [],
   "source": [
    "y_pred_lr = lr.predict(X_test.reshape(-1,1))\n",
    "y_pred_lr = np.array(y_pred_lr)"
   ]
  },
  {
   "cell_type": "markdown",
   "metadata": {},
   "source": [
    "Mae Result"
   ]
  },
  {
   "cell_type": "code",
   "execution_count": 9,
   "metadata": {},
   "outputs": [
    {
     "name": "stdout",
     "output_type": "stream",
     "text": [
      "15.426794849032165\n"
     ]
    }
   ],
   "source": [
    "mae_pred_lr = mean_absolute_error(y_test,y_pred_lr)\n",
    "print(mae_pred_lr)"
   ]
  },
  {
   "cell_type": "markdown",
   "metadata": {},
   "source": [
    "MSE Result"
   ]
  },
  {
   "cell_type": "code",
   "execution_count": 10,
   "metadata": {},
   "outputs": [
    {
     "name": "stdout",
     "output_type": "stream",
     "text": [
      "517.7416457424604\n"
     ]
    }
   ],
   "source": [
    "mse_pred_lr = mean_squared_error(y_test,y_pred_lr)\n",
    "print(mse_pred_lr)"
   ]
  },
  {
   "cell_type": "markdown",
   "metadata": {},
   "source": [
    "Regressão Linear polinomal"
   ]
  },
  {
   "cell_type": "code",
   "execution_count": 11,
   "metadata": {},
   "outputs": [
    {
     "data": {
      "text/plain": [
       "<matplotlib.legend.Legend at 0x24b9f463d90>"
      ]
     },
     "execution_count": 11,
     "metadata": {},
     "output_type": "execute_result"
    },
    {
     "data": {
      "image/png": "[encoded data removed]",
      "text/plain": [
       "<Figure size 432x288 with 1 Axes>"
      ]
     },
     "metadata": {
      "needs_background": "light"
     },
     "output_type": "display_data"
    }
   ],
   "source": [
    "plt.scatter(X,y,label='Y(X)')\n",
    "plt.xlabel('X')\n",
    "plt.ylabel('y')\n",
    "plt.legend()"
   ]
  },
  {
   "cell_type": "code",
   "execution_count": 12,
   "metadata": {},
   "outputs": [],
   "source": [
    "features_2 = PolynomialFeatures(degree=2)\n",
    "X = X.reshape(-1,1)\n",
    "X_Poly_2 = features_2.fit_transform(X)"
   ]
  },
  {
   "cell_type": "code",
   "execution_count": 13,
   "metadata": {},
   "outputs": [],
   "source": [
    "lr = LinearRegression(fit_intercept=True, n_jobs=-1)\n",
    "y_train = np.array(y_train)\n"
   ]
  },
  {
   "cell_type": "code",
   "execution_count": 14,
   "metadata": {},
   "outputs": [
    {
     "data": {
      "text/html": [
       "<style>#sk-container-id-2 {color: black;background-color: white;}#sk-container-id-2 pre{padding: 0;}#sk-container-id-2 div.sk-toggleable {background-color: white;}#sk-container-id-2 label.sk-toggleable__label {cursor: pointer;display: block;width: 100%;margin-bottom: 0;padding: 0.3em;box-sizing: border-box;text-align: center;}#sk-container-id-2 label.sk-toggleable__label-arrow:before {content: \"▸\";float: left;margin-right: 0.25em;color: #696969;}#sk-container-id-2 label.sk-toggleable__label-arrow:hover:before {color: black;}#sk-container-id-2 div.sk-estimator:hover label.sk-toggleable__label-arrow:before {color: black;}#sk-container-id-2 div.sk-toggleable__content {max-height: 0;max-width: 0;overflow: hidden;text-align: left;background-color: #f0f8ff;}#sk-container-id-2 div.sk-toggleable__content pre {margin: 0.2em;color: black;border-radius: 0.25em;background-color: #f0f8ff;}#sk-container-id-2 input.sk-toggleable__control:checked~div.sk-toggleable__content {max-height: 200px;max-width: 100%;overflow: auto;}#sk-container-id-2 input.sk-toggleable__control:checked~label.sk-toggleable__label-arrow:before {content: \"▾\";}#sk-container-id-2 div.sk-estimator input.sk-toggleable__control:checked~label.sk-toggleable__label {background-color: #d4ebff;}#sk-container-id-2 div.sk-label input.sk-toggleable__control:checked~label.sk-toggleable__label {background-color: #d4ebff;}#sk-container-id-2 input.sk-hidden--visually {border: 0;clip: rect(1px 1px 1px 1px);clip: rect(1px, 1px, 1px, 1px);height: 1px;margin: -1px;overflow: hidden;padding: 0;position: absolute;width: 1px;}#sk-container-id-2 div.sk-estimator {font-family: monospace;background-color: #f0f8ff;border: 1px dotted black;border-radius: 0.25em;box-sizing: border-box;margin-bottom: 0.5em;}#sk-container-id-2 div.sk-estimator:hover {background-color: #d4ebff;}#sk-container-id-2 div.sk-parallel-item::after {content: \"\";width: 100%;border-bottom: 1px solid gray;flex-grow: 1;}#sk-container-id-2 div.sk-label:hover label.sk-toggleable__label {background-color: #d4ebff;}#sk-container-id-2 div.sk-serial::before {content: \"\";position: absolute;border-left: 1px solid gray;box-sizing: border-box;top: 0;bottom: 0;left: 50%;z-index: 0;}#sk-container-id-2 div.sk-serial {display: flex;flex-direction: column;align-items: center;background-color: white;padding-right: 0.2em;padding-left: 0.2em;position: relative;}#sk-container-id-2 div.sk-item {position: relative;z-index: 1;}#sk-container-id-2 div.sk-parallel {display: flex;align-items: stretch;justify-content: center;background-color: white;position: relative;}#sk-container-id-2 div.sk-item::before, #sk-container-id-2 div.sk-parallel-item::before {content: \"\";position: absolute;border-left: 1px solid gray;box-sizing: border-box;top: 0;bottom: 0;left: 50%;z-index: -1;}#sk-container-id-2 div.sk-parallel-item {display: flex;flex-direction: column;z-index: 1;position: relative;background-color: white;}#sk-container-id-2 div.sk-parallel-item:first-child::after {align-self: flex-end;width: 50%;}#sk-container-id-2 div.sk-parallel-item:last-child::after {align-self: flex-start;width: 50%;}#sk-container-id-2 div.sk-parallel-item:only-child::after {width: 0;}#sk-container-id-2 div.sk-dashed-wrapped {border: 1px dashed gray;margin: 0 0.4em 0.5em 0.4em;box-sizing: border-box;padding-bottom: 0.4em;background-color: white;}#sk-container-id-2 div.sk-label label {font-family: monospace;font-weight: bold;display: inline-block;line-height: 1.2em;}#sk-container-id-2 div.sk-label-container {text-align: center;}#sk-container-id-2 div.sk-container {/* jupyter's `normalize.less` sets `[hidden] { display: none; }` but bootstrap.min.css set `[hidden] { display: none !important; }` so we also need the `!important` here to be able to override the default hidden behavior on the sphinx rendered scikit-learn.org. See: https://github.com/scikit-learn/scikit-learn/issues/21755 */display: inline-block !important;position: relative;}#sk-container-id-2 div.sk-text-repr-fallback {display: none;}</style><div id=\"sk-container-id-2\" class=\"sk-top-container\"><div class=\"sk-text-repr-fallback\"><pre>LinearRegression(n_jobs=-1)</pre><b>In a Jupyter environment, please rerun this cell to show the HTML representation or trust the notebook. <br />On GitHub, the HTML representation is unable to render, please try loading this page with nbviewer.org.</b></div><div class=\"sk-container\" hidden><div class=\"sk-item\"><div class=\"sk-estimator sk-toggleable\"><input class=\"sk-toggleable__control sk-hidden--visually\" id=\"sk-estimator-id-2\" type=\"checkbox\" checked><label for=\"sk-estimator-id-2\" class=\"sk-toggleable__label sk-toggleable__label-arrow\">LinearRegression</label><div class=\"sk-toggleable__content\"><pre>LinearRegression(n_jobs=-1)</pre></div></div></div></div></div>"
      ],
      "text/plain": [
       "LinearRegression(n_jobs=-1)"
      ]
     },
     "execution_count": 14,
     "metadata": {},
     "output_type": "execute_result"
    }
   ],
   "source": [
    "lr.fit(X_Poly_2,y.reshape(-1,1))"
   ]
  },
  {
   "cell_type": "code",
   "execution_count": 15,
   "metadata": {},
   "outputs": [],
   "source": [
    "poly_lr_predict = lr.predict(X_Poly_2)"
   ]
  },
  {
   "cell_type": "markdown",
   "metadata": {},
   "source": [
    "Mae Result"
   ]
  },
  {
   "cell_type": "code",
   "execution_count": 16,
   "metadata": {},
   "outputs": [
    {
     "name": "stdout",
     "output_type": "stream",
     "text": [
      "15.579246293865294\n"
     ]
    }
   ],
   "source": [
    "mae_pred_lr_poly = mean_absolute_error(y,poly_lr_predict)\n",
    "print(mae_pred_lr_poly)"
   ]
  },
  {
   "cell_type": "markdown",
   "metadata": {},
   "source": [
    "MSE Result"
   ]
  },
  {
   "cell_type": "code",
   "execution_count": 17,
   "metadata": {},
   "outputs": [
    {
     "name": "stdout",
     "output_type": "stream",
     "text": [
      "517.7416457424604\n"
     ]
    }
   ],
   "source": [
    "mse_pred_lr_poly = mean_squared_error(y,poly_lr_predict)\n",
    "print(mse_pred_lr)"
   ]
  },
  {
   "cell_type": "markdown",
   "metadata": {},
   "source": [
    "Para avaliação foi utilizada as métricas Mean Absolute Error (MAE) e Mean Squared Error (MSE). MAE foi utilizado por conta que com essa métrica temos a diferença entre o valor observado e o valor estimado pelo modelo realizando uma média dos erros absolutos do modelo. É uma forma simples de avalição e retorna uma ideia do desempenho geral do modelo. Como o problema em questão envolve o tratamentno de outliers, utilizei o MSE. Sendo o MSE semelhante ao MAE, porém temos a média da soma dos quadrados dos erros o que ajuda a punir os grandes erros por estarem elevados ao quadrado\n",
    "\n"
   ]
  },
  {
   "cell_type": "markdown",
   "metadata": {},
   "source": [
    "# Remova os outliers"
   ]
  },
  {
   "cell_type": "code",
   "execution_count": 18,
   "metadata": {},
   "outputs": [
    {
     "name": "stderr",
     "output_type": "stream",
     "text": [
      "c:\\Users\\Rícharde\\AppData\\Local\\Programs\\Python\\Python310\\lib\\site-packages\\seaborn\\_decorators.py:36: FutureWarning: Pass the following variable as a keyword arg: x. From version 0.12, the only valid positional argument will be `data`, and passing other arguments without an explicit keyword will result in an error or misinterpretation.\n",
      "  warnings.warn(\n"
     ]
    },
    {
     "data": {
      "text/plain": [
       "<AxesSubplot:xlabel='TheoreticalPowerCurve'>"
      ]
     },
     "execution_count": 18,
     "metadata": {},
     "output_type": "execute_result"
    },
    {
     "data": {
      "image/png": "[encoded data removed]",
      "text/plain": [
       "<Figure size 432x288 with 1 Axes>"
      ]
     },
     "metadata": {
      "needs_background": "light"
     },
     "output_type": "display_data"
    }
   ],
   "source": [
    "# Box plot \n",
    "sns.boxplot(aero_df['TheoreticalPowerCurve'])"
   ]
  },
  {
   "cell_type": "code",
   "execution_count": 19,
   "metadata": {},
   "outputs": [
    {
     "name": "stderr",
     "output_type": "stream",
     "text": [
      "c:\\Users\\Rícharde\\AppData\\Local\\Programs\\Python\\Python310\\lib\\site-packages\\seaborn\\_decorators.py:36: FutureWarning: Pass the following variable as a keyword arg: x. From version 0.12, the only valid positional argument will be `data`, and passing other arguments without an explicit keyword will result in an error or misinterpretation.\n",
      "  warnings.warn(\n"
     ]
    },
    {
     "data": {
      "text/plain": [
       "<AxesSubplot:xlabel='Wind Speed (m/s)'>"
      ]
     },
     "execution_count": 19,
     "metadata": {},
     "output_type": "execute_result"
    },
    {
     "data": {
      "image/png": "[encoded data removed]",
      "text/plain": [
       "<Figure size 432x288 with 1 Axes>"
      ]
     },
     "metadata": {
      "needs_background": "light"
     },
     "output_type": "display_data"
    }
   ],
   "source": [
    "sns.boxplot(aero_df['Wind Speed (m/s)'])"
   ]
  },
  {
   "cell_type": "code",
   "execution_count": 20,
   "metadata": {},
   "outputs": [
    {
     "data": {
      "text/plain": [
       "Text(0.5, 0, '(Wind speed)')"
      ]
     },
     "execution_count": 20,
     "metadata": {},
     "output_type": "execute_result"
    },
    {
     "data": {
      "image/png": "[encoded data removed]",
      "text/plain": [
       "<Figure size 1296x720 with 1 Axes>"
      ]
     },
     "metadata": {
      "needs_background": "light"
     },
     "output_type": "display_data"
    }
   ],
   "source": [
    "fig, ax = plt.subplots(figsize=(18,10))\n",
    "ax.scatter(aero_df['TheoreticalPowerCurve'],aero_df['Wind Speed (m/s)'])\n",
    "\n",
    "# x label\n",
    "ax.set_ylabel('(Power Curve)')\n",
    "ax.set_xlabel('(Wind speed)')"
   ]
  },
  {
   "cell_type": "markdown",
   "metadata": {},
   "source": [
    "Removendo os Outiliers"
   ]
  },
  {
   "cell_type": "code",
   "execution_count": 21,
   "metadata": {},
   "outputs": [],
   "source": [
    "def deleteOutliers(pred_Out, data):\n",
    "    for index in data.index:\n",
    "        if pred_Out[index] == -1:\n",
    "            data = data.drop(index)\n",
    "    return data        "
   ]
  },
  {
   "cell_type": "code",
   "execution_count": 22,
   "metadata": {},
   "outputs": [],
   "source": [
    "outlier_model = LocalOutlierFactor(n_neighbors=8,algorithm='auto',leaf_size=15,metric='euclidean',p=2)\n",
    "pred_outlier  = outlier_model.fit_predict(aero_df)"
   ]
  },
  {
   "cell_type": "code",
   "execution_count": 23,
   "metadata": {},
   "outputs": [],
   "source": [
    "aero_df = deleteOutliers(pred_outlier,aero_df)"
   ]
  },
  {
   "cell_type": "code",
   "execution_count": 24,
   "metadata": {},
   "outputs": [
    {
     "data": {
      "text/plain": [
       "<AxesSubplot:xlabel='Wind Speed (m/s)', ylabel='TheoreticalPowerCurve'>"
      ]
     },
     "execution_count": 24,
     "metadata": {},
     "output_type": "execute_result"
    },
    {
     "data": {
      "image/png": "[encoded data removed]",
      "text/plain": [
       "<Figure size 432x288 with 1 Axes>"
      ]
     },
     "metadata": {
      "needs_background": "light"
     },
     "output_type": "display_data"
    }
   ],
   "source": [
    "aero_df.plot.scatter('Wind Speed (m/s)','TheoreticalPowerCurve')"
   ]
  },
  {
   "cell_type": "markdown",
   "metadata": {},
   "source": [
    "# Estime a curva de potência sem os outliers. Calcule as métricas utilizadas na etapa 2."
   ]
  },
  {
   "cell_type": "code",
   "execution_count": 25,
   "metadata": {},
   "outputs": [],
   "source": [
    "X = aero_df['Wind Speed (m/s)'].values\n",
    "y = aero_df['TheoreticalPowerCurve'].values\n"
   ]
  },
  {
   "cell_type": "code",
   "execution_count": 26,
   "metadata": {},
   "outputs": [],
   "source": [
    "X_train, X_test, y_train, y_test = train_test_split(X,y,test_size=0.8,random_state=42)"
   ]
  },
  {
   "cell_type": "code",
   "execution_count": 27,
   "metadata": {},
   "outputs": [],
   "source": [
    "features_2 = PolynomialFeatures(degree=2)\n",
    "X_train = X_train.reshape(-1,1)\n",
    "X_Train_Poly_2 = features_2.fit_transform(X_train)"
   ]
  },
  {
   "cell_type": "code",
   "execution_count": 28,
   "metadata": {},
   "outputs": [],
   "source": [
    "lr = LinearRegression(fit_intercept=True, n_jobs=-1)\n",
    "y_train = np.array(y_train)\n"
   ]
  },
  {
   "cell_type": "code",
   "execution_count": 29,
   "metadata": {},
   "outputs": [
    {
     "data": {
      "text/html": [
       "<style>#sk-container-id-3 {color: black;background-color: white;}#sk-container-id-3 pre{padding: 0;}#sk-container-id-3 div.sk-toggleable {background-color: white;}#sk-container-id-3 label.sk-toggleable__label {cursor: pointer;display: block;width: 100%;margin-bottom: 0;padding: 0.3em;box-sizing: border-box;text-align: center;}#sk-container-id-3 label.sk-toggleable__label-arrow:before {content: \"▸\";float: left;margin-right: 0.25em;color: #696969;}#sk-container-id-3 label.sk-toggleable__label-arrow:hover:before {color: black;}#sk-container-id-3 div.sk-estimator:hover label.sk-toggleable__label-arrow:before {color: black;}#sk-container-id-3 div.sk-toggleable__content {max-height: 0;max-width: 0;overflow: hidden;text-align: left;background-color: #f0f8ff;}#sk-container-id-3 div.sk-toggleable__content pre {margin: 0.2em;color: black;border-radius: 0.25em;background-color: #f0f8ff;}#sk-container-id-3 input.sk-toggleable__control:checked~div.sk-toggleable__content {max-height: 200px;max-width: 100%;overflow: auto;}#sk-container-id-3 input.sk-toggleable__control:checked~label.sk-toggleable__label-arrow:before {content: \"▾\";}#sk-container-id-3 div.sk-estimator input.sk-toggleable__control:checked~label.sk-toggleable__label {background-color: #d4ebff;}#sk-container-id-3 div.sk-label input.sk-toggleable__control:checked~label.sk-toggleable__label {background-color: #d4ebff;}#sk-container-id-3 input.sk-hidden--visually {border: 0;clip: rect(1px 1px 1px 1px);clip: rect(1px, 1px, 1px, 1px);height: 1px;margin: -1px;overflow: hidden;padding: 0;position: absolute;width: 1px;}#sk-container-id-3 div.sk-estimator {font-family: monospace;background-color: #f0f8ff;border: 1px dotted black;border-radius: 0.25em;box-sizing: border-box;margin-bottom: 0.5em;}#sk-container-id-3 div.sk-estimator:hover {background-color: #d4ebff;}#sk-container-id-3 div.sk-parallel-item::after {content: \"\";width: 100%;border-bottom: 1px solid gray;flex-grow: 1;}#sk-container-id-3 div.sk-label:hover label.sk-toggleable__label {background-color: #d4ebff;}#sk-container-id-3 div.sk-serial::before {content: \"\";position: absolute;border-left: 1px solid gray;box-sizing: border-box;top: 0;bottom: 0;left: 50%;z-index: 0;}#sk-container-id-3 div.sk-serial {display: flex;flex-direction: column;align-items: center;background-color: white;padding-right: 0.2em;padding-left: 0.2em;position: relative;}#sk-container-id-3 div.sk-item {position: relative;z-index: 1;}#sk-container-id-3 div.sk-parallel {display: flex;align-items: stretch;justify-content: center;background-color: white;position: relative;}#sk-container-id-3 div.sk-item::before, #sk-container-id-3 div.sk-parallel-item::before {content: \"\";position: absolute;border-left: 1px solid gray;box-sizing: border-box;top: 0;bottom: 0;left: 50%;z-index: -1;}#sk-container-id-3 div.sk-parallel-item {display: flex;flex-direction: column;z-index: 1;position: relative;background-color: white;}#sk-container-id-3 div.sk-parallel-item:first-child::after {align-self: flex-end;width: 50%;}#sk-container-id-3 div.sk-parallel-item:last-child::after {align-self: flex-start;width: 50%;}#sk-container-id-3 div.sk-parallel-item:only-child::after {width: 0;}#sk-container-id-3 div.sk-dashed-wrapped {border: 1px dashed gray;margin: 0 0.4em 0.5em 0.4em;box-sizing: border-box;padding-bottom: 0.4em;background-color: white;}#sk-container-id-3 div.sk-label label {font-family: monospace;font-weight: bold;display: inline-block;line-height: 1.2em;}#sk-container-id-3 div.sk-label-container {text-align: center;}#sk-container-id-3 div.sk-container {/* jupyter's `normalize.less` sets `[hidden] { display: none; }` but bootstrap.min.css set `[hidden] { display: none !important; }` so we also need the `!important` here to be able to override the default hidden behavior on the sphinx rendered scikit-learn.org. See: https://github.com/scikit-learn/scikit-learn/issues/21755 */display: inline-block !important;position: relative;}#sk-container-id-3 div.sk-text-repr-fallback {display: none;}</style><div id=\"sk-container-id-3\" class=\"sk-top-container\"><div class=\"sk-text-repr-fallback\"><pre>LinearRegression(n_jobs=-1)</pre><b>In a Jupyter environment, please rerun this cell to show the HTML representation or trust the notebook. <br />On GitHub, the HTML representation is unable to render, please try loading this page with nbviewer.org.</b></div><div class=\"sk-container\" hidden><div class=\"sk-item\"><div class=\"sk-estimator sk-toggleable\"><input class=\"sk-toggleable__control sk-hidden--visually\" id=\"sk-estimator-id-3\" type=\"checkbox\" checked><label for=\"sk-estimator-id-3\" class=\"sk-toggleable__label sk-toggleable__label-arrow\">LinearRegression</label><div class=\"sk-toggleable__content\"><pre>LinearRegression(n_jobs=-1)</pre></div></div></div></div></div>"
      ],
      "text/plain": [
       "LinearRegression(n_jobs=-1)"
      ]
     },
     "execution_count": 29,
     "metadata": {},
     "output_type": "execute_result"
    }
   ],
   "source": [
    "lr.fit(X_Train_Poly_2, y_train.reshape(-1,1))"
   ]
  },
  {
   "cell_type": "code",
   "execution_count": 30,
   "metadata": {},
   "outputs": [],
   "source": [
    "X_test = np.array(X_test)\n",
    "X_test_poly = features_2.fit_transform(X_test.reshape(-1,1))"
   ]
  },
  {
   "cell_type": "code",
   "execution_count": 31,
   "metadata": {},
   "outputs": [],
   "source": [
    "y_pred_poly = lr.predict(X_test_poly)"
   ]
  },
  {
   "cell_type": "markdown",
   "metadata": {},
   "source": [
    "MAE Result "
   ]
  },
  {
   "cell_type": "code",
   "execution_count": 32,
   "metadata": {},
   "outputs": [
    {
     "name": "stdout",
     "output_type": "stream",
     "text": [
      "15.248375293449685\n"
     ]
    }
   ],
   "source": [
    "mae_pred_lr_poly = mean_absolute_error(y_test,y_pred_poly)\n",
    "print(mae_pred_lr_poly)"
   ]
  },
  {
   "cell_type": "markdown",
   "metadata": {},
   "source": [
    "MSE Result"
   ]
  },
  {
   "cell_type": "code",
   "execution_count": 33,
   "metadata": {},
   "outputs": [
    {
     "name": "stdout",
     "output_type": "stream",
     "text": [
      "517.7416457424604\n"
     ]
    }
   ],
   "source": [
    "mse_pred_lr_poly = mean_squared_error(y_test,y_pred_poly)\n",
    "print(mse_pred_lr)"
   ]
  },
  {
   "cell_type": "markdown",
   "metadata": {},
   "source": [
    "# Realize diferente experimentos, modificando o grau do polinômio. Escolha uma ou mais métricas e realize o plot grau do polinômio vs métrica"
   ]
  },
  {
   "cell_type": "code",
   "execution_count": 34,
   "metadata": {},
   "outputs": [],
   "source": [
    "def PolyDegree(list_degree,X_train,y_train,X_test):\n",
    "    Degree_predict = {}\n",
    "    for degree_value in list_degree:\n",
    "        n_degree = PolynomialFeatures(degree=degree_value,interaction_only=False)\n",
    "        X_train = X_train.reshape(-1,1)\n",
    "        X_test  = X_test.reshape(-1,1)\n",
    "        X_train_poly  = n_degree.fit_transform(X_train.reshape(-1,1))\n",
    "        X_test_poly   = n_degree.fit_transform(X_test.reshape(-1,1))\n",
    "        linear = LinearRegression(fit_intercept=True, n_jobs=-1)\n",
    "        linear.fit(X_train_poly,y_train)\n",
    "        Degree_predict[degree_value] = linear.predict(X_test_poly)\n",
    "    return Degree_predict"
   ]
  },
  {
   "cell_type": "code",
   "execution_count": 35,
   "metadata": {},
   "outputs": [],
   "source": [
    "results_Several_Poly = PolyDegree(range(2,20), X_train,y_train,X_test)"
   ]
  },
  {
   "cell_type": "code",
   "execution_count": 36,
   "metadata": {},
   "outputs": [],
   "source": [
    "MAE_Result = []\n",
    "MSE_Result = []\n",
    "for pred in results_Several_Poly.keys():\n",
    "    MAE_Result.append(mean_absolute_error(y_test,results_Several_Poly.get(pred)))\n",
    "    MSE_Result.append(mean_squared_error(y_test,results_Several_Poly.get(pred)))\n",
    "    "
   ]
  },
  {
   "cell_type": "markdown",
   "metadata": {},
   "source": [
    "Grau do polinômio VS Métrica"
   ]
  },
  {
   "cell_type": "markdown",
   "metadata": {},
   "source": [
    "MAE vs Grau do polinômio"
   ]
  },
  {
   "cell_type": "code",
   "execution_count": 37,
   "metadata": {},
   "outputs": [
    {
     "data": {
      "image/png": "[encoded data removed]",
      "text/plain": [
       "<Figure size 1152x576 with 1 Axes>"
      ]
     },
     "metadata": {
      "needs_background": "light"
     },
     "output_type": "display_data"
    }
   ],
   "source": [
    "plt.figure(figsize=(16,8))\n",
    "plt.plot(range(2,20), MAE_Result,'bx-')\n",
    "plt.xlabel('Poly Degree')\n",
    "plt.ylabel('MAE Result')\n",
    "plt.title('MAE vs Poly Degree')\n",
    "plt.show()"
   ]
  },
  {
   "cell_type": "markdown",
   "metadata": {},
   "source": [
    "MSE vs Grau do polinômio"
   ]
  },
  {
   "cell_type": "code",
   "execution_count": 38,
   "metadata": {},
   "outputs": [
    {
     "data": {
      "image/png": "[encoded data removed]",
      "text/plain": [
       "<Figure size 1152x576 with 1 Axes>"
      ]
     },
     "metadata": {
      "needs_background": "light"
     },
     "output_type": "display_data"
    }
   ],
   "source": [
    "plt.figure(figsize=(16,8))\n",
    "plt.plot(range(2,20), MSE_Result,'bx-')\n",
    "plt.xlabel('Poly Degree')\n",
    "plt.ylabel('MAE Result')\n",
    "plt.title('MAE vs Poly Degree')\n",
    "plt.show()"
   ]
  },
  {
   "cell_type": "markdown",
   "metadata": {},
   "source": [
    "# Discuta os resultados.\n"
   ]
  },
  {
   "cell_type": "markdown",
   "metadata": {},
   "source": [
    "Analisando todo o trabalho acima, podemos ver que o modelo tende a prever de forma mais acertiva quando temos um polinômio de grau 2. Polinômios de graus mais avançados tendem a piorar drasticamente o modelo. Apenas quando temos um polinômio de grau acima de 16 temos alguma melhora, porém é uma melhora modesta e ainda bem abaixo do desempenho do polinômio de grau 2. "
   ]
  },
  {
   "cell_type": "markdown",
   "metadata": {},
   "source": [
    "# Utilize o dataset Boston House Prices.\n"
   ]
  },
  {
   "cell_type": "code",
   "execution_count": 39,
   "metadata": {},
   "outputs": [
    {
     "name": "stderr",
     "output_type": "stream",
     "text": [
      "c:\\Users\\Rícharde\\AppData\\Local\\Programs\\Python\\Python310\\lib\\site-packages\\sklearn\\utils\\deprecation.py:87: FutureWarning: Function load_boston is deprecated; `load_boston` is deprecated in 1.0 and will be removed in 1.2.\n",
      "\n",
      "    The Boston housing prices dataset has an ethical problem. You can refer to\n",
      "    the documentation of this function for further details.\n",
      "\n",
      "    The scikit-learn maintainers therefore strongly discourage the use of this\n",
      "    dataset unless the purpose of the code is to study and educate about\n",
      "    ethical issues in data science and machine learning.\n",
      "\n",
      "    In this special case, you can fetch the dataset from the original\n",
      "    source::\n",
      "\n",
      "        import pandas as pd\n",
      "        import numpy as np\n",
      "\n",
      "        data_url = \"http://lib.stat.cmu.edu/datasets/boston\"\n",
      "        raw_df = pd.read_csv(data_url, sep=\"\\s+\", skiprows=22, header=None)\n",
      "        data = np.hstack([raw_df.values[::2, :], raw_df.values[1::2, :2]])\n",
      "        target = raw_df.values[1::2, 2]\n",
      "\n",
      "    Alternative datasets include the California housing dataset (i.e.\n",
      "    :func:`~sklearn.datasets.fetch_california_housing`) and the Ames housing\n",
      "    dataset. You can load the datasets as follows::\n",
      "\n",
      "        from sklearn.datasets import fetch_california_housing\n",
      "        housing = fetch_california_housing()\n",
      "\n",
      "    for the California housing dataset and::\n",
      "\n",
      "        from sklearn.datasets import fetch_openml\n",
      "        housing = fetch_openml(name=\"house_prices\", as_frame=True)\n",
      "\n",
      "    for the Ames housing dataset.\n",
      "  warnings.warn(msg, category=FutureWarning)\n"
     ]
    }
   ],
   "source": [
    "from sklearn.datasets import load_boston\n",
    "boston_dataset = load_boston()"
   ]
  },
  {
   "cell_type": "markdown",
   "metadata": {},
   "source": [
    "Análise exploratória dos dados "
   ]
  },
  {
   "cell_type": "code",
   "execution_count": 40,
   "metadata": {},
   "outputs": [
    {
     "data": {
      "text/html": [
       "<div>\n",
       "<style scoped>\n",
       "    .dataframe tbody tr th:only-of-type {\n",
       "        vertical-align: middle;\n",
       "    }\n",
       "\n",
       "    .dataframe tbody tr th {\n",
       "        vertical-align: top;\n",
       "    }\n",
       "\n",
       "    .dataframe thead th {\n",
       "        text-align: right;\n",
       "    }\n",
       "</style>\n",
       "<table border=\"1\" class=\"dataframe\">\n",
       "  <thead>\n",
       "    <tr style=\"text-align: right;\">\n",
       "      <th></th>\n",
       "      <th>CRIM</th>\n",
       "      <th>ZN</th>\n",
       "      <th>INDUS</th>\n",
       "      <th>CHAS</th>\n",
       "      <th>NOX</th>\n",
       "      <th>RM</th>\n",
       "      <th>AGE</th>\n",
       "      <th>DIS</th>\n",
       "      <th>RAD</th>\n",
       "      <th>TAX</th>\n",
       "      <th>PTRATIO</th>\n",
       "      <th>B</th>\n",
       "      <th>LSTAT</th>\n",
       "      <th>MEDV</th>\n",
       "    </tr>\n",
       "  </thead>\n",
       "  <tbody>\n",
       "    <tr>\n",
       "      <th>0</th>\n",
       "      <td>0.00632</td>\n",
       "      <td>18.0</td>\n",
       "      <td>2.31</td>\n",
       "      <td>0.0</td>\n",
       "      <td>0.538</td>\n",
       "      <td>6.575</td>\n",
       "      <td>65.2</td>\n",
       "      <td>4.0900</td>\n",
       "      <td>1.0</td>\n",
       "      <td>296.0</td>\n",
       "      <td>15.3</td>\n",
       "      <td>396.90</td>\n",
       "      <td>4.98</td>\n",
       "      <td>24.0</td>\n",
       "    </tr>\n",
       "    <tr>\n",
       "      <th>1</th>\n",
       "      <td>0.02731</td>\n",
       "      <td>0.0</td>\n",
       "      <td>7.07</td>\n",
       "      <td>0.0</td>\n",
       "      <td>0.469</td>\n",
       "      <td>6.421</td>\n",
       "      <td>78.9</td>\n",
       "      <td>4.9671</td>\n",
       "      <td>2.0</td>\n",
       "      <td>242.0</td>\n",
       "      <td>17.8</td>\n",
       "      <td>396.90</td>\n",
       "      <td>9.14</td>\n",
       "      <td>21.6</td>\n",
       "    </tr>\n",
       "    <tr>\n",
       "      <th>2</th>\n",
       "      <td>0.02729</td>\n",
       "      <td>0.0</td>\n",
       "      <td>7.07</td>\n",
       "      <td>0.0</td>\n",
       "      <td>0.469</td>\n",
       "      <td>7.185</td>\n",
       "      <td>61.1</td>\n",
       "      <td>4.9671</td>\n",
       "      <td>2.0</td>\n",
       "      <td>242.0</td>\n",
       "      <td>17.8</td>\n",
       "      <td>392.83</td>\n",
       "      <td>4.03</td>\n",
       "      <td>34.7</td>\n",
       "    </tr>\n",
       "    <tr>\n",
       "      <th>3</th>\n",
       "      <td>0.03237</td>\n",
       "      <td>0.0</td>\n",
       "      <td>2.18</td>\n",
       "      <td>0.0</td>\n",
       "      <td>0.458</td>\n",
       "      <td>6.998</td>\n",
       "      <td>45.8</td>\n",
       "      <td>6.0622</td>\n",
       "      <td>3.0</td>\n",
       "      <td>222.0</td>\n",
       "      <td>18.7</td>\n",
       "      <td>394.63</td>\n",
       "      <td>2.94</td>\n",
       "      <td>33.4</td>\n",
       "    </tr>\n",
       "    <tr>\n",
       "      <th>4</th>\n",
       "      <td>0.06905</td>\n",
       "      <td>0.0</td>\n",
       "      <td>2.18</td>\n",
       "      <td>0.0</td>\n",
       "      <td>0.458</td>\n",
       "      <td>7.147</td>\n",
       "      <td>54.2</td>\n",
       "      <td>6.0622</td>\n",
       "      <td>3.0</td>\n",
       "      <td>222.0</td>\n",
       "      <td>18.7</td>\n",
       "      <td>396.90</td>\n",
       "      <td>5.33</td>\n",
       "      <td>36.2</td>\n",
       "    </tr>\n",
       "    <tr>\n",
       "      <th>5</th>\n",
       "      <td>0.02985</td>\n",
       "      <td>0.0</td>\n",
       "      <td>2.18</td>\n",
       "      <td>0.0</td>\n",
       "      <td>0.458</td>\n",
       "      <td>6.430</td>\n",
       "      <td>58.7</td>\n",
       "      <td>6.0622</td>\n",
       "      <td>3.0</td>\n",
       "      <td>222.0</td>\n",
       "      <td>18.7</td>\n",
       "      <td>394.12</td>\n",
       "      <td>5.21</td>\n",
       "      <td>28.7</td>\n",
       "    </tr>\n",
       "    <tr>\n",
       "      <th>6</th>\n",
       "      <td>0.08829</td>\n",
       "      <td>12.5</td>\n",
       "      <td>7.87</td>\n",
       "      <td>0.0</td>\n",
       "      <td>0.524</td>\n",
       "      <td>6.012</td>\n",
       "      <td>66.6</td>\n",
       "      <td>5.5605</td>\n",
       "      <td>5.0</td>\n",
       "      <td>311.0</td>\n",
       "      <td>15.2</td>\n",
       "      <td>395.60</td>\n",
       "      <td>12.43</td>\n",
       "      <td>22.9</td>\n",
       "    </tr>\n",
       "    <tr>\n",
       "      <th>7</th>\n",
       "      <td>0.14455</td>\n",
       "      <td>12.5</td>\n",
       "      <td>7.87</td>\n",
       "      <td>0.0</td>\n",
       "      <td>0.524</td>\n",
       "      <td>6.172</td>\n",
       "      <td>96.1</td>\n",
       "      <td>5.9505</td>\n",
       "      <td>5.0</td>\n",
       "      <td>311.0</td>\n",
       "      <td>15.2</td>\n",
       "      <td>396.90</td>\n",
       "      <td>19.15</td>\n",
       "      <td>27.1</td>\n",
       "    </tr>\n",
       "    <tr>\n",
       "      <th>8</th>\n",
       "      <td>0.21124</td>\n",
       "      <td>12.5</td>\n",
       "      <td>7.87</td>\n",
       "      <td>0.0</td>\n",
       "      <td>0.524</td>\n",
       "      <td>5.631</td>\n",
       "      <td>100.0</td>\n",
       "      <td>6.0821</td>\n",
       "      <td>5.0</td>\n",
       "      <td>311.0</td>\n",
       "      <td>15.2</td>\n",
       "      <td>386.63</td>\n",
       "      <td>29.93</td>\n",
       "      <td>16.5</td>\n",
       "    </tr>\n",
       "    <tr>\n",
       "      <th>9</th>\n",
       "      <td>0.17004</td>\n",
       "      <td>12.5</td>\n",
       "      <td>7.87</td>\n",
       "      <td>0.0</td>\n",
       "      <td>0.524</td>\n",
       "      <td>6.004</td>\n",
       "      <td>85.9</td>\n",
       "      <td>6.5921</td>\n",
       "      <td>5.0</td>\n",
       "      <td>311.0</td>\n",
       "      <td>15.2</td>\n",
       "      <td>386.71</td>\n",
       "      <td>17.10</td>\n",
       "      <td>18.9</td>\n",
       "    </tr>\n",
       "  </tbody>\n",
       "</table>\n",
       "</div>"
      ],
      "text/plain": [
       "      CRIM    ZN  INDUS  CHAS    NOX     RM    AGE     DIS  RAD    TAX  \\\n",
       "0  0.00632  18.0   2.31   0.0  0.538  6.575   65.2  4.0900  1.0  296.0   \n",
       "1  0.02731   0.0   7.07   0.0  0.469  6.421   78.9  4.9671  2.0  242.0   \n",
       "2  0.02729   0.0   7.07   0.0  0.469  7.185   61.1  4.9671  2.0  242.0   \n",
       "3  0.03237   0.0   2.18   0.0  0.458  6.998   45.8  6.0622  3.0  222.0   \n",
       "4  0.06905   0.0   2.18   0.0  0.458  7.147   54.2  6.0622  3.0  222.0   \n",
       "5  0.02985   0.0   2.18   0.0  0.458  6.430   58.7  6.0622  3.0  222.0   \n",
       "6  0.08829  12.5   7.87   0.0  0.524  6.012   66.6  5.5605  5.0  311.0   \n",
       "7  0.14455  12.5   7.87   0.0  0.524  6.172   96.1  5.9505  5.0  311.0   \n",
       "8  0.21124  12.5   7.87   0.0  0.524  5.631  100.0  6.0821  5.0  311.0   \n",
       "9  0.17004  12.5   7.87   0.0  0.524  6.004   85.9  6.5921  5.0  311.0   \n",
       "\n",
       "   PTRATIO       B  LSTAT  MEDV  \n",
       "0     15.3  396.90   4.98  24.0  \n",
       "1     17.8  396.90   9.14  21.6  \n",
       "2     17.8  392.83   4.03  34.7  \n",
       "3     18.7  394.63   2.94  33.4  \n",
       "4     18.7  396.90   5.33  36.2  \n",
       "5     18.7  394.12   5.21  28.7  \n",
       "6     15.2  395.60  12.43  22.9  \n",
       "7     15.2  396.90  19.15  27.1  \n",
       "8     15.2  386.63  29.93  16.5  \n",
       "9     15.2  386.71  17.10  18.9  "
      ]
     },
     "execution_count": 40,
     "metadata": {},
     "output_type": "execute_result"
    }
   ],
   "source": [
    "housing = pd.DataFrame(boston_dataset.data,columns=boston_dataset.feature_names)\n",
    "housing['MEDV'] = boston_dataset.target\n",
    "housing.head(10)"
   ]
  },
  {
   "cell_type": "code",
   "execution_count": 41,
   "metadata": {},
   "outputs": [
    {
     "data": {
      "text/plain": [
       "(506, 14)"
      ]
     },
     "execution_count": 41,
     "metadata": {},
     "output_type": "execute_result"
    }
   ],
   "source": [
    "housing.shape"
   ]
  },
  {
   "cell_type": "code",
   "execution_count": 42,
   "metadata": {},
   "outputs": [
    {
     "name": "stdout",
     "output_type": "stream",
     "text": [
      "<class 'pandas.core.frame.DataFrame'>\n",
      "RangeIndex: 506 entries, 0 to 505\n",
      "Data columns (total 14 columns):\n",
      " #   Column   Non-Null Count  Dtype  \n",
      "---  ------   --------------  -----  \n",
      " 0   CRIM     506 non-null    float64\n",
      " 1   ZN       506 non-null    float64\n",
      " 2   INDUS    506 non-null    float64\n",
      " 3   CHAS     506 non-null    float64\n",
      " 4   NOX      506 non-null    float64\n",
      " 5   RM       506 non-null    float64\n",
      " 6   AGE      506 non-null    float64\n",
      " 7   DIS      506 non-null    float64\n",
      " 8   RAD      506 non-null    float64\n",
      " 9   TAX      506 non-null    float64\n",
      " 10  PTRATIO  506 non-null    float64\n",
      " 11  B        506 non-null    float64\n",
      " 12  LSTAT    506 non-null    float64\n",
      " 13  MEDV     506 non-null    float64\n",
      "dtypes: float64(14)\n",
      "memory usage: 55.5 KB\n"
     ]
    }
   ],
   "source": [
    "housing.info()"
   ]
  },
  {
   "cell_type": "code",
   "execution_count": 43,
   "metadata": {},
   "outputs": [
    {
     "data": {
      "text/plain": [
       "CRIM       0\n",
       "ZN         0\n",
       "INDUS      0\n",
       "CHAS       0\n",
       "NOX        0\n",
       "RM         0\n",
       "AGE        0\n",
       "DIS        0\n",
       "RAD        0\n",
       "TAX        0\n",
       "PTRATIO    0\n",
       "B          0\n",
       "LSTAT      0\n",
       "MEDV       0\n",
       "dtype: int64"
      ]
     },
     "execution_count": 43,
     "metadata": {},
     "output_type": "execute_result"
    }
   ],
   "source": [
    "housing.isna().sum()"
   ]
  },
  {
   "cell_type": "code",
   "execution_count": 44,
   "metadata": {},
   "outputs": [
    {
     "data": {
      "image/png": "[encoded data removed]",
      "text/plain": [
       "<Figure size 1296x576 with 2 Axes>"
      ]
     },
     "metadata": {
      "needs_background": "light"
     },
     "output_type": "display_data"
    }
   ],
   "source": [
    "# Matriz de correlações \n",
    "matrix = housing.corr().round(2)\n",
    "plt.figure(figsize=(18,8))\n",
    "sns.heatmap(data=matrix,annot=True)\n",
    "plt.show()"
   ]
  },
  {
   "cell_type": "markdown",
   "metadata": {},
   "source": [
    "Alta correlação entre a quantidade média de número dos quartos com o preço dos imóveis"
   ]
  },
  {
   "cell_type": "markdown",
   "metadata": {},
   "source": [
    "LSAT (Status mais baixo da população) tem alta correlação negativa com o preço dos imóveis "
   ]
  },
  {
   "cell_type": "markdown",
   "metadata": {},
   "source": [
    "Separação dos dados"
   ]
  },
  {
   "cell_type": "code",
   "execution_count": 45,
   "metadata": {},
   "outputs": [
    {
     "name": "stdout",
     "output_type": "stream",
     "text": [
      "(506, 13)\n",
      "(506,)\n"
     ]
    }
   ],
   "source": [
    "X = housing.drop('MEDV', axis=1)\n",
    "y = housing['MEDV']\n",
    "print(X.shape)\n",
    "print(y.shape)"
   ]
  },
  {
   "cell_type": "code",
   "execution_count": 46,
   "metadata": {},
   "outputs": [
    {
     "data": {
      "text/plain": [
       "(506, 13)"
      ]
     },
     "execution_count": 46,
     "metadata": {},
     "output_type": "execute_result"
    }
   ],
   "source": [
    "X.shape"
   ]
  },
  {
   "cell_type": "code",
   "execution_count": 47,
   "metadata": {},
   "outputs": [
    {
     "name": "stderr",
     "output_type": "stream",
     "text": [
      "c:\\Users\\Rícharde\\AppData\\Local\\Programs\\Python\\Python310\\lib\\site-packages\\sklearn\\manifold\\_t_sne.py:795: FutureWarning: The default initialization in TSNE will change from 'random' to 'pca' in 1.2.\n",
      "  warnings.warn(\n",
      "c:\\Users\\Rícharde\\AppData\\Local\\Programs\\Python\\Python310\\lib\\site-packages\\sklearn\\manifold\\_t_sne.py:805: FutureWarning: The default learning rate in TSNE will change from 200.0 to 'auto' in 1.2.\n",
      "  warnings.warn(\n"
     ]
    },
    {
     "name": "stdout",
     "output_type": "stream",
     "text": [
      "[t-SNE] Computing 31 nearest neighbors...\n",
      "[t-SNE] Indexed 506 samples in 0.001s...\n",
      "[t-SNE] Computed neighbors for 506 samples in 0.009s...\n",
      "[t-SNE] Computed conditional probabilities for sample 506 / 506\n",
      "[t-SNE] Mean sigma: 10.114709\n",
      "[t-SNE] KL divergence after 250 iterations with early exaggeration: 59.608517\n",
      "[t-SNE] KL divergence after 5200 iterations: 0.276534\n"
     ]
    }
   ],
   "source": [
    "tsne_reduce = TSNE(n_components=2, verbose=1, perplexity=10, n_iter=20000)\n",
    "tsne_result = tsne_reduce.fit_transform(X)"
   ]
  },
  {
   "cell_type": "markdown",
   "metadata": {},
   "source": [
    "> Data Visualization with TSNE"
   ]
  },
  {
   "cell_type": "markdown",
   "metadata": {},
   "source": [
    "Olha depois\n",
    "df['tsne-2d-one'] = tsne_result[:,0]\n",
    "df['tsne-2d-two'] = tsne_result[:,1]\n",
    "plt.figure(figsize=(16,10))\n",
    "sns.scatterplot(\n",
    "    x=\"tsne-2d-one\", y=\"tsne-2d-two\",\n",
    "    hue=boston_dataset.target,\n",
    "    palette=sns.color_palette(\"hls\",13),\n",
    "    data= df, \n",
    "    legend=\"full\",\n",
    "    alpha=0.3\n",
    ")"
   ]
  },
  {
   "cell_type": "markdown",
   "metadata": {},
   "source": [
    "# Realize a predição do valor monetário de uma casa localizada na área de Boston utilizando diversas técnicas de regressão (Linear, Random Forest, SVM, entre outros). Calcule métricas adequadas para o problema e justifique suas escolhas."
   ]
  },
  {
   "cell_type": "markdown",
   "metadata": {},
   "source": [
    "Inicializando algoritmos"
   ]
  },
  {
   "cell_type": "code",
   "execution_count": 48,
   "metadata": {},
   "outputs": [],
   "source": [
    "from sklearn.tree import DecisionTreeRegressor\n",
    "from sklearn.neighbors import KNeighborsRegressor\n",
    "from sklearn.ensemble import RandomForestRegressor\n",
    "from sklearn.ensemble import AdaBoostRegressor"
   ]
  },
  {
   "cell_type": "code",
   "execution_count": 49,
   "metadata": {},
   "outputs": [],
   "source": [
    "models = {}\n",
    "models['DT']  = DecisionTreeRegressor(random_state=42)\n",
    "models['Knn'] = KNeighborsRegressor()\n",
    "models['RF']  = RandomForestRegressor(random_state=42)\n",
    "models['Ada'] = AdaBoostRegressor(random_state=42)\n"
   ]
  },
  {
   "cell_type": "code",
   "execution_count": 50,
   "metadata": {},
   "outputs": [],
   "source": [
    "X_train, X_test, y_train, y_test = train_test_split(X,y,test_size=0.8,random_state=42)"
   ]
  },
  {
   "cell_type": "code",
   "execution_count": 51,
   "metadata": {},
   "outputs": [],
   "source": [
    "def train_Test_Model():\n",
    "    result = {}\n",
    "    for model in models:\n",
    "        alg =models[model]\n",
    "        alg.fit(X_train,y_train)\n",
    "        result[str(model)] = alg.predict(X_test)\n",
    "    return result    "
   ]
  },
  {
   "cell_type": "code",
   "execution_count": 52,
   "metadata": {},
   "outputs": [],
   "source": [
    "final_result = train_Test_Model()\n",
    "MAE_Result   =  {}\n",
    "MSE_Result   =  {}\n",
    "for result in final_result:\n",
    "    MAE_Result[str(result)] = mean_absolute_error(y_test,final_result[result])\n",
    "    MSE_Result[str(result)] = mean_squared_error(y_test,final_result[result])"
   ]
  },
  {
   "cell_type": "markdown",
   "metadata": {},
   "source": [
    "MAE Results "
   ]
  },
  {
   "cell_type": "code",
   "execution_count": 53,
   "metadata": {},
   "outputs": [
    {
     "data": {
      "text/plain": [
       "{'DT': 3.4866666666666664,\n",
       " 'Knn': 6.167111111111112,\n",
       " 'RF': 3.074261728395064,\n",
       " 'Ada': 3.1306930669060846}"
      ]
     },
     "execution_count": 53,
     "metadata": {},
     "output_type": "execute_result"
    }
   ],
   "source": [
    "MAE_Result"
   ]
  },
  {
   "cell_type": "markdown",
   "metadata": {},
   "source": [
    "MSE Result"
   ]
  },
  {
   "cell_type": "code",
   "execution_count": 54,
   "metadata": {},
   "outputs": [
    {
     "data": {
      "text/plain": [
       "{'DT': 27.01859259259259,\n",
       " 'Knn': 75.16864790123456,\n",
       " 'RF': 21.382902706172867,\n",
       " 'Ada': 21.719659908055192}"
      ]
     },
     "execution_count": 54,
     "metadata": {},
     "output_type": "execute_result"
    }
   ],
   "source": [
    "MSE_Result"
   ]
  },
  {
   "cell_type": "markdown",
   "metadata": {},
   "source": [
    "# Analisando com diversos hiperparâmetros "
   ]
  },
  {
   "cell_type": "code",
   "execution_count": 55,
   "metadata": {},
   "outputs": [],
   "source": [
    "# Initiaze the hyperparameters for each dictionary\n",
    "param1 = {}\n",
    "param1['classifier__splitter'] = ['best','random']\n",
    "param1['classifier__max_depth'] = [5, 10, 20]\n",
    "param1['classifier__criterion'] = ['squared_error','absolute_error','poisson', 'friedman_mse']\n",
    "param1['classifier'] = [models['DT']]\n",
    "\n",
    "param2 = {}\n",
    "param2['classifier__n_estimators'] = [5,10,20,30,40,50,80,100,150]\n",
    "param2['classifier__max_leaf_nodes'] = [5,10,15,20,25,30,35,40,50]\n",
    "param2['classifier'] = [models['RF']]\n",
    "\n",
    "param3 = {}\n",
    "param3['classifier__n_neighbors'] = [10**-2, 10**-1, 10**0, 10**1, 10**2]\n",
    "param3['classifier__algorithm'] = ['ball_tree', 'kd_tree', 'brute']\n",
    "param3['classifier__leaf_size'] = [5,10,15,25,30,50,60,100]\n",
    "param3['classifier'] = [models['Knn']]\n",
    "\n",
    "param4 = {}\n",
    "param4['classifier__n_estimators'] = [10,20,30,40,50,60,70,80,100,500]\n",
    "param4['classifier__learning_rate'] = [1,0.01,0.001,0.00001,0.00000001]\n",
    "param4['classifier__loss'] = ['linear','square','exponential']\n",
    "param4['classifier'] = [models['Ada']]\n"
   ]
  },
  {
   "cell_type": "code",
   "execution_count": 56,
   "metadata": {},
   "outputs": [],
   "source": [
    "pipeline = Pipeline([('classifier', models['DT'])])\n",
    "params = [param1, param2, param3, param4]"
   ]
  },
  {
   "cell_type": "code",
   "execution_count": 57,
   "metadata": {},
   "outputs": [],
   "source": [
    "K_fold = KFold(n_splits=10,shuffle=True,random_state=42)"
   ]
  },
  {
   "cell_type": "code",
   "execution_count": 58,
   "metadata": {},
   "outputs": [
    {
     "name": "stderr",
     "output_type": "stream",
     "text": [
      "c:\\Users\\Rícharde\\AppData\\Local\\Programs\\Python\\Python310\\lib\\site-packages\\sklearn\\model_selection\\_validation.py:378: FitFailedWarning: \n",
      "480 fits failed out of a total of 3750.\n",
      "The score on these train-test partitions for these parameters will be set to nan.\n",
      "If these failures are not expected, you can try to debug them by setting error_score='raise'.\n",
      "\n",
      "Below are more details about the failures:\n",
      "--------------------------------------------------------------------------------\n",
      "480 fits failed with the following error:\n",
      "Traceback (most recent call last):\n",
      "  File \"c:\\Users\\Rícharde\\AppData\\Local\\Programs\\Python\\Python310\\lib\\site-packages\\sklearn\\model_selection\\_validation.py\", line 686, in _fit_and_score\n",
      "    estimator.fit(X_train, y_train, **fit_params)\n",
      "  File \"c:\\Users\\Rícharde\\AppData\\Local\\Programs\\Python\\Python310\\lib\\site-packages\\sklearn\\pipeline.py\", line 382, in fit\n",
      "    self._final_estimator.fit(Xt, y, **fit_params_last_step)\n",
      "  File \"c:\\Users\\Rícharde\\AppData\\Local\\Programs\\Python\\Python310\\lib\\site-packages\\sklearn\\neighbors\\_regression.py\", line 203, in fit\n",
      "    return self._fit(X, y)\n",
      "  File \"c:\\Users\\Rícharde\\AppData\\Local\\Programs\\Python\\Python310\\lib\\site-packages\\sklearn\\neighbors\\_base.py\", line 605, in _fit\n",
      "    raise TypeError(\n",
      "TypeError: n_neighbors does not take <class 'float'> value, enter integer value\n",
      "\n",
      "  warnings.warn(some_fits_failed_message, FitFailedWarning)\n",
      "c:\\Users\\Rícharde\\AppData\\Local\\Programs\\Python\\Python310\\lib\\site-packages\\sklearn\\model_selection\\_search.py:953: UserWarning: One or more of the test scores are non-finite: [-3.88403444 -4.06634439 -4.12151845 -4.40603115 -3.88981818 -4.36627273\n",
      " -4.00386364 -4.40363636 -3.87554545 -5.32463636 -4.44618182 -4.61836364\n",
      " -4.11144533 -4.46904108 -4.03663462 -4.33614015 -3.82281818 -4.38090909\n",
      " -3.8034011  -4.08270802 -4.13749573 -4.66908063 -3.81127273 -4.36581818\n",
      " -3.49298047 -3.49275811 -3.39453731 -3.37654809 -3.42582649 -3.42442919\n",
      " -3.30669916 -3.29287909 -3.30372518 -3.29501755 -3.3826866  -3.1583681\n",
      " -3.10411311 -3.16313024 -3.18351211 -3.0980551  -3.08770528 -3.08738223\n",
      " -3.30435216 -3.36587529 -3.13322721 -3.10539533 -3.13358705 -3.15902041\n",
      " -3.08890032 -3.07964389 -3.07226327 -3.2846586  -3.3850392  -3.19813401\n",
      " -3.15988007 -3.16138259 -3.16525124 -3.08625257 -3.07390695 -3.05706716\n",
      " -3.27748784 -3.3908657  -3.19505288 -3.15661825 -3.15171551 -3.14756878\n",
      " -3.06759451 -3.05809626 -3.04264978 -3.27977763 -3.40418308 -3.196218\n",
      " -3.15339238 -3.15066821 -3.14592552 -3.06828343 -3.05549985 -3.04189991\n",
      " -3.28237392 -3.40010621 -3.20048749 -3.15129882 -3.14897574 -3.14061951\n",
      " -3.0632178  -3.05110121 -3.03967991 -3.29013943 -3.40939587 -3.20336034\n",
      " -3.15280898 -3.14775895 -3.13662873 -3.05974967 -3.04959256 -3.039425\n",
      " -3.30478706 -3.41030429 -3.20649814 -3.15548629 -3.15230692 -3.14065951\n",
      " -3.06127116 -3.05161543 -3.04067488         nan         nan -5.42336364\n",
      " -5.64325455         nan         nan         nan -5.42336364 -5.64325455\n",
      "         nan         nan         nan -5.42336364 -5.64325455         nan\n",
      "         nan         nan -5.42336364 -5.64325455         nan         nan\n",
      "         nan -5.42336364 -5.64325455         nan         nan         nan\n",
      " -5.42336364 -5.64325455         nan         nan         nan -5.42336364\n",
      " -5.64325455         nan         nan         nan -5.42336364 -5.64325455\n",
      "         nan         nan         nan -5.42336364 -5.64325455         nan\n",
      "         nan         nan -5.42336364 -5.64325455         nan         nan\n",
      "         nan -5.42336364 -5.64325455         nan         nan         nan\n",
      " -5.42336364 -5.64325455         nan         nan         nan -5.42336364\n",
      " -5.64325455         nan         nan         nan -5.42336364 -5.64325455\n",
      "         nan         nan         nan -5.42336364 -5.64325455         nan\n",
      "         nan         nan -5.42336364 -5.64325455         nan         nan\n",
      "         nan -5.42336364 -5.64325455         nan         nan         nan\n",
      " -5.42336364 -5.64325455         nan         nan         nan -5.42336364\n",
      " -5.64325455         nan         nan         nan -5.42336364 -5.64325455\n",
      "         nan         nan         nan -5.42336364 -5.64325455         nan\n",
      "         nan         nan -5.42336364 -5.64325455         nan         nan\n",
      "         nan -5.42336364 -5.64325455         nan         nan         nan\n",
      " -5.42336364 -5.64325455         nan -3.56628944 -3.40285198 -3.19807367\n",
      " -3.29488783 -3.18642835 -3.14686883 -3.16276093 -3.14913634 -3.16580178\n",
      " -3.12242156 -3.58368337 -3.317487   -3.36925342 -3.50177359 -3.4552099\n",
      " -3.18731907 -3.18991622 -3.26466047 -3.30303745 -3.11998668 -3.31425481\n",
      " -3.14625211 -3.31375178 -3.29260326 -3.25465597 -3.26792704 -3.24165394\n",
      " -3.27140394 -3.23997617 -3.21764898 -3.53368053 -3.55481671 -3.30877262\n",
      " -3.29337752 -3.26851019 -3.39863776 -3.40171288 -3.4049278  -3.38981354\n",
      " -3.3787383  -3.56408367 -3.68600909 -3.39809439 -3.2492752  -3.28878143\n",
      " -3.28648259 -3.28469643 -3.30507771 -3.46556648 -3.22951716 -3.53065105\n",
      " -3.57423233 -3.47281191 -3.42375835 -3.49578471 -3.47991165 -3.50539448\n",
      " -3.4365087  -3.37666585 -3.35579994 -3.68525267 -3.61232262 -3.44937969\n",
      " -3.36711456 -3.3855007  -3.32613421 -3.34447745 -3.36215192 -3.32239934\n",
      " -3.32992559 -3.66288058 -3.60369055 -3.46708461 -3.39176233 -3.4130222\n",
      " -3.33934373 -3.35648068 -3.37331042 -3.31690811 -3.38042783 -3.68708196\n",
      " -3.60645273 -3.44594596 -3.3904624  -3.39370271 -3.30370831 -3.32963998\n",
      " -3.36991017 -3.2992773  -3.32836931 -3.67478298 -3.6182191  -3.46193459\n",
      " -3.40308919 -3.40179833 -3.34299275 -3.33319651 -3.36741257 -3.30341911\n",
      " -3.32318369 -3.66703447 -3.61300777 -3.46362956 -3.40658276 -3.41072874\n",
      " -3.3578758  -3.34674376 -3.36591573 -3.3073725  -3.31877629 -3.67698728\n",
      " -3.61159307 -3.45661099 -3.40430129 -3.4024531  -3.34220568 -3.32990358\n",
      " -3.35790619 -3.30083899 -3.30944589 -3.67478298 -3.6182191  -3.46193459\n",
      " -3.40308919 -3.40179833 -3.34002693 -3.3323755  -3.36704993 -3.30325918\n",
      " -3.32074317 -3.66703447 -3.61300777 -3.46362956 -3.40658276 -3.40140328\n",
      " -3.35674961 -3.34299391 -3.3664278  -3.3076781  -3.32366355 -3.67698728\n",
      " -3.61159307 -3.45661099 -3.40430129 -3.4024531  -3.33923986 -3.32915611\n",
      " -3.35747002 -3.30075259 -3.31870971]\n",
      "  warnings.warn(\n",
      "c:\\Users\\Rícharde\\AppData\\Local\\Programs\\Python\\Python310\\lib\\site-packages\\sklearn\\model_selection\\_search.py:953: UserWarning: One or more of the train scores are non-finite: [-1.07396318e+00 -2.01263924e+00 -1.61840747e-01 -2.29065097e-01\n",
      "  0.00000000e+00  0.00000000e+00 -1.02993651e+00 -1.98657265e+00\n",
      " -1.28031746e-01 -2.29639805e-01  0.00000000e+00 -1.09890110e-03\n",
      " -9.97087189e-01 -1.96793386e+00 -5.22210012e-02 -2.31754386e-01\n",
      "  0.00000000e+00  0.00000000e+00 -1.07396318e+00 -2.01263924e+00\n",
      " -1.61840747e-01 -2.00647823e-01  0.00000000e+00  0.00000000e+00\n",
      " -2.42875110e+00 -2.31754593e+00 -2.25723725e+00 -2.21278675e+00\n",
      " -2.21040234e+00 -2.19671166e+00 -2.16433448e+00 -2.16743890e+00\n",
      " -2.17754386e+00 -1.90763821e+00 -1.81194391e+00 -1.75381140e+00\n",
      " -1.71314205e+00 -1.69116508e+00 -1.67858109e+00 -1.65151518e+00\n",
      " -1.65199828e+00 -1.66061796e+00 -1.72695246e+00 -1.58750893e+00\n",
      " -1.52291390e+00 -1.47723844e+00 -1.45624564e+00 -1.44366726e+00\n",
      " -1.42108367e+00 -1.42610042e+00 -1.43491528e+00 -1.60962744e+00\n",
      " -1.45668504e+00 -1.39205901e+00 -1.35070988e+00 -1.32888738e+00\n",
      " -1.31134320e+00 -1.28739856e+00 -1.29200383e+00 -1.30247461e+00\n",
      " -1.55482242e+00 -1.39681693e+00 -1.32126413e+00 -1.27828185e+00\n",
      " -1.25452222e+00 -1.23543983e+00 -1.21355910e+00 -1.21953095e+00\n",
      " -1.23037286e+00 -1.52435180e+00 -1.36473094e+00 -1.28825958e+00\n",
      " -1.24070242e+00 -1.21991890e+00 -1.20015380e+00 -1.17771292e+00\n",
      " -1.18465330e+00 -1.19600058e+00 -1.50514667e+00 -1.34867607e+00\n",
      " -1.27144936e+00 -1.22330078e+00 -1.20178708e+00 -1.18405338e+00\n",
      " -1.16113640e+00 -1.16862682e+00 -1.17915638e+00 -1.49121789e+00\n",
      " -1.34046927e+00 -1.26305495e+00 -1.21436225e+00 -1.19256869e+00\n",
      " -1.17560090e+00 -1.15270286e+00 -1.16044345e+00 -1.17071873e+00\n",
      " -1.48492068e+00 -1.33682604e+00 -1.25955203e+00 -1.21079589e+00\n",
      " -1.18826311e+00 -1.17095685e+00 -1.14747373e+00 -1.15551071e+00\n",
      " -1.16580257e+00             nan             nan  0.00000000e+00\n",
      " -5.03283126e+00             nan             nan             nan\n",
      "  0.00000000e+00 -5.03283126e+00             nan             nan\n",
      "             nan  0.00000000e+00 -5.03283126e+00             nan\n",
      "             nan             nan  0.00000000e+00 -5.03283126e+00\n",
      "             nan             nan             nan  0.00000000e+00\n",
      " -5.03283126e+00             nan             nan             nan\n",
      "  0.00000000e+00 -5.03283126e+00             nan             nan\n",
      "             nan  0.00000000e+00 -5.03283126e+00             nan\n",
      "             nan             nan  0.00000000e+00 -5.03283126e+00\n",
      "             nan             nan             nan  0.00000000e+00\n",
      " -5.03283126e+00             nan             nan             nan\n",
      "  0.00000000e+00 -5.03283126e+00             nan             nan\n",
      "             nan  0.00000000e+00 -5.03283126e+00             nan\n",
      "             nan             nan  0.00000000e+00 -5.03283126e+00\n",
      "             nan             nan             nan  0.00000000e+00\n",
      " -5.03283126e+00             nan             nan             nan\n",
      "  0.00000000e+00 -5.03283126e+00             nan             nan\n",
      "             nan  0.00000000e+00 -5.03283126e+00             nan\n",
      "             nan             nan  0.00000000e+00 -5.03283126e+00\n",
      "             nan             nan             nan  0.00000000e+00\n",
      " -5.03283126e+00             nan             nan             nan\n",
      "  0.00000000e+00 -5.03283126e+00             nan             nan\n",
      "             nan  0.00000000e+00 -5.03283126e+00             nan\n",
      "             nan             nan  0.00000000e+00 -5.03283126e+00\n",
      "             nan             nan             nan  0.00000000e+00\n",
      " -5.03283126e+00             nan             nan             nan\n",
      "  0.00000000e+00 -5.03283126e+00             nan             nan\n",
      "             nan  0.00000000e+00 -5.03283126e+00             nan\n",
      "             nan             nan  0.00000000e+00 -5.03283126e+00\n",
      "             nan -1.71080917e+00 -1.64805340e+00 -1.58466295e+00\n",
      " -1.55150662e+00 -1.54902234e+00 -1.56241134e+00 -1.55643380e+00\n",
      " -1.56038982e+00 -1.55675465e+00 -1.54840036e+00 -1.93467561e+00\n",
      " -1.76348938e+00 -1.73811290e+00 -1.71802332e+00 -1.68632037e+00\n",
      " -1.64322917e+00 -1.65784104e+00 -1.68125366e+00 -1.65772926e+00\n",
      " -1.62706531e+00 -1.72089453e+00 -1.64548617e+00 -1.59896685e+00\n",
      " -1.58387342e+00 -1.57608429e+00 -1.57164802e+00 -1.56092904e+00\n",
      " -1.56595905e+00 -1.53893443e+00 -1.54998768e+00 -1.77876365e+00\n",
      " -1.67182226e+00 -1.64148201e+00 -1.61666654e+00 -1.59898562e+00\n",
      " -1.60284380e+00 -1.59061383e+00 -1.59195681e+00 -1.58942178e+00\n",
      " -1.56397608e+00 -1.80141683e+00 -1.69887204e+00 -1.64826329e+00\n",
      " -1.63463966e+00 -1.61589644e+00 -1.60719115e+00 -1.60605826e+00\n",
      " -1.61239740e+00 -1.60373714e+00 -1.61802634e+00 -1.82203233e+00\n",
      " -1.70047250e+00 -1.65081289e+00 -1.62165931e+00 -1.61368614e+00\n",
      " -1.60458717e+00 -1.60349618e+00 -1.59365083e+00 -1.58878969e+00\n",
      " -1.55439595e+00 -1.79370495e+00 -1.67342440e+00 -1.62348036e+00\n",
      " -1.62403355e+00 -1.70004980e+00 -1.69343311e+00 -1.69959154e+00\n",
      " -1.65872797e+00 -1.65509602e+00 -1.60161361e+00 -1.78799848e+00\n",
      " -1.67310335e+00 -1.63374279e+00 -1.63301283e+00 -1.69304120e+00\n",
      " -1.69590219e+00 -1.66473179e+00 -1.60064348e+00 -1.59875828e+00\n",
      " -1.61743213e+00 -1.79524691e+00 -1.66042523e+00 -1.63315264e+00\n",
      " -1.62612911e+00 -1.70473663e+00 -1.69625916e+00 -1.66524386e+00\n",
      " -1.65877760e+00 -1.64959106e+00 -1.60374953e+00 -1.79867397e+00\n",
      " -1.66220427e+00 -1.63514948e+00 -1.62480128e+00 -1.69626756e+00\n",
      " -1.69526457e+00 -1.66330939e+00 -1.62530443e+00 -1.61684508e+00\n",
      " -1.60498126e+00 -1.79571800e+00 -1.66684131e+00 -1.64456380e+00\n",
      " -1.62619058e+00 -1.69755077e+00 -1.69101513e+00 -1.63081485e+00\n",
      " -1.59479497e+00 -1.59235298e+00 -1.60689504e+00 -1.79829743e+00\n",
      " -1.65372363e+00 -1.63672738e+00 -1.62438807e+00 -1.69817943e+00\n",
      " -1.69323458e+00 -1.66066290e+00 -1.59734746e+00 -1.59039264e+00\n",
      " -1.60622408e+00 -1.79867397e+00 -1.66220427e+00 -1.63514948e+00\n",
      " -1.62480128e+00 -1.69626756e+00 -1.69518894e+00 -1.66302617e+00\n",
      " -1.62502058e+00 -1.61660224e+00 -1.60626157e+00 -1.79571800e+00\n",
      " -1.66684131e+00 -1.64456380e+00 -1.62619058e+00 -1.70051193e+00\n",
      " -1.69380893e+00 -1.66009906e+00 -1.59540985e+00 -1.59197699e+00\n",
      " -1.60975864e+00 -1.79829743e+00 -1.65372363e+00 -1.63672738e+00\n",
      " -1.62438807e+00 -1.69817943e+00 -1.69310560e+00 -1.66037875e+00\n",
      " -1.59731431e+00 -1.59016544e+00 -1.60738277e+00]\n",
      "  warnings.warn(\n"
     ]
    },
    {
     "name": "stdout",
     "output_type": "stream",
     "text": [
      "CPU times: total: 30.2 s\n",
      "Wall time: 2min 28s\n"
     ]
    }
   ],
   "source": [
    "%%time\n",
    "gs = GridSearchCV(pipeline, params, cv=K_fold, n_jobs=-1, scoring='neg_mean_absolute_error', return_train_score=True).fit(X_train, y_train)"
   ]
  },
  {
   "cell_type": "code",
   "execution_count": 59,
   "metadata": {},
   "outputs": [
    {
     "data": {
      "text/html": [
       "<style>#sk-container-id-4 {color: black;background-color: white;}#sk-container-id-4 pre{padding: 0;}#sk-container-id-4 div.sk-toggleable {background-color: white;}#sk-container-id-4 label.sk-toggleable__label {cursor: pointer;display: block;width: 100%;margin-bottom: 0;padding: 0.3em;box-sizing: border-box;text-align: center;}#sk-container-id-4 label.sk-toggleable__label-arrow:before {content: \"▸\";float: left;margin-right: 0.25em;color: #696969;}#sk-container-id-4 label.sk-toggleable__label-arrow:hover:before {color: black;}#sk-container-id-4 div.sk-estimator:hover label.sk-toggleable__label-arrow:before {color: black;}#sk-container-id-4 div.sk-toggleable__content {max-height: 0;max-width: 0;overflow: hidden;text-align: left;background-color: #f0f8ff;}#sk-container-id-4 div.sk-toggleable__content pre {margin: 0.2em;color: black;border-radius: 0.25em;background-color: #f0f8ff;}#sk-container-id-4 input.sk-toggleable__control:checked~div.sk-toggleable__content {max-height: 200px;max-width: 100%;overflow: auto;}#sk-container-id-4 input.sk-toggleable__control:checked~label.sk-toggleable__label-arrow:before {content: \"▾\";}#sk-container-id-4 div.sk-estimator input.sk-toggleable__control:checked~label.sk-toggleable__label {background-color: #d4ebff;}#sk-container-id-4 div.sk-label input.sk-toggleable__control:checked~label.sk-toggleable__label {background-color: #d4ebff;}#sk-container-id-4 input.sk-hidden--visually {border: 0;clip: rect(1px 1px 1px 1px);clip: rect(1px, 1px, 1px, 1px);height: 1px;margin: -1px;overflow: hidden;padding: 0;position: absolute;width: 1px;}#sk-container-id-4 div.sk-estimator {font-family: monospace;background-color: #f0f8ff;border: 1px dotted black;border-radius: 0.25em;box-sizing: border-box;margin-bottom: 0.5em;}#sk-container-id-4 div.sk-estimator:hover {background-color: #d4ebff;}#sk-container-id-4 div.sk-parallel-item::after {content: \"\";width: 100%;border-bottom: 1px solid gray;flex-grow: 1;}#sk-container-id-4 div.sk-label:hover label.sk-toggleable__label {background-color: #d4ebff;}#sk-container-id-4 div.sk-serial::before {content: \"\";position: absolute;border-left: 1px solid gray;box-sizing: border-box;top: 0;bottom: 0;left: 50%;z-index: 0;}#sk-container-id-4 div.sk-serial {display: flex;flex-direction: column;align-items: center;background-color: white;padding-right: 0.2em;padding-left: 0.2em;position: relative;}#sk-container-id-4 div.sk-item {position: relative;z-index: 1;}#sk-container-id-4 div.sk-parallel {display: flex;align-items: stretch;justify-content: center;background-color: white;position: relative;}#sk-container-id-4 div.sk-item::before, #sk-container-id-4 div.sk-parallel-item::before {content: \"\";position: absolute;border-left: 1px solid gray;box-sizing: border-box;top: 0;bottom: 0;left: 50%;z-index: -1;}#sk-container-id-4 div.sk-parallel-item {display: flex;flex-direction: column;z-index: 1;position: relative;background-color: white;}#sk-container-id-4 div.sk-parallel-item:first-child::after {align-self: flex-end;width: 50%;}#sk-container-id-4 div.sk-parallel-item:last-child::after {align-self: flex-start;width: 50%;}#sk-container-id-4 div.sk-parallel-item:only-child::after {width: 0;}#sk-container-id-4 div.sk-dashed-wrapped {border: 1px dashed gray;margin: 0 0.4em 0.5em 0.4em;box-sizing: border-box;padding-bottom: 0.4em;background-color: white;}#sk-container-id-4 div.sk-label label {font-family: monospace;font-weight: bold;display: inline-block;line-height: 1.2em;}#sk-container-id-4 div.sk-label-container {text-align: center;}#sk-container-id-4 div.sk-container {/* jupyter's `normalize.less` sets `[hidden] { display: none; }` but bootstrap.min.css set `[hidden] { display: none !important; }` so we also need the `!important` here to be able to override the default hidden behavior on the sphinx rendered scikit-learn.org. See: https://github.com/scikit-learn/scikit-learn/issues/21755 */display: inline-block !important;position: relative;}#sk-container-id-4 div.sk-text-repr-fallback {display: none;}</style><div id=\"sk-container-id-4\" class=\"sk-top-container\"><div class=\"sk-text-repr-fallback\"><pre>Pipeline(steps=[(&#x27;classifier&#x27;,\n",
       "                 RandomForestRegressor(max_leaf_nodes=40, n_estimators=150,\n",
       "                                       random_state=42))])</pre><b>In a Jupyter environment, please rerun this cell to show the HTML representation or trust the notebook. <br />On GitHub, the HTML representation is unable to render, please try loading this page with nbviewer.org.</b></div><div class=\"sk-container\" hidden><div class=\"sk-item sk-dashed-wrapped\"><div class=\"sk-label-container\"><div class=\"sk-label sk-toggleable\"><input class=\"sk-toggleable__control sk-hidden--visually\" id=\"sk-estimator-id-4\" type=\"checkbox\" ><label for=\"sk-estimator-id-4\" class=\"sk-toggleable__label sk-toggleable__label-arrow\">Pipeline</label><div class=\"sk-toggleable__content\"><pre>Pipeline(steps=[(&#x27;classifier&#x27;,\n",
       "                 RandomForestRegressor(max_leaf_nodes=40, n_estimators=150,\n",
       "                                       random_state=42))])</pre></div></div></div><div class=\"sk-serial\"><div class=\"sk-item\"><div class=\"sk-estimator sk-toggleable\"><input class=\"sk-toggleable__control sk-hidden--visually\" id=\"sk-estimator-id-5\" type=\"checkbox\" ><label for=\"sk-estimator-id-5\" class=\"sk-toggleable__label sk-toggleable__label-arrow\">RandomForestRegressor</label><div class=\"sk-toggleable__content\"><pre>RandomForestRegressor(max_leaf_nodes=40, n_estimators=150, random_state=42)</pre></div></div></div></div></div></div></div>"
      ],
      "text/plain": [
       "Pipeline(steps=[('classifier',\n",
       "                 RandomForestRegressor(max_leaf_nodes=40, n_estimators=150,\n",
       "                                       random_state=42))])"
      ]
     },
     "execution_count": 59,
     "metadata": {},
     "output_type": "execute_result"
    }
   ],
   "source": [
    "gs.best_estimator_"
   ]
  },
  {
   "cell_type": "code",
   "execution_count": 60,
   "metadata": {},
   "outputs": [
    {
     "data": {
      "text/plain": [
       "-3.0394250002842265"
      ]
     },
     "execution_count": 60,
     "metadata": {},
     "output_type": "execute_result"
    }
   ],
   "source": [
    "gs.best_score_"
   ]
  },
  {
   "cell_type": "code",
   "execution_count": 61,
   "metadata": {},
   "outputs": [
    {
     "data": {
      "text/plain": [
       "(375, 41)"
      ]
     },
     "execution_count": 61,
     "metadata": {},
     "output_type": "execute_result"
    }
   ],
   "source": [
    "df_result = pd.DataFrame(gs.cv_results_)\n",
    "df_result.shape"
   ]
  },
  {
   "cell_type": "code",
   "execution_count": 62,
   "metadata": {},
   "outputs": [
    {
     "data": {
      "text/html": [
       "<div>\n",
       "<style scoped>\n",
       "    .dataframe tbody tr th:only-of-type {\n",
       "        vertical-align: middle;\n",
       "    }\n",
       "\n",
       "    .dataframe tbody tr th {\n",
       "        vertical-align: top;\n",
       "    }\n",
       "\n",
       "    .dataframe thead th {\n",
       "        text-align: right;\n",
       "    }\n",
       "</style>\n",
       "<table border=\"1\" class=\"dataframe\">\n",
       "  <thead>\n",
       "    <tr style=\"text-align: right;\">\n",
       "      <th></th>\n",
       "      <th>mean_fit_time</th>\n",
       "      <th>std_fit_time</th>\n",
       "      <th>mean_score_time</th>\n",
       "      <th>std_score_time</th>\n",
       "      <th>param_classifier</th>\n",
       "      <th>param_classifier__criterion</th>\n",
       "      <th>param_classifier__max_depth</th>\n",
       "      <th>param_classifier__splitter</th>\n",
       "      <th>param_classifier__max_leaf_nodes</th>\n",
       "      <th>param_classifier__n_estimators</th>\n",
       "      <th>...</th>\n",
       "      <th>split2_train_score</th>\n",
       "      <th>split3_train_score</th>\n",
       "      <th>split4_train_score</th>\n",
       "      <th>split5_train_score</th>\n",
       "      <th>split6_train_score</th>\n",
       "      <th>split7_train_score</th>\n",
       "      <th>split8_train_score</th>\n",
       "      <th>split9_train_score</th>\n",
       "      <th>mean_train_score</th>\n",
       "      <th>std_train_score</th>\n",
       "    </tr>\n",
       "  </thead>\n",
       "  <tbody>\n",
       "    <tr>\n",
       "      <th>0</th>\n",
       "      <td>0.005086</td>\n",
       "      <td>0.001753</td>\n",
       "      <td>0.002993</td>\n",
       "      <td>0.000772</td>\n",
       "      <td>DecisionTreeRegressor(random_state=42)</td>\n",
       "      <td>squared_error</td>\n",
       "      <td>5</td>\n",
       "      <td>best</td>\n",
       "      <td>NaN</td>\n",
       "      <td>NaN</td>\n",
       "      <td>...</td>\n",
       "      <td>-0.965076</td>\n",
       "      <td>-1.119614</td>\n",
       "      <td>-1.080874</td>\n",
       "      <td>-1.086290</td>\n",
       "      <td>-1.140063</td>\n",
       "      <td>-1.156393</td>\n",
       "      <td>-0.872812</td>\n",
       "      <td>-1.054913</td>\n",
       "      <td>-1.073963</td>\n",
       "      <td>0.085789</td>\n",
       "    </tr>\n",
       "    <tr>\n",
       "      <th>1</th>\n",
       "      <td>0.004088</td>\n",
       "      <td>0.001133</td>\n",
       "      <td>0.002693</td>\n",
       "      <td>0.001184</td>\n",
       "      <td>DecisionTreeRegressor(random_state=42)</td>\n",
       "      <td>squared_error</td>\n",
       "      <td>5</td>\n",
       "      <td>random</td>\n",
       "      <td>NaN</td>\n",
       "      <td>NaN</td>\n",
       "      <td>...</td>\n",
       "      <td>-2.511185</td>\n",
       "      <td>-1.965713</td>\n",
       "      <td>-2.109267</td>\n",
       "      <td>-1.669634</td>\n",
       "      <td>-2.184262</td>\n",
       "      <td>-1.970605</td>\n",
       "      <td>-1.671794</td>\n",
       "      <td>-2.250654</td>\n",
       "      <td>-2.012639</td>\n",
       "      <td>0.257942</td>\n",
       "    </tr>\n",
       "    <tr>\n",
       "      <th>2</th>\n",
       "      <td>0.004687</td>\n",
       "      <td>0.001002</td>\n",
       "      <td>0.002793</td>\n",
       "      <td>0.000977</td>\n",
       "      <td>DecisionTreeRegressor(random_state=42)</td>\n",
       "      <td>squared_error</td>\n",
       "      <td>10</td>\n",
       "      <td>best</td>\n",
       "      <td>NaN</td>\n",
       "      <td>NaN</td>\n",
       "      <td>...</td>\n",
       "      <td>-0.172907</td>\n",
       "      <td>-0.193651</td>\n",
       "      <td>-0.209916</td>\n",
       "      <td>-0.072684</td>\n",
       "      <td>-0.149451</td>\n",
       "      <td>-0.212088</td>\n",
       "      <td>-0.077656</td>\n",
       "      <td>-0.155110</td>\n",
       "      <td>-0.161841</td>\n",
       "      <td>0.048658</td>\n",
       "    </tr>\n",
       "    <tr>\n",
       "      <th>3</th>\n",
       "      <td>0.005884</td>\n",
       "      <td>0.003168</td>\n",
       "      <td>0.002793</td>\n",
       "      <td>0.000977</td>\n",
       "      <td>DecisionTreeRegressor(random_state=42)</td>\n",
       "      <td>squared_error</td>\n",
       "      <td>10</td>\n",
       "      <td>random</td>\n",
       "      <td>NaN</td>\n",
       "      <td>NaN</td>\n",
       "      <td>...</td>\n",
       "      <td>-0.385240</td>\n",
       "      <td>-0.357418</td>\n",
       "      <td>-0.272381</td>\n",
       "      <td>-0.336075</td>\n",
       "      <td>-0.228571</td>\n",
       "      <td>-0.043590</td>\n",
       "      <td>-0.010989</td>\n",
       "      <td>-0.184066</td>\n",
       "      <td>-0.229065</td>\n",
       "      <td>0.118271</td>\n",
       "    </tr>\n",
       "    <tr>\n",
       "      <th>4</th>\n",
       "      <td>0.006482</td>\n",
       "      <td>0.004331</td>\n",
       "      <td>0.002295</td>\n",
       "      <td>0.000456</td>\n",
       "      <td>DecisionTreeRegressor(random_state=42)</td>\n",
       "      <td>squared_error</td>\n",
       "      <td>20</td>\n",
       "      <td>best</td>\n",
       "      <td>NaN</td>\n",
       "      <td>NaN</td>\n",
       "      <td>...</td>\n",
       "      <td>-0.000000</td>\n",
       "      <td>-0.000000</td>\n",
       "      <td>-0.000000</td>\n",
       "      <td>-0.000000</td>\n",
       "      <td>-0.000000</td>\n",
       "      <td>-0.000000</td>\n",
       "      <td>-0.000000</td>\n",
       "      <td>-0.000000</td>\n",
       "      <td>0.000000</td>\n",
       "      <td>0.000000</td>\n",
       "    </tr>\n",
       "    <tr>\n",
       "      <th>...</th>\n",
       "      <td>...</td>\n",
       "      <td>...</td>\n",
       "      <td>...</td>\n",
       "      <td>...</td>\n",
       "      <td>...</td>\n",
       "      <td>...</td>\n",
       "      <td>...</td>\n",
       "      <td>...</td>\n",
       "      <td>...</td>\n",
       "      <td>...</td>\n",
       "      <td>...</td>\n",
       "      <td>...</td>\n",
       "      <td>...</td>\n",
       "      <td>...</td>\n",
       "      <td>...</td>\n",
       "      <td>...</td>\n",
       "      <td>...</td>\n",
       "      <td>...</td>\n",
       "      <td>...</td>\n",
       "      <td>...</td>\n",
       "      <td>...</td>\n",
       "    </tr>\n",
       "    <tr>\n",
       "      <th>370</th>\n",
       "      <td>0.137633</td>\n",
       "      <td>0.012536</td>\n",
       "      <td>0.009973</td>\n",
       "      <td>0.003540</td>\n",
       "      <td>(DecisionTreeRegressor(max_depth=3, random_sta...</td>\n",
       "      <td>NaN</td>\n",
       "      <td>NaN</td>\n",
       "      <td>NaN</td>\n",
       "      <td>NaN</td>\n",
       "      <td>60</td>\n",
       "      <td>...</td>\n",
       "      <td>-1.757407</td>\n",
       "      <td>-1.657162</td>\n",
       "      <td>-1.781809</td>\n",
       "      <td>-1.556460</td>\n",
       "      <td>-1.637838</td>\n",
       "      <td>-1.967315</td>\n",
       "      <td>-1.514780</td>\n",
       "      <td>-1.579710</td>\n",
       "      <td>-1.693106</td>\n",
       "      <td>0.136117</td>\n",
       "    </tr>\n",
       "    <tr>\n",
       "      <th>371</th>\n",
       "      <td>0.151894</td>\n",
       "      <td>0.008752</td>\n",
       "      <td>0.009275</td>\n",
       "      <td>0.000639</td>\n",
       "      <td>(DecisionTreeRegressor(max_depth=3, random_sta...</td>\n",
       "      <td>NaN</td>\n",
       "      <td>NaN</td>\n",
       "      <td>NaN</td>\n",
       "      <td>NaN</td>\n",
       "      <td>70</td>\n",
       "      <td>...</td>\n",
       "      <td>-1.744524</td>\n",
       "      <td>-1.657826</td>\n",
       "      <td>-1.743997</td>\n",
       "      <td>-1.542497</td>\n",
       "      <td>-1.656785</td>\n",
       "      <td>-1.695081</td>\n",
       "      <td>-1.480888</td>\n",
       "      <td>-1.586412</td>\n",
       "      <td>-1.660379</td>\n",
       "      <td>0.105394</td>\n",
       "    </tr>\n",
       "    <tr>\n",
       "      <th>372</th>\n",
       "      <td>0.176229</td>\n",
       "      <td>0.009367</td>\n",
       "      <td>0.011569</td>\n",
       "      <td>0.002326</td>\n",
       "      <td>(DecisionTreeRegressor(max_depth=3, random_sta...</td>\n",
       "      <td>NaN</td>\n",
       "      <td>NaN</td>\n",
       "      <td>NaN</td>\n",
       "      <td>NaN</td>\n",
       "      <td>80</td>\n",
       "      <td>...</td>\n",
       "      <td>-1.422295</td>\n",
       "      <td>-1.636606</td>\n",
       "      <td>-1.746887</td>\n",
       "      <td>-1.547414</td>\n",
       "      <td>-1.622538</td>\n",
       "      <td>-1.680540</td>\n",
       "      <td>-1.480331</td>\n",
       "      <td>-1.609904</td>\n",
       "      <td>-1.597314</td>\n",
       "      <td>0.091038</td>\n",
       "    </tr>\n",
       "    <tr>\n",
       "      <th>373</th>\n",
       "      <td>0.236667</td>\n",
       "      <td>0.017611</td>\n",
       "      <td>0.016656</td>\n",
       "      <td>0.006355</td>\n",
       "      <td>(DecisionTreeRegressor(max_depth=3, random_sta...</td>\n",
       "      <td>NaN</td>\n",
       "      <td>NaN</td>\n",
       "      <td>NaN</td>\n",
       "      <td>NaN</td>\n",
       "      <td>100</td>\n",
       "      <td>...</td>\n",
       "      <td>-1.412203</td>\n",
       "      <td>-1.605660</td>\n",
       "      <td>-1.718960</td>\n",
       "      <td>-1.516314</td>\n",
       "      <td>-1.648350</td>\n",
       "      <td>-1.676441</td>\n",
       "      <td>-1.465048</td>\n",
       "      <td>-1.615217</td>\n",
       "      <td>-1.590165</td>\n",
       "      <td>0.092760</td>\n",
       "    </tr>\n",
       "    <tr>\n",
       "      <th>374</th>\n",
       "      <td>1.109589</td>\n",
       "      <td>0.087241</td>\n",
       "      <td>0.059692</td>\n",
       "      <td>0.006570</td>\n",
       "      <td>(DecisionTreeRegressor(max_depth=3, random_sta...</td>\n",
       "      <td>NaN</td>\n",
       "      <td>NaN</td>\n",
       "      <td>NaN</td>\n",
       "      <td>NaN</td>\n",
       "      <td>500</td>\n",
       "      <td>...</td>\n",
       "      <td>-1.406273</td>\n",
       "      <td>-1.622773</td>\n",
       "      <td>-1.691044</td>\n",
       "      <td>-1.570560</td>\n",
       "      <td>-1.694387</td>\n",
       "      <td>-1.689983</td>\n",
       "      <td>-1.497960</td>\n",
       "      <td>-1.620493</td>\n",
       "      <td>-1.607383</td>\n",
       "      <td>0.095478</td>\n",
       "    </tr>\n",
       "  </tbody>\n",
       "</table>\n",
       "<p>375 rows × 41 columns</p>\n",
       "</div>"
      ],
      "text/plain": [
       "     mean_fit_time  std_fit_time  mean_score_time  std_score_time  \\\n",
       "0         0.005086      0.001753         0.002993        0.000772   \n",
       "1         0.004088      0.001133         0.002693        0.001184   \n",
       "2         0.004687      0.001002         0.002793        0.000977   \n",
       "3         0.005884      0.003168         0.002793        0.000977   \n",
       "4         0.006482      0.004331         0.002295        0.000456   \n",
       "..             ...           ...              ...             ...   \n",
       "370       0.137633      0.012536         0.009973        0.003540   \n",
       "371       0.151894      0.008752         0.009275        0.000639   \n",
       "372       0.176229      0.009367         0.011569        0.002326   \n",
       "373       0.236667      0.017611         0.016656        0.006355   \n",
       "374       1.109589      0.087241         0.059692        0.006570   \n",
       "\n",
       "                                      param_classifier  \\\n",
       "0               DecisionTreeRegressor(random_state=42)   \n",
       "1               DecisionTreeRegressor(random_state=42)   \n",
       "2               DecisionTreeRegressor(random_state=42)   \n",
       "3               DecisionTreeRegressor(random_state=42)   \n",
       "4               DecisionTreeRegressor(random_state=42)   \n",
       "..                                                 ...   \n",
       "370  (DecisionTreeRegressor(max_depth=3, random_sta...   \n",
       "371  (DecisionTreeRegressor(max_depth=3, random_sta...   \n",
       "372  (DecisionTreeRegressor(max_depth=3, random_sta...   \n",
       "373  (DecisionTreeRegressor(max_depth=3, random_sta...   \n",
       "374  (DecisionTreeRegressor(max_depth=3, random_sta...   \n",
       "\n",
       "    param_classifier__criterion param_classifier__max_depth  \\\n",
       "0                 squared_error                           5   \n",
       "1                 squared_error                           5   \n",
       "2                 squared_error                          10   \n",
       "3                 squared_error                          10   \n",
       "4                 squared_error                          20   \n",
       "..                          ...                         ...   \n",
       "370                         NaN                         NaN   \n",
       "371                         NaN                         NaN   \n",
       "372                         NaN                         NaN   \n",
       "373                         NaN                         NaN   \n",
       "374                         NaN                         NaN   \n",
       "\n",
       "    param_classifier__splitter param_classifier__max_leaf_nodes  \\\n",
       "0                         best                              NaN   \n",
       "1                       random                              NaN   \n",
       "2                         best                              NaN   \n",
       "3                       random                              NaN   \n",
       "4                         best                              NaN   \n",
       "..                         ...                              ...   \n",
       "370                        NaN                              NaN   \n",
       "371                        NaN                              NaN   \n",
       "372                        NaN                              NaN   \n",
       "373                        NaN                              NaN   \n",
       "374                        NaN                              NaN   \n",
       "\n",
       "    param_classifier__n_estimators  ... split2_train_score split3_train_score  \\\n",
       "0                              NaN  ...          -0.965076          -1.119614   \n",
       "1                              NaN  ...          -2.511185          -1.965713   \n",
       "2                              NaN  ...          -0.172907          -0.193651   \n",
       "3                              NaN  ...          -0.385240          -0.357418   \n",
       "4                              NaN  ...          -0.000000          -0.000000   \n",
       "..                             ...  ...                ...                ...   \n",
       "370                             60  ...          -1.757407          -1.657162   \n",
       "371                             70  ...          -1.744524          -1.657826   \n",
       "372                             80  ...          -1.422295          -1.636606   \n",
       "373                            100  ...          -1.412203          -1.605660   \n",
       "374                            500  ...          -1.406273          -1.622773   \n",
       "\n",
       "    split4_train_score split5_train_score split6_train_score  \\\n",
       "0            -1.080874          -1.086290          -1.140063   \n",
       "1            -2.109267          -1.669634          -2.184262   \n",
       "2            -0.209916          -0.072684          -0.149451   \n",
       "3            -0.272381          -0.336075          -0.228571   \n",
       "4            -0.000000          -0.000000          -0.000000   \n",
       "..                 ...                ...                ...   \n",
       "370          -1.781809          -1.556460          -1.637838   \n",
       "371          -1.743997          -1.542497          -1.656785   \n",
       "372          -1.746887          -1.547414          -1.622538   \n",
       "373          -1.718960          -1.516314          -1.648350   \n",
       "374          -1.691044          -1.570560          -1.694387   \n",
       "\n",
       "    split7_train_score  split8_train_score  split9_train_score  \\\n",
       "0            -1.156393           -0.872812           -1.054913   \n",
       "1            -1.970605           -1.671794           -2.250654   \n",
       "2            -0.212088           -0.077656           -0.155110   \n",
       "3            -0.043590           -0.010989           -0.184066   \n",
       "4            -0.000000           -0.000000           -0.000000   \n",
       "..                 ...                 ...                 ...   \n",
       "370          -1.967315           -1.514780           -1.579710   \n",
       "371          -1.695081           -1.480888           -1.586412   \n",
       "372          -1.680540           -1.480331           -1.609904   \n",
       "373          -1.676441           -1.465048           -1.615217   \n",
       "374          -1.689983           -1.497960           -1.620493   \n",
       "\n",
       "     mean_train_score  std_train_score  \n",
       "0           -1.073963         0.085789  \n",
       "1           -2.012639         0.257942  \n",
       "2           -0.161841         0.048658  \n",
       "3           -0.229065         0.118271  \n",
       "4            0.000000         0.000000  \n",
       "..                ...              ...  \n",
       "370         -1.693106         0.136117  \n",
       "371         -1.660379         0.105394  \n",
       "372         -1.597314         0.091038  \n",
       "373         -1.590165         0.092760  \n",
       "374         -1.607383         0.095478  \n",
       "\n",
       "[375 rows x 41 columns]"
      ]
     },
     "execution_count": 62,
     "metadata": {},
     "output_type": "execute_result"
    }
   ],
   "source": [
    "df_result"
   ]
  },
  {
   "cell_type": "markdown",
   "metadata": {},
   "source": [
    "# Realizando normalização e padronização dos dados, utilizando o melhor classificador "
   ]
  },
  {
   "cell_type": "code",
   "execution_count": 63,
   "metadata": {},
   "outputs": [],
   "source": [
    "scaler = StandardScaler()\n",
    "MinMax = MinMaxScaler()"
   ]
  },
  {
   "cell_type": "code",
   "execution_count": 78,
   "metadata": {},
   "outputs": [],
   "source": [
    "X = housing.drop('MEDV', axis=1)\n",
    "y = housing['MEDV']"
   ]
  },
  {
   "cell_type": "code",
   "execution_count": 79,
   "metadata": {},
   "outputs": [],
   "source": [
    "X = np.array(X)\n",
    "y = np.array(y)"
   ]
  },
  {
   "cell_type": "markdown",
   "metadata": {},
   "source": [
    "StandardScaler"
   ]
  },
  {
   "cell_type": "code",
   "execution_count": 82,
   "metadata": {},
   "outputs": [],
   "source": [
    "X = scaler.fit_transform(X)\n",
    "y = scaler.fit_transform(y.reshape(-1,1))"
   ]
  },
  {
   "cell_type": "code",
   "execution_count": 93,
   "metadata": {},
   "outputs": [],
   "source": [
    "X_train, X_test, y_train, y_test = train_test_split(X,y,test_size=0.8,random_state=42)"
   ]
  },
  {
   "cell_type": "code",
   "execution_count": 89,
   "metadata": {},
   "outputs": [
    {
     "name": "stderr",
     "output_type": "stream",
     "text": [
      "C:\\Users\\Rícharde\\AppData\\Local\\Temp\\ipykernel_15196\\984026646.py:2: DataConversionWarning: A column-vector y was passed when a 1d array was expected. Please change the shape of y to (n_samples,), for example using ravel().\n",
      "  RF.fit(X_train,y_train)\n"
     ]
    },
    {
     "data": {
      "text/html": [
       "<style>#sk-container-id-7 {color: black;background-color: white;}#sk-container-id-7 pre{padding: 0;}#sk-container-id-7 div.sk-toggleable {background-color: white;}#sk-container-id-7 label.sk-toggleable__label {cursor: pointer;display: block;width: 100%;margin-bottom: 0;padding: 0.3em;box-sizing: border-box;text-align: center;}#sk-container-id-7 label.sk-toggleable__label-arrow:before {content: \"▸\";float: left;margin-right: 0.25em;color: #696969;}#sk-container-id-7 label.sk-toggleable__label-arrow:hover:before {color: black;}#sk-container-id-7 div.sk-estimator:hover label.sk-toggleable__label-arrow:before {color: black;}#sk-container-id-7 div.sk-toggleable__content {max-height: 0;max-width: 0;overflow: hidden;text-align: left;background-color: #f0f8ff;}#sk-container-id-7 div.sk-toggleable__content pre {margin: 0.2em;color: black;border-radius: 0.25em;background-color: #f0f8ff;}#sk-container-id-7 input.sk-toggleable__control:checked~div.sk-toggleable__content {max-height: 200px;max-width: 100%;overflow: auto;}#sk-container-id-7 input.sk-toggleable__control:checked~label.sk-toggleable__label-arrow:before {content: \"▾\";}#sk-container-id-7 div.sk-estimator input.sk-toggleable__control:checked~label.sk-toggleable__label {background-color: #d4ebff;}#sk-container-id-7 div.sk-label input.sk-toggleable__control:checked~label.sk-toggleable__label {background-color: #d4ebff;}#sk-container-id-7 input.sk-hidden--visually {border: 0;clip: rect(1px 1px 1px 1px);clip: rect(1px, 1px, 1px, 1px);height: 1px;margin: -1px;overflow: hidden;padding: 0;position: absolute;width: 1px;}#sk-container-id-7 div.sk-estimator {font-family: monospace;background-color: #f0f8ff;border: 1px dotted black;border-radius: 0.25em;box-sizing: border-box;margin-bottom: 0.5em;}#sk-container-id-7 div.sk-estimator:hover {background-color: #d4ebff;}#sk-container-id-7 div.sk-parallel-item::after {content: \"\";width: 100%;border-bottom: 1px solid gray;flex-grow: 1;}#sk-container-id-7 div.sk-label:hover label.sk-toggleable__label {background-color: #d4ebff;}#sk-container-id-7 div.sk-serial::before {content: \"\";position: absolute;border-left: 1px solid gray;box-sizing: border-box;top: 0;bottom: 0;left: 50%;z-index: 0;}#sk-container-id-7 div.sk-serial {display: flex;flex-direction: column;align-items: center;background-color: white;padding-right: 0.2em;padding-left: 0.2em;position: relative;}#sk-container-id-7 div.sk-item {position: relative;z-index: 1;}#sk-container-id-7 div.sk-parallel {display: flex;align-items: stretch;justify-content: center;background-color: white;position: relative;}#sk-container-id-7 div.sk-item::before, #sk-container-id-7 div.sk-parallel-item::before {content: \"\";position: absolute;border-left: 1px solid gray;box-sizing: border-box;top: 0;bottom: 0;left: 50%;z-index: -1;}#sk-container-id-7 div.sk-parallel-item {display: flex;flex-direction: column;z-index: 1;position: relative;background-color: white;}#sk-container-id-7 div.sk-parallel-item:first-child::after {align-self: flex-end;width: 50%;}#sk-container-id-7 div.sk-parallel-item:last-child::after {align-self: flex-start;width: 50%;}#sk-container-id-7 div.sk-parallel-item:only-child::after {width: 0;}#sk-container-id-7 div.sk-dashed-wrapped {border: 1px dashed gray;margin: 0 0.4em 0.5em 0.4em;box-sizing: border-box;padding-bottom: 0.4em;background-color: white;}#sk-container-id-7 div.sk-label label {font-family: monospace;font-weight: bold;display: inline-block;line-height: 1.2em;}#sk-container-id-7 div.sk-label-container {text-align: center;}#sk-container-id-7 div.sk-container {/* jupyter's `normalize.less` sets `[hidden] { display: none; }` but bootstrap.min.css set `[hidden] { display: none !important; }` so we also need the `!important` here to be able to override the default hidden behavior on the sphinx rendered scikit-learn.org. See: https://github.com/scikit-learn/scikit-learn/issues/21755 */display: inline-block !important;position: relative;}#sk-container-id-7 div.sk-text-repr-fallback {display: none;}</style><div id=\"sk-container-id-7\" class=\"sk-top-container\"><div class=\"sk-text-repr-fallback\"><pre>RandomForestRegressor(max_leaf_nodes=40, n_estimators=150, random_state=42)</pre><b>In a Jupyter environment, please rerun this cell to show the HTML representation or trust the notebook. <br />On GitHub, the HTML representation is unable to render, please try loading this page with nbviewer.org.</b></div><div class=\"sk-container\" hidden><div class=\"sk-item\"><div class=\"sk-estimator sk-toggleable\"><input class=\"sk-toggleable__control sk-hidden--visually\" id=\"sk-estimator-id-8\" type=\"checkbox\" checked><label for=\"sk-estimator-id-8\" class=\"sk-toggleable__label sk-toggleable__label-arrow\">RandomForestRegressor</label><div class=\"sk-toggleable__content\"><pre>RandomForestRegressor(max_leaf_nodes=40, n_estimators=150, random_state=42)</pre></div></div></div></div></div>"
      ],
      "text/plain": [
       "RandomForestRegressor(max_leaf_nodes=40, n_estimators=150, random_state=42)"
      ]
     },
     "execution_count": 89,
     "metadata": {},
     "output_type": "execute_result"
    }
   ],
   "source": [
    "RF = RandomForestRegressor(max_leaf_nodes=40, n_estimators=150, random_state=42)\n",
    "RF.fit(X_train,y_train)"
   ]
  },
  {
   "cell_type": "markdown",
   "metadata": {},
   "source": [
    "MAE Result with standardization"
   ]
  },
  {
   "cell_type": "code",
   "execution_count": 92,
   "metadata": {},
   "outputs": [
    {
     "name": "stdout",
     "output_type": "stream",
     "text": [
      "0.3303321133301995\n"
     ]
    }
   ],
   "source": [
    "y_pred = RF.predict(X_test)\n",
    "MAE_STD = mean_absolute_error(y_test,y_pred)\n",
    "print(MAE_STD)"
   ]
  },
  {
   "cell_type": "markdown",
   "metadata": {},
   "source": [
    "MSE Result with standardization"
   ]
  },
  {
   "cell_type": "code",
   "execution_count": 95,
   "metadata": {},
   "outputs": [
    {
     "name": "stdout",
     "output_type": "stream",
     "text": [
      "0.24649357417279896\n"
     ]
    }
   ],
   "source": [
    "MSE_STD = mean_squared_error(y_test,y_pred)\n",
    "print(MSE_STD)"
   ]
  },
  {
   "cell_type": "markdown",
   "metadata": {},
   "source": [
    "MinMaxScaler"
   ]
  },
  {
   "cell_type": "code",
   "execution_count": 98,
   "metadata": {},
   "outputs": [],
   "source": [
    "X = MinMax.fit_transform(X)\n",
    "y = MinMax.fit_transform(y.reshape(-1,1))"
   ]
  },
  {
   "cell_type": "code",
   "execution_count": 99,
   "metadata": {},
   "outputs": [],
   "source": [
    "X_train, X_test, y_train, y_test = train_test_split(X,y,test_size=0.8,random_state=42)"
   ]
  },
  {
   "cell_type": "code",
   "execution_count": 100,
   "metadata": {},
   "outputs": [
    {
     "name": "stderr",
     "output_type": "stream",
     "text": [
      "C:\\Users\\Rícharde\\AppData\\Local\\Temp\\ipykernel_15196\\984026646.py:2: DataConversionWarning: A column-vector y was passed when a 1d array was expected. Please change the shape of y to (n_samples,), for example using ravel().\n",
      "  RF.fit(X_train,y_train)\n"
     ]
    },
    {
     "data": {
      "text/html": [
       "<style>#sk-container-id-8 {color: black;background-color: white;}#sk-container-id-8 pre{padding: 0;}#sk-container-id-8 div.sk-toggleable {background-color: white;}#sk-container-id-8 label.sk-toggleable__label {cursor: pointer;display: block;width: 100%;margin-bottom: 0;padding: 0.3em;box-sizing: border-box;text-align: center;}#sk-container-id-8 label.sk-toggleable__label-arrow:before {content: \"▸\";float: left;margin-right: 0.25em;color: #696969;}#sk-container-id-8 label.sk-toggleable__label-arrow:hover:before {color: black;}#sk-container-id-8 div.sk-estimator:hover label.sk-toggleable__label-arrow:before {color: black;}#sk-container-id-8 div.sk-toggleable__content {max-height: 0;max-width: 0;overflow: hidden;text-align: left;background-color: #f0f8ff;}#sk-container-id-8 div.sk-toggleable__content pre {margin: 0.2em;color: black;border-radius: 0.25em;background-color: #f0f8ff;}#sk-container-id-8 input.sk-toggleable__control:checked~div.sk-toggleable__content {max-height: 200px;max-width: 100%;overflow: auto;}#sk-container-id-8 input.sk-toggleable__control:checked~label.sk-toggleable__label-arrow:before {content: \"▾\";}#sk-container-id-8 div.sk-estimator input.sk-toggleable__control:checked~label.sk-toggleable__label {background-color: #d4ebff;}#sk-container-id-8 div.sk-label input.sk-toggleable__control:checked~label.sk-toggleable__label {background-color: #d4ebff;}#sk-container-id-8 input.sk-hidden--visually {border: 0;clip: rect(1px 1px 1px 1px);clip: rect(1px, 1px, 1px, 1px);height: 1px;margin: -1px;overflow: hidden;padding: 0;position: absolute;width: 1px;}#sk-container-id-8 div.sk-estimator {font-family: monospace;background-color: #f0f8ff;border: 1px dotted black;border-radius: 0.25em;box-sizing: border-box;margin-bottom: 0.5em;}#sk-container-id-8 div.sk-estimator:hover {background-color: #d4ebff;}#sk-container-id-8 div.sk-parallel-item::after {content: \"\";width: 100%;border-bottom: 1px solid gray;flex-grow: 1;}#sk-container-id-8 div.sk-label:hover label.sk-toggleable__label {background-color: #d4ebff;}#sk-container-id-8 div.sk-serial::before {content: \"\";position: absolute;border-left: 1px solid gray;box-sizing: border-box;top: 0;bottom: 0;left: 50%;z-index: 0;}#sk-container-id-8 div.sk-serial {display: flex;flex-direction: column;align-items: center;background-color: white;padding-right: 0.2em;padding-left: 0.2em;position: relative;}#sk-container-id-8 div.sk-item {position: relative;z-index: 1;}#sk-container-id-8 div.sk-parallel {display: flex;align-items: stretch;justify-content: center;background-color: white;position: relative;}#sk-container-id-8 div.sk-item::before, #sk-container-id-8 div.sk-parallel-item::before {content: \"\";position: absolute;border-left: 1px solid gray;box-sizing: border-box;top: 0;bottom: 0;left: 50%;z-index: -1;}#sk-container-id-8 div.sk-parallel-item {display: flex;flex-direction: column;z-index: 1;position: relative;background-color: white;}#sk-container-id-8 div.sk-parallel-item:first-child::after {align-self: flex-end;width: 50%;}#sk-container-id-8 div.sk-parallel-item:last-child::after {align-self: flex-start;width: 50%;}#sk-container-id-8 div.sk-parallel-item:only-child::after {width: 0;}#sk-container-id-8 div.sk-dashed-wrapped {border: 1px dashed gray;margin: 0 0.4em 0.5em 0.4em;box-sizing: border-box;padding-bottom: 0.4em;background-color: white;}#sk-container-id-8 div.sk-label label {font-family: monospace;font-weight: bold;display: inline-block;line-height: 1.2em;}#sk-container-id-8 div.sk-label-container {text-align: center;}#sk-container-id-8 div.sk-container {/* jupyter's `normalize.less` sets `[hidden] { display: none; }` but bootstrap.min.css set `[hidden] { display: none !important; }` so we also need the `!important` here to be able to override the default hidden behavior on the sphinx rendered scikit-learn.org. See: https://github.com/scikit-learn/scikit-learn/issues/21755 */display: inline-block !important;position: relative;}#sk-container-id-8 div.sk-text-repr-fallback {display: none;}</style><div id=\"sk-container-id-8\" class=\"sk-top-container\"><div class=\"sk-text-repr-fallback\"><pre>RandomForestRegressor(max_leaf_nodes=40, n_estimators=150, random_state=42)</pre><b>In a Jupyter environment, please rerun this cell to show the HTML representation or trust the notebook. <br />On GitHub, the HTML representation is unable to render, please try loading this page with nbviewer.org.</b></div><div class=\"sk-container\" hidden><div class=\"sk-item\"><div class=\"sk-estimator sk-toggleable\"><input class=\"sk-toggleable__control sk-hidden--visually\" id=\"sk-estimator-id-9\" type=\"checkbox\" checked><label for=\"sk-estimator-id-9\" class=\"sk-toggleable__label sk-toggleable__label-arrow\">RandomForestRegressor</label><div class=\"sk-toggleable__content\"><pre>RandomForestRegressor(max_leaf_nodes=40, n_estimators=150, random_state=42)</pre></div></div></div></div></div>"
      ],
      "text/plain": [
       "RandomForestRegressor(max_leaf_nodes=40, n_estimators=150, random_state=42)"
      ]
     },
     "execution_count": 100,
     "metadata": {},
     "output_type": "execute_result"
    }
   ],
   "source": [
    "RF = RandomForestRegressor(max_leaf_nodes=40, n_estimators=150, random_state=42)\n",
    "RF.fit(X_train,y_train)"
   ]
  },
  {
   "cell_type": "markdown",
   "metadata": {},
   "source": [
    "MAE Result with normalization "
   ]
  },
  {
   "cell_type": "code",
   "execution_count": 103,
   "metadata": {},
   "outputs": [
    {
     "name": "stdout",
     "output_type": "stream",
     "text": [
      "0.0660982653835103\n"
     ]
    }
   ],
   "source": [
    "y_pred = RF.predict(X_test)\n",
    "MAE_STD = mean_absolute_error(y_test,y_pred)\n",
    "print(MAE_STD)"
   ]
  },
  {
   "cell_type": "markdown",
   "metadata": {},
   "source": [
    "MSE Result with normalization "
   ]
  },
  {
   "cell_type": "code",
   "execution_count": 106,
   "metadata": {},
   "outputs": [
    {
     "name": "stdout",
     "output_type": "stream",
     "text": [
      "0.00982496277887283\n"
     ]
    }
   ],
   "source": [
    "MSE_STD = mean_squared_error(y_test,y_pred)\n",
    "print(MSE_STD)"
   ]
  },
  {
   "cell_type": "markdown",
   "metadata": {},
   "source": [
    "Podemos analisar que o modelo obteve uma melhora considerável quando efetuamos a normalização dos dados. Com a padronização dos dados também obtivemos uma melhora quando comparado ao modelo sem a padronização, porém não foi um resultado maior do que o gerado pela normalização."
   ]
  }
 ],
 "metadata": {
  "kernelspec": {
   "display_name": "Python 3.10.4 64-bit (system)",
   "language": "python",
   "name": "python3"
  },
  "language_info": {
   "codemirror_mode": {
    "name": "ipython",
    "version": 3
   },
   "file_extension": ".py",
   "mimetype": "text/x-python",
   "name": "python",
   "nbconvert_exporter": "python",
   "pygments_lexer": "ipython3",
   "version": "3.10.4"
  },
  "orig_nbformat": 4,
  "vscode": {
   "interpreter": {
    "hash": "43241d3e6bb1972c551f4c6aa4b3e6bb2f4e84c18abfcaae8493a58a132971b8"
   }
  }
 },
 "nbformat": 4,
 "nbformat_minor": 2
}
