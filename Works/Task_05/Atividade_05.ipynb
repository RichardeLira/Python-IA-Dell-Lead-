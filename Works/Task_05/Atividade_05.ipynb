{
 "cells": [
  {
   "cell_type": "markdown",
   "metadata": {},
   "source": [
    "Library Imports"
   ]
  },
  {
   "cell_type": "code",
   "execution_count": 6,
   "metadata": {},
   "outputs": [],
   "source": [
    "import re\n",
    "from PyPDF2 import PdfReader"
   ]
  },
  {
   "cell_type": "markdown",
   "metadata": {},
   "source": [
    "# PARTE 1"
   ]
  },
  {
   "cell_type": "markdown",
   "metadata": {},
   "source": [
    "# Escreva um programa para determinar se uma string representa um número (inteiro ou real) válido. Exemplos de números válidos: 10, +5, −3, −10.3, 0.80, 2.8033."
   ]
  },
  {
   "cell_type": "code",
   "execution_count": 430,
   "metadata": {},
   "outputs": [],
   "source": [
    "def Is_Real_Number(number):\n",
    "    standard_ = re.compile(r'\\A[,+,-]?\\d+[.]?\\d*')\n",
    "    check = standard_.findall(number)   \n",
    "    if len(check) == 0:\n",
    "        return 'Error'\n",
    "    else:\n",
    "        return check"
   ]
  },
  {
   "cell_type": "code",
   "execution_count": 434,
   "metadata": {},
   "outputs": [
    {
     "name": "stdout",
     "output_type": "stream",
     "text": [
      "['-121.234234234']\n",
      "['10']\n",
      "['-10.3']\n",
      "['2.8033']\n",
      "Error\n",
      "Error\n",
      "Error\n"
     ]
    }
   ],
   "source": [
    "numbers = ['-121.234234234','10','-10.3','2.8033', '--23489', '++4234234','asdas+45345']\n",
    "for number in numbers:\n",
    "    print(Is_Real_Number(number))"
   ]
  },
  {
   "cell_type": "markdown",
   "metadata": {},
   "source": [
    "# Escreva um programa para determinar se uma string representa um número de telefone (fixo ou celular) válido. Exemplos de números de telefones válidos: • (19) 3123-4567 • 193123-4567 • (019)3123-4567 • (19)31234567 • 1931234567 • (019) 91234 5678 • (019)91234 5678 • 019912345678 • 19 91234 5678 • 1991234 5678"
   ]
  },
  {
   "cell_type": "code",
   "execution_count": 286,
   "metadata": {},
   "outputs": [],
   "source": [
    "def Is_Number_Cell(number):\n",
    "    standard_ = re.compile(r'[(]{0,1}[0-9]{2,3}[)]{0,1}[ ,-]{0,1}[0-9]{4,5}[ ,-]{0,1}[0-9]{4,5}')\n",
    "    check = standard_.findall(number)\n",
    "    if len(check) == 0:\n",
    "        return 'Error'\n",
    "    else:\n",
    "        return check"
   ]
  },
  {
   "cell_type": "code",
   "execution_count": 287,
   "metadata": {},
   "outputs": [
    {
     "name": "stdout",
     "output_type": "stream",
     "text": [
      "['(019)3123-4567']\n",
      "['193123-4567']\n",
      "['(019) 91234 5678']\n",
      "Error\n",
      "Error\n"
     ]
    }
   ],
   "source": [
    "numbers = ['(019)3123-4567', '193123-4567', '(019) 91234 5678', '[a234] 345345', '&45& 423423 949']\n",
    "for number in numbers:\n",
    "    print(Is_Number_Cell(number))"
   ]
  },
  {
   "cell_type": "markdown",
   "metadata": {},
   "source": [
    "# Com base no exercício anterior, escreva uma função que recebe como parâmetro uma string que representa um número de telefone (fixo ou celular). Caso o número não seja válido, sua função deve retornar None. Caso contrário, ela deve retornar uma string no formato (XX) XXXXX-XXXX, onde X representa um dígito do telefone"
   ]
  },
  {
   "cell_type": "code",
   "execution_count": null,
   "metadata": {},
   "outputs": [],
   "source": [
    "def Is_Number_Cell(number):\n",
    "    standard_ = re.compile(r'[(]{0,1}[0-9]{2,3}[)]{0,1}[ ,-]{0,1}[0-9]{4,5}[ ,-]{0,1}[0-9]{4,5}')\n",
    "    check = standard_.findall(number)\n",
    "    if len(check) == 0: \n",
    "        return None \n",
    "    else:\n",
    "        return check"
   ]
  },
  {
   "cell_type": "code",
   "execution_count": 280,
   "metadata": {},
   "outputs": [],
   "source": [
    "number = \"88996161480\"\n",
    "standard_ = re.compile(r'[(]{0,1}[0-9]{2,3}[)]{0,1}[ ,-]{0,1}[0-9]{4,5}[ ,-]{0,1}[0-9]{4,5}')\n",
    "check = standard_.findall(number)"
   ]
  },
  {
   "cell_type": "code",
   "execution_count": 284,
   "metadata": {},
   "outputs": [
    {
     "data": {
      "text/plain": [
       "['88996161480']"
      ]
     },
     "execution_count": 284,
     "metadata": {},
     "output_type": "execute_result"
    }
   ],
   "source": [
    "check"
   ]
  },
  {
   "cell_type": "code",
   "execution_count": 283,
   "metadata": {},
   "outputs": [
    {
     "data": {
      "text/plain": [
       "'(8996161480'"
      ]
     },
     "execution_count": 283,
     "metadata": {},
     "output_type": "execute_result"
    }
   ],
   "source": [
    "re.sub(r\"\\A[0-9]\",\"(\",check[0], count=1)\n",
    "re.s"
   ]
  },
  {
   "cell_type": "markdown",
   "metadata": {},
   "source": [
    "# PARTE 2\n"
   ]
  },
  {
   "cell_type": "markdown",
   "metadata": {},
   "source": [
    "# Use pyPDF2 (ou outra lib) para abrir o arquivo Business_Proposal.pdf e extraia o texto da página 2 "
   ]
  },
  {
   "cell_type": "code",
   "execution_count": 11,
   "metadata": {},
   "outputs": [],
   "source": [
    "reader = PdfReader(r'C:\\Users\\Rícharde\\Documents\\Dell lead\\Atividade 05\\Business_Proposal.pdf')\n",
    "page = reader.pages[1]\n",
    "text = page.extract_text()"
   ]
  },
  {
   "cell_type": "code",
   "execution_count": 12,
   "metadata": {},
   "outputs": [
    {
     "data": {
      "text/plain": [
       "'AUTHORS:  \\nAmy Baker, Finance Chair, x345, abaker@ourcompany.com  \\nChris Donaldson, Accounting Dir., x621, cdonaldson@ourcompany.com  \\nErin Freeman, Sr. VP, x879, efreeman@ourcompany.com  '"
      ]
     },
     "execution_count": 12,
     "metadata": {},
     "output_type": "execute_result"
    }
   ],
   "source": [
    "text"
   ]
  },
  {
   "cell_type": "markdown",
   "metadata": {},
   "source": [
    "# Crie um arquivo txt ou csv, e insira as informações da página 2 do PDF neste arquivo. Header sugerido: Primeiro nome, Último nome, Cargo, Ramal, E-mail"
   ]
  },
  {
   "cell_type": "code",
   "execution_count": 214,
   "metadata": {},
   "outputs": [],
   "source": [
    "with open(r\"C:\\Users\\Rícharde\\Documents\\Dell lead\\Atividade 05\\header.txt\",\"w\") as file:\n",
    "    data_file = file.write(text)"
   ]
  },
  {
   "cell_type": "code",
   "execution_count": 215,
   "metadata": {},
   "outputs": [
    {
     "data": {
      "text/plain": [
       "188"
      ]
     },
     "execution_count": 215,
     "metadata": {},
     "output_type": "execute_result"
    }
   ],
   "source": [
    "data_file"
   ]
  },
  {
   "cell_type": "markdown",
   "metadata": {},
   "source": [
    "# Utilizando o resultado da questão 4, extraia os e-mails utilizando expressões regulares. Resultado: ['abaker@ourcompany.com', 'cdonaldson@ourcompany.com', 'efreeman@ourcompany.com']"
   ]
  },
  {
   "cell_type": "code",
   "execution_count": 276,
   "metadata": {},
   "outputs": [],
   "source": [
    "def Email_Shearch(e_mail):\n",
    "    standard_ = re.compile(r'[A-Za-z0-9_.+-]+[@]{1}[A-Za-z0-9_.+-]+[(.com|.br|.com.br)]')\n",
    "    check = standard_.findall(e_mail)\n",
    "    if len(check) == 0:\n",
    "        return 'Error'\n",
    "    else:\n",
    "        return check"
   ]
  },
  {
   "cell_type": "code",
   "execution_count": 279,
   "metadata": {},
   "outputs": [
    {
     "name": "stdout",
     "output_type": "stream",
     "text": [
      "['abaker@ourcompany.com', 'cdonaldson@ourcompany.com', 'efreeman@ourcompany.com']\n"
     ]
    }
   ],
   "source": [
    "print(Email_Shearch(text))"
   ]
  }
 ],
 "metadata": {
  "kernelspec": {
   "display_name": "Python 3.10.4 64-bit (system)",
   "language": "python",
   "name": "python3"
  },
  "language_info": {
   "codemirror_mode": {
    "name": "ipython",
    "version": 3
   },
   "file_extension": ".py",
   "mimetype": "text/x-python",
   "name": "python",
   "nbconvert_exporter": "python",
   "pygments_lexer": "ipython3",
   "version": "3.10.4"
  },
  "orig_nbformat": 4,
  "vscode": {
   "interpreter": {
    "hash": "43241d3e6bb1972c551f4c6aa4b3e6bb2f4e84c18abfcaae8493a58a132971b8"
   }
  }
 },
 "nbformat": 4,
 "nbformat_minor": 2
}
